{
 "cells": [
  {
   "cell_type": "markdown",
   "metadata": {},
   "source": [
    "# IT - 550 Information Retrieval Assignment - 9\n",
    "### Student ID - 202011032\n",
    "### User-based and Item-based Collaborative Filtering Recommendation Systems <br/>Dataset - MovieLens 100K Dataset"
   ]
  },
  {
   "cell_type": "markdown",
   "metadata": {},
   "source": [
    "## Importing required classes and functions from `scikit-surprise` module and loading the MovieLens 100K Dataset"
   ]
  },
  {
   "cell_type": "code",
   "execution_count": 1,
   "metadata": {},
   "outputs": [],
   "source": [
    "from surprise import Dataset\n",
    "# from surprise import KNNBasic\n",
    "from surprise import KNNBaseline\n",
    "from surprise import accuracy\n",
    "from surprise.model_selection import train_test_split\n",
    "from surprise.model_selection import cross_validate"
   ]
  },
  {
   "cell_type": "code",
   "execution_count": 2,
   "metadata": {},
   "outputs": [],
   "source": [
    "data = Dataset.load_builtin(name='ml-100k')"
   ]
  },
  {
   "cell_type": "code",
   "execution_count": 3,
   "metadata": {},
   "outputs": [],
   "source": [
    "# Splitting the data into 80:20 ratio for training and testing\n",
    "trainset, testset = train_test_split(data, test_size=0.2)"
   ]
  },
  {
   "cell_type": "markdown",
   "metadata": {},
   "source": [
    "## User-based collaborative Filtering\n",
    "- Using basic KNN algorithm with top 30 neighbours/users for prediction\n",
    "- Using cosine similarity measure for similarity\n",
    "- Using Stochastic Gradient Descent(SGD) for baseline estimation\n",
    "- Cross-validating the approach on the training set\n",
    "- Checking accuracy of the approach using RMSE on the testing set"
   ]
  },
  {
   "cell_type": "code",
   "execution_count": 4,
   "metadata": {},
   "outputs": [],
   "source": [
    "sim_options = {\"name\": \"cosine\", \"user-based\": True}\n",
    "algo_u = KNNBaseline(k=40, sim_options=sim_options)"
   ]
  },
  {
   "cell_type": "code",
   "execution_count": 5,
   "metadata": {},
   "outputs": [
    {
     "name": "stdout",
     "output_type": "stream",
     "text": [
      "Estimating biases using als...\n",
      "Computing the cosine similarity matrix...\n",
      "Done computing similarity matrix.\n",
      "Estimating biases using als...\n",
      "Computing the cosine similarity matrix...\n",
      "Done computing similarity matrix.\n",
      "Estimating biases using als...\n",
      "Computing the cosine similarity matrix...\n",
      "Done computing similarity matrix.\n",
      "Estimating biases using als...\n",
      "Computing the cosine similarity matrix...\n",
      "Done computing similarity matrix.\n",
      "Estimating biases using als...\n",
      "Computing the cosine similarity matrix...\n",
      "Done computing similarity matrix.\n",
      "Evaluating RMSE of algorithm KNNBaseline on 5 split(s).\n",
      "\n",
      "                  Fold 1  Fold 2  Fold 3  Fold 4  Fold 5  Mean    Std     \n",
      "RMSE (testset)    0.9361  0.9317  0.9391  0.9335  0.9302  0.9341  0.0032  \n",
      "Fit time          2.17    2.33    2.27    2.21    2.27    2.25    0.05    \n",
      "Test time         4.50    4.53    4.63    4.48    4.30    4.49    0.11    \n"
     ]
    },
    {
     "data": {
      "text/plain": [
       "{'test_rmse': array([0.93606955, 0.93169392, 0.93910061, 0.93353212, 0.93017032]),\n",
       " 'fit_time': (2.1723716259002686,\n",
       "  2.3289098739624023,\n",
       "  2.2706432342529297,\n",
       "  2.2128779888153076,\n",
       "  2.270914077758789),\n",
       " 'test_time': (4.498136758804321,\n",
       "  4.533735513687134,\n",
       "  4.628356218338013,\n",
       "  4.476269483566284,\n",
       "  4.302533388137817)}"
      ]
     },
     "execution_count": 5,
     "metadata": {},
     "output_type": "execute_result"
    }
   ],
   "source": [
    "# Run 5-fold cross-validation and print results\n",
    "cross_validate(algo_u, data, measures=['RMSE'], cv=5, verbose=True)"
   ]
  },
  {
   "cell_type": "code",
   "execution_count": 6,
   "metadata": {},
   "outputs": [
    {
     "name": "stdout",
     "output_type": "stream",
     "text": [
      "Estimating biases using als...\n",
      "Computing the cosine similarity matrix...\n",
      "Done computing similarity matrix.\n",
      "RMSE: 0.9343\n"
     ]
    },
    {
     "data": {
      "text/plain": [
       "0.9342813964380853"
      ]
     },
     "execution_count": 6,
     "metadata": {},
     "output_type": "execute_result"
    }
   ],
   "source": [
    "# Train the algorithm on the trainset, and predict ratings for the testset\n",
    "preds_u = algo_u.fit(trainset).test(testset)\n",
    "\n",
    "# Compute RMSE to check accuracy\n",
    "accuracy.rmse(preds_u)"
   ]
  },
  {
   "cell_type": "markdown",
   "metadata": {},
   "source": [
    "## Item-based collaborative Filtering\n",
    "- Using basic KNN algorithm with top 30 neighbours/items for prediction\n",
    "- Using cosine similarity measure for similarity\n",
    "- Using Stochastic Gradient Descent(SGD) for baseline estimation\n",
    "- Cross-validating the approach on the training set\n",
    "- Checking accuracy of the approach using RMSE on the testing set"
   ]
  },
  {
   "cell_type": "code",
   "execution_count": 7,
   "metadata": {},
   "outputs": [],
   "source": [
    "sim_options = {\"name\": \"cosine\", \"user-based\": False}\n",
    "algo_i = KNNBaseline(k=40, sim_options=sim_options)"
   ]
  },
  {
   "cell_type": "code",
   "execution_count": 8,
   "metadata": {},
   "outputs": [
    {
     "name": "stdout",
     "output_type": "stream",
     "text": [
      "Estimating biases using als...\n",
      "Computing the cosine similarity matrix...\n",
      "Done computing similarity matrix.\n",
      "Estimating biases using als...\n",
      "Computing the cosine similarity matrix...\n",
      "Done computing similarity matrix.\n",
      "Estimating biases using als...\n",
      "Computing the cosine similarity matrix...\n",
      "Done computing similarity matrix.\n",
      "Estimating biases using als...\n",
      "Computing the cosine similarity matrix...\n",
      "Done computing similarity matrix.\n",
      "Estimating biases using als...\n",
      "Computing the cosine similarity matrix...\n",
      "Done computing similarity matrix.\n",
      "Evaluating RMSE of algorithm KNNBaseline on 5 split(s).\n",
      "\n",
      "                  Fold 1  Fold 2  Fold 3  Fold 4  Fold 5  Mean    Std     \n",
      "RMSE (testset)    0.9371  0.9340  0.9396  0.9277  0.9307  0.9338  0.0043  \n",
      "Fit time          2.07    2.00    2.03    1.99    2.00    2.02    0.03    \n",
      "Test time         4.14    4.89    4.30    4.52    4.36    4.44    0.25    \n"
     ]
    },
    {
     "data": {
      "text/plain": [
       "{'test_rmse': array([0.9370892 , 0.93404609, 0.93960291, 0.92768457, 0.9307076 ]),\n",
       " 'fit_time': (2.071254014968872,\n",
       "  1.997800588607788,\n",
       "  2.030951976776123,\n",
       "  1.9946470260620117,\n",
       "  1.9982123374938965),\n",
       " 'test_time': (4.1448023319244385,\n",
       "  4.892037391662598,\n",
       "  4.29661226272583,\n",
       "  4.52424955368042,\n",
       "  4.36464262008667)}"
      ]
     },
     "execution_count": 8,
     "metadata": {},
     "output_type": "execute_result"
    }
   ],
   "source": [
    "# Run 5-fold cross-validation and print results\n",
    "cross_validate(algo_i, data, measures=['RMSE'], cv=5, verbose=True)"
   ]
  },
  {
   "cell_type": "code",
   "execution_count": 9,
   "metadata": {},
   "outputs": [
    {
     "name": "stdout",
     "output_type": "stream",
     "text": [
      "Estimating biases using als...\n",
      "Computing the cosine similarity matrix...\n",
      "Done computing similarity matrix.\n",
      "RMSE: 0.9343\n"
     ]
    },
    {
     "data": {
      "text/plain": [
       "0.9342813964380853"
      ]
     },
     "execution_count": 9,
     "metadata": {},
     "output_type": "execute_result"
    }
   ],
   "source": [
    "# Train the algorithm on the trainset, and predict ratings for the testset\n",
    "preds_i = algo_i.fit(trainset).test(testset)\n",
    "\n",
    "# Compute RMSE to check accuracy\n",
    "accuracy.rmse(preds_i)"
   ]
  },
  {
   "cell_type": "markdown",
   "metadata": {},
   "source": [
    "## Results\n",
    "1. **User-based collaborative filtering**:\n",
    "    - Trainset 5-fold Cross validation RMSE = 0.9341 ± 0.0032\n",
    "    - Testset RMSE = 0.9343\n",
    "2. **Item-based collaborative filtering**:\n",
    "    - Trainset 5-fold Cross validation RMSE = 0.9338 ± 0.0043\n",
    "    - Testset RMSE = 0.9343"
   ]
  }
 ],
 "metadata": {
  "kernelspec": {
   "display_name": "Python 3",
   "language": "python",
   "name": "python3"
  },
  "language_info": {
   "codemirror_mode": {
    "name": "ipython",
    "version": 3
   },
   "file_extension": ".py",
   "mimetype": "text/x-python",
   "name": "python",
   "nbconvert_exporter": "python",
   "pygments_lexer": "ipython3",
   "version": "3.8.5"
  }
 },
 "nbformat": 4,
 "nbformat_minor": 4
}
