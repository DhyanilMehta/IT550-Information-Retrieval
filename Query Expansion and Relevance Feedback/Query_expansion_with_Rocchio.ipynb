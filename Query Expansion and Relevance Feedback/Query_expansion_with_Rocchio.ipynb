{
  "nbformat": 4,
  "nbformat_minor": 0,
  "metadata": {
    "colab": {
      "name": "IT550_IR_Assignment6.ipynb",
      "provenance": [],
      "collapsed_sections": [],
      "toc_visible": true
    },
    "kernelspec": {
      "name": "python3",
      "display_name": "Python 3"
    }
  },
  "cells": [
    {
      "cell_type": "markdown",
      "metadata": {
        "id": "59U12jyN67m3"
      },
      "source": [
        "## IT550 Information Retrieval Assignment - 6\r\n",
        "### Student ID - 202011032"
      ]
    },
    {
      "cell_type": "markdown",
      "metadata": {
        "id": "x2ZFLopnGpw8"
      },
      "source": [
        "## Importing necessary libraries and setting paths"
      ]
    },
    {
      "cell_type": "code",
      "metadata": {
        "id": "Wwrcyvl8603h",
        "colab": {
          "base_uri": "https://localhost:8080/"
        },
        "outputId": "b09015c2-3891-4e3a-c483-c1da241dd326"
      },
      "source": [
        "!pip install --upgrade gensim\r\n",
        "import pprint\r\n",
        "import os\r\n",
        "import re\r\n",
        "import json\r\n",
        "import gzip\r\n",
        "import logging\r\n",
        "import nltk\r\n",
        "import scipy\r\n",
        "import numpy as np\r\n",
        "import pandas as pd\r\n",
        "from smart_open import open, register_compressor\r\n",
        "from sklearn.feature_extraction.text import TfidfVectorizer\r\n",
        "from gensim.parsing.preprocessing import preprocess_string\r\n",
        "from gensim import corpora, models\r\n",
        "\r\n",
        "nltk.download('stopwords')\r\n",
        "nltk.download('wordnet')\r\n",
        "nltk.download('punkt')\r\n",
        "nltk.download('averaged_perceptron_tagger')\r\n",
        "\r\n",
        "logging.basicConfig(format='%(asctime)s : %(levelname)s : %(message)s', level=logging.INFO)\r\n",
        "\r\n",
        "# FILE_PATHS = [os.path.join(dp, f) for dp, dn, filenames in os.walk(PATH) for f in filenames]\r\n",
        "DATASET_PATH = \"/content/drive/MyDrive/FIRE_Dataset_EN_2010/English-Data.tgz\"\r\n",
        "TOPICS_PATH = \"/content/drive/MyDrive/FIRE_Dataset_EN_2010/en.topics.76-125.2010.txt\"\r\n",
        "QRELS_PATH = \"/content/drive/MyDrive/FIRE_Dataset_EN_2010/en.qrels.76-125.2010.rel.txt\""
      ],
      "execution_count": 1,
      "outputs": [
        {
          "output_type": "stream",
          "text": [
            "Collecting gensim\n",
            "\u001b[?25l  Downloading https://files.pythonhosted.org/packages/5c/4e/afe2315e08a38967f8a3036bbe7e38b428e9b7a90e823a83d0d49df1adf5/gensim-3.8.3-cp37-cp37m-manylinux1_x86_64.whl (24.2MB)\n",
            "\u001b[K     |████████████████████████████████| 24.2MB 66.0MB/s \n",
            "\u001b[?25hRequirement already satisfied, skipping upgrade: scipy>=0.18.1 in /usr/local/lib/python3.7/dist-packages (from gensim) (1.4.1)\n",
            "Requirement already satisfied, skipping upgrade: six>=1.5.0 in /usr/local/lib/python3.7/dist-packages (from gensim) (1.15.0)\n",
            "Requirement already satisfied, skipping upgrade: smart-open>=1.8.1 in /usr/local/lib/python3.7/dist-packages (from gensim) (4.2.0)\n",
            "Requirement already satisfied, skipping upgrade: numpy>=1.11.3 in /usr/local/lib/python3.7/dist-packages (from gensim) (1.19.5)\n",
            "Installing collected packages: gensim\n",
            "  Found existing installation: gensim 3.6.0\n",
            "    Uninstalling gensim-3.6.0:\n",
            "      Successfully uninstalled gensim-3.6.0\n",
            "Successfully installed gensim-3.8.3\n",
            "[nltk_data] Downloading package stopwords to /root/nltk_data...\n",
            "[nltk_data]   Unzipping corpora/stopwords.zip.\n",
            "[nltk_data] Downloading package wordnet to /root/nltk_data...\n",
            "[nltk_data]   Unzipping corpora/wordnet.zip.\n",
            "[nltk_data] Downloading package punkt to /root/nltk_data...\n",
            "[nltk_data]   Unzipping tokenizers/punkt.zip.\n",
            "[nltk_data] Downloading package averaged_perceptron_tagger to\n",
            "[nltk_data]     /root/nltk_data...\n",
            "[nltk_data]   Unzipping taggers/averaged_perceptron_tagger.zip.\n"
          ],
          "name": "stdout"
        }
      ]
    },
    {
      "cell_type": "markdown",
      "metadata": {
        "id": "nw5HCraMG1b7"
      },
      "source": [
        "## Creating classes for FIRE corpus, Query expansion and Rocchio algorithm"
      ]
    },
    {
      "cell_type": "code",
      "metadata": {
        "id": "vdxeHsNrHHTO"
      },
      "source": [
        "class FIRECorpus:\r\n",
        "    \r\n",
        "    def __init__(self, path):\r\n",
        "        self._docno_list = []\r\n",
        "        self._text_list = []\r\n",
        "        self._tokens_list = []\r\n",
        "        self._dataset_path = path\r\n",
        "        self._process_corpus()\r\n",
        "    \r\n",
        "    def __iter__(self):\r\n",
        "        for text in self._tokens_list:\r\n",
        "            yield text\r\n",
        "    \r\n",
        "    @property\r\n",
        "    def docno_list(self):\r\n",
        "        return self._docno_list\r\n",
        "    \r\n",
        "    @property\r\n",
        "    def text_list(self):\r\n",
        "        return self._text_list\r\n",
        "\r\n",
        "    @property\r\n",
        "    def tokens_list(self):\r\n",
        "        return self._tokens_list\r\n",
        "\r\n",
        "    def _handle_tgz(self, fileobj, mode):\r\n",
        "        return gzip.GzipFile(fileobj=fileobj, mode=mode)\r\n",
        "\r\n",
        "    def _process_corpus(self):\r\n",
        "        register_compressor('.tgz', self._handle_tgz)\r\n",
        "\r\n",
        "        self._docno_list = []\r\n",
        "        self._text_list = []\r\n",
        "        text_str = \"\"\r\n",
        "        text_flag = 0\r\n",
        "\r\n",
        "        for line in open(self._dataset_path, encoding='utf-8'):\r\n",
        "            if line.startswith('<DOCNO>'):\r\n",
        "                self._docno_list.append(line.replace('<DOCNO>', '').replace('</DOCNO>', '').strip())\r\n",
        "                continue\r\n",
        "            \r\n",
        "            if line.startswith('<TEXT>'):\r\n",
        "                text_flag = 1\r\n",
        "                continue\r\n",
        "            \r\n",
        "            if text_flag:\r\n",
        "                if line.startswith('</TEXT>'):\r\n",
        "                    text_flag = 0\r\n",
        "                    text_tokens = list(map(str, preprocess_string(text_str)))\r\n",
        "                    \r\n",
        "                    self._text_list.append(text_str)\r\n",
        "                    self._tokens_list.append(text_tokens)\r\n",
        "                    \r\n",
        "                    text_tokens = []\r\n",
        "                    text_str = \"\"\r\n",
        "                    continue\r\n",
        "                \r\n",
        "                text_str += \" \" + line.strip()\r\n"
      ],
      "execution_count": 61,
      "outputs": []
    },
    {
      "cell_type": "code",
      "metadata": {
        "id": "ietSs-fSO9VX"
      },
      "source": [
        "class QueryExpansionRocchio:\r\n",
        "    \r\n",
        "    def query_expansion(self, queries):\r\n",
        "        from nltk.corpus import wordnet\r\n",
        "        # For each word finding at most 10 synonyms if available using wordnet\r\n",
        "        queries_with_synonyms = []\r\n",
        "        count = 0\r\n",
        "        for i in range(50):\r\n",
        "            synonyms = []\r\n",
        "            for x in queries[i].split():\r\n",
        "                synonyms.append(x)\r\n",
        "                for syn in wordnet.synsets(x):\r\n",
        "                    for lemma in syn.lemmas():\r\n",
        "                        if count < 10:\r\n",
        "                            if lemma.name() not in synonyms:\r\n",
        "                                if lemma.name() not in queries[i].split():\r\n",
        "                                    synonyms.append(lemma.name())\r\n",
        "                                    #print(synonyms)\r\n",
        "                                    count += 1\r\n",
        "            count = 0\r\n",
        "            queries_with_synonyms.append(' '.join(synonyms))\r\n",
        "        return queries_with_synonyms\r\n",
        "    \r\n",
        "    def rocchio_query_vec(self, query_mat, doc_mat, qrels, docno_list, alpha=1, beta=0.75, gamma=0.15):\r\n",
        "        # Get the sum of all document vectors\r\n",
        "        docs_sum = np.sum(doc_mat, axis=0)\r\n",
        "\r\n",
        "        # Get the sum of relevant document vectors per query\r\n",
        "        sum_rel_doc = np.zeros((50,350))\r\n",
        "        for q_no in range(50):\r\n",
        "            for f_name in qrels[q_no + 76]:\r\n",
        "                sum_rel_doc[q_no, :] += doc_mat[docno_list.index(f_name), :]\r\n",
        "\r\n",
        "        # Get the sum of non relevant document vectors per query\r\n",
        "        sum_non_rel_doc = np.zeros((50,350))\r\n",
        "        for q_no in range(50):\r\n",
        "            sum_non_rel_doc[q_no, :] = docs_sum - sum_rel_doc[q_no, :]\r\n",
        "\r\n",
        "        # Apply Rocchio's Equation\r\n",
        "        new_queries = np.zeros((50,350))\r\n",
        "        for q_no in range(50):\r\n",
        "            len_rel_docs = len(qrels[q_no + 76])\r\n",
        "            if len_rel_docs != 0:\r\n",
        "                new_queries[q_no, :] = (alpha * query_mat[q_no, :]) + ((beta / len_rel_docs) * sum_rel_doc[q_no, :]) - ((gamma / (doc_mat.shape[0] - len_rel_docs)) * sum_non_rel_doc[q_no, :])\r\n",
        "            else:\r\n",
        "                new_queries[q_no, :] = query_mat[q_no, :]\r\n",
        "\r\n",
        "        # Return new query vector\r\n",
        "        return new_queries\r\n"
      ],
      "execution_count": 7,
      "outputs": []
    },
    {
      "cell_type": "markdown",
      "metadata": {
        "id": "9Es5kuv5BGWc"
      },
      "source": [
        "## Creating class for extracting queries and qrels, and performing retrieval and calculating MAP score"
      ]
    },
    {
      "cell_type": "code",
      "metadata": {
        "id": "awEKBarfAxlr"
      },
      "source": [
        "class QueryQrelsExtractor:\r\n",
        "    \r\n",
        "    def extract_queries(self, queries_path):\r\n",
        "        from bs4 import BeautifulSoup\r\n",
        "        with open(queries_path) as topics_file:\r\n",
        "            soup = BeautifulSoup(topics_file, features=\"html.parser\")\r\n",
        "\r\n",
        "            qid_all = [int(num.text) for num in soup.find_all(\"num\")]\r\n",
        "            # Here we are taking text/query from the <desc> tag.\r\n",
        "            text_all = [' '.join(preprocess_string(desc.text)) for desc in soup.find_all(\"desc\")]\r\n",
        "        \r\n",
        "        return {qid: query for qid, query in zip(qid_all, text_all)}\r\n",
        "    \r\n",
        "    def extract_qrels(self, qrels_path):\r\n",
        "        qrels = {}\r\n",
        "        with open(qrels_path) as qrels_file:\r\n",
        "            lines = qrels_file.readlines()\r\n",
        "            for line in lines:\r\n",
        "                line = line.strip()\r\n",
        "                if line.endswith('1'):\r\n",
        "                    line = line.split()\r\n",
        "                    qid = int(line[0])\r\n",
        "                    qrels[qid] = qrels.get(qid, []) + [line[2]]\r\n",
        "        return qrels\r\n"
      ],
      "execution_count": 8,
      "outputs": []
    },
    {
      "cell_type": "code",
      "metadata": {
        "id": "vmmS8t4vDRLH"
      },
      "source": [
        "class Retrieval:\r\n",
        "\r\n",
        "    def cosine_similarity(self, vec1, vec2):\r\n",
        "        return np.dot(vec1, vec2) / ((np.linalg.norm(vec1))*(np.linalg.norm(vec2)))\r\n",
        "\r\n",
        "    def perform_retrieval(self, doc_vectors, query_vectors):\r\n",
        "        '''\r\n",
        "        Calculates cosine similarity of query vectors with document vectors and\r\n",
        "        retrieves top 10 documents for each query with their scores.\r\n",
        "        '''\r\n",
        "        top10docs_per_query = {qid: dict() for qid in query_vectors.keys()}\r\n",
        "        \r\n",
        "        for i, (docno, doc_vec) in enumerate(doc_vectors.items()):\r\n",
        "            is_doc_empty = False\r\n",
        "            for qid, query_vec in query_vectors.items():\r\n",
        "                if all(doc_vec == 0):\r\n",
        "                    top10docs_per_query[qid].update({docno: 0.0})\r\n",
        "                    is_doc_empty = True\r\n",
        "                else:\r\n",
        "                    top10docs_per_query[qid].update({\r\n",
        "                        docno: self.cosine_similarity(doc_vec, query_vec) \r\n",
        "                    })\r\n",
        "            \r\n",
        "            if is_doc_empty:\r\n",
        "                print(f\"Assigned 0.0 score to empty document {docno} for all queries.\")\r\n",
        "            if i % 10000 == 0:\r\n",
        "                print(f\"Processed {i+1} documents.\")\r\n",
        "\r\n",
        "        print(\"\\nRetrieving top 10 documents for each query...\")\r\n",
        "        top10docs_per_query = {\r\n",
        "            qid: {\r\n",
        "                docno: score \r\n",
        "                for docno, score \r\n",
        "                in sorted(top10docs_per_query[qid].items(), \r\n",
        "                        key= lambda x: x[1], reverse=True)[:10]\r\n",
        "            } \r\n",
        "            for qid in top10docs_per_query.keys()\r\n",
        "        }\r\n",
        "\r\n",
        "        return top10docs_per_query\r\n",
        "    \r\n",
        "    def get_avg_precision(self, rank_list, qrels):\r\n",
        "        '''Returns a dictionary with qids and their relevant average precisions.'''\r\n",
        "        # Store (precision x relevance) as a list for a query\r\n",
        "        q_prec_rel = {qid: 0 for qid in qrels.keys()}\r\n",
        "\r\n",
        "        for qid, rank_dict in sorted(rank_list.items()):\r\n",
        "            rel_doc_ctr = 0\r\n",
        "            avg_prec = 0.0\r\n",
        "            for pos, (doc, _) in enumerate(sorted(rank_dict.items(), key=lambda x: x[1], reverse=True), 1):\r\n",
        "                # Calculate precision@pos+1 x relevance@pos+1 for the retrieved documents\r\n",
        "                if doc in qrels[qid]:\r\n",
        "                    rel_doc_ctr += 1\r\n",
        "                    avg_prec += rel_doc_ctr / (pos + 1)\r\n",
        "                # print(f\"doc in qrels: {doc in qrels[qid]}, pos+1: {pos+1}, rel_doc_ctr: {rel_doc_ctr}, avg_prec: {avg_prec}\")\r\n",
        "            if rel_doc_ctr != 0:\r\n",
        "                q_prec_rel[qid] = ( 1 / rel_doc_ctr ) * avg_prec\r\n",
        "            else:\r\n",
        "                q_prec_rel[qid] = avg_prec\r\n",
        "            # print(f\"Qid: {qid}, Avg_prec: {q_prec_rel[qid]}\")\r\n",
        "        \r\n",
        "        return q_prec_rel\r\n",
        "    \r\n",
        "    def get_map(self, avg_prec_dict):\r\n",
        "        return (1 / len(avg_prec_dict)) * sum(avg_prec_dict.values())\r\n"
      ],
      "execution_count": 35,
      "outputs": []
    },
    {
      "cell_type": "markdown",
      "metadata": {
        "id": "dU4tgC0fHM3F"
      },
      "source": [
        "## Performing Query expansion and Rocchio algorithm experiments on the corpus"
      ]
    },
    {
      "cell_type": "markdown",
      "metadata": {
        "id": "6N2W2t8-HNUM"
      },
      "source": [
        "### Using TF-IDF Document Representation"
      ]
    },
    {
      "cell_type": "markdown",
      "metadata": {
        "id": "p-8Bdblu8BYQ"
      },
      "source": [
        "Create FIRECorpus object (Takes around 5 mins to preprocess the corpus)"
      ]
    },
    {
      "cell_type": "code",
      "metadata": {
        "id": "CHaF_uvI8AwL"
      },
      "source": [
        "fire_corpus = FIRECorpus(DATASET_PATH)"
      ],
      "execution_count": 10,
      "outputs": []
    },
    {
      "cell_type": "code",
      "metadata": {
        "colab": {
          "base_uri": "https://localhost:8080/"
        },
        "id": "YHyYddgH9X9Y",
        "outputId": "4a725962-06ff-4f25-9879-75b757c1dfed"
      },
      "source": [
        "pprint.pprint(fire_corpus.text_list[:3])"
      ],
      "execution_count": 13,
      "outputs": [
        {
          "output_type": "stream",
          "text": [
            "['   The Telegraph - Calcutta : Frontpage  Delayer drug passes a test  - '\n",
            " 'Formulation to treat bedroom woes works in trials  Washington, May 24 '\n",
            " '(Reuters): The first drug formulated to treat premature ejaculation delays '\n",
            " 'climax and also increases reported satisfaction, researchers said.  The '\n",
            " 'drug, called dapoxetine, helped men delay their orgasms significantly and '\n",
            " 'doubled the numbers of men and their female partners reporting good sexual '\n",
            " 'satisfaction, they told a conference.  Premature ejaculation is a really '\n",
            " 'common problem, affecting between 10 and 30 per cent of all men. Here is '\n",
            " 'something for the first time that we have that works, said Dr Jon Pryor, '\n",
            " 'chairman of the department of urologic surgery at the University of '\n",
            " 'Minnesota, who led the study.  He said the drug worked quickly and with few '\n",
            " 'side-effects.  It gets in rapidly. It gets out rapidly. You can take it one '\n",
            " 'to three hours before intercourse, Pryor said in a telephone interview.  The '\n",
            " 'drug is being co-developed by Mountain View, California-based Alza Corp. and '\n",
            " 'Johnson amp; Johnson Pharmaceutical Services LLC. Ortho Pharmaceutical will '\n",
            " 'market the drug in the US if it receives Food and Drug Administration '\n",
            " 'approval. All three companies are units of Johnson amp; Johnson .  [Usually, '\n",
            " 'it takes about two-three years for a drug to reach India from the time of '\n",
            " 'FDA approval.]  In a study presented to a meeting of the American Urological '\n",
            " 'Association in San Antonio, Pryor said men who took dapoxetine at doses of '\n",
            " 'either 30 mg or 60 mg had a three to four-fold increase in ejaculation time '\n",
            " 'compared to men given a placebo.  The percentage of men rating control over '\n",
            " 'ejaculation as fair to very good increased from 2.5 per cent before getting '\n",
            " 'the drug to 51.8 percent afterwards for men who got the lower dose, and 58 '\n",
            " 'per cent of men given the higher dose.  Of the men who got the placebo, 3.5 '\n",
            " 'per cent reported fair to very good control before getting the dummy pill '\n",
            " 'and 26.4 per cent said so afterward.  The percentage of men rating sexual '\n",
            " 'satisfaction as good to very good almost doubled with dapoxetine 30 mg (20.2 '\n",
            " 'per cent to 38.7 per cent) and 60 mg (22.3 per cent to 46.5 per cent), the '\n",
            " 'company said.  Just under 25 per cent of men who got the placebo reported '\n",
            " 'good sexual satisfaction.  Only about 20 to 25 per cent of the mens partners '\n",
            " 'felt satisfied by sex before the men took the drug but this doubled to 47 '\n",
            " 'per cent after the men took the highest dose.  The trial was a phase III '\n",
            " 'clinical trial of 2,614 men, designed to be the last test before seeking FDA '\n",
            " 'approval.  It is a drug called a serotonin transporter inhibitor.  We know '\n",
            " 'that you need serotonin to ejaculate, Pryor said. But he said no one truly '\n",
            " 'understood how ejaculation works, or precisely how the drug affects '\n",
            " 'serotonin, an important message carrying chemical used by nerve cells.  The '\n",
            " 'companies have worked hard to define just what premature ejaculation is in '\n",
            " 'order to set parameters for testing the drug.  But they anticipate a good '\n",
            " 'market.  The American Urological Association estimates that premature '\n",
            " 'ejaculation affects anywhere between 27 per cent and 34 per cent of men '\n",
            " 'across all age ranges. Erectile dysfunction, the condition that made Pfizers '\n",
            " 'impotence drug Viagra into a blockbuster, affects an estimated 10 per cent '\n",
            " 'to 12 per cent of men.  Researchers working on the drug reported last month '\n",
            " 'that they could define premature ejaculation. They said a man with the '\n",
            " 'condition took 1.8 minutes to ejaculate after beginning intercourse compared '\n",
            " 'to 7.3 minutes for most men.    ',\n",
            " '   The Telegraph - Calcutta : Frontpage  Seal on IIT format  A STAFF '\n",
            " 'REPORTER  Calcutta, Sept. 17: The new selection procedure for the IIT Joint '\n",
            " 'Entrance Examination and a question paper format to reduce stress on '\n",
            " 'students was finalised today.  The Joint Admissions Board of the Indian '\n",
            " 'Institutes of Technology met to iron out certain kinks in the '\n",
            " 'recommendations made by a task force to overhaul the exam system.  Starting '\n",
            " 'next year, students wanting to take the JEE will have to secure 60 per cent '\n",
            " 'marks or a first division in the Class XII board exam (55 per cent for '\n",
            " 'SC/STs). They will be allowed only two attempts to clear the exam.    ',\n",
            " '   The Telegraph - Calcutta : Frontpage  Surprise  visit by  Bill Gates  A '\n",
            " 'STAFF REPORTER  Calcutta, Dec. 4: Microsoft chairman Bill Gates is flying '\n",
            " 'into Calcutta tomorrow on a brief visit to meet chief minister Buddhadeb '\n",
            " 'Bhattacharjee.  Government sources expect the meeting to take place around 5 '\n",
            " 'pm. The sources said the request for the meeting came from Gates and that '\n",
            " 'there was no agenda as the talks were set up at short notice.  Officially, '\n",
            " 'the visit is being described as a courtesy call by the Microsoft chief whose '\n",
            " 'formal engagements were to have begun on Tuesday in Delhi.  One reason for '\n",
            " 'Gatess visit could be pursuing Microsofts plan for a school education '\n",
            " 'project, using a specialised Windows operating system in Bengali.  It is '\n",
            " 'also possible that Gates wants to base one of his foundations anti-AIDS '\n",
            " 'projects in Bengal.  Whether or not he has any plans to start a software '\n",
            " 'development centre here will only be known after tomorrows meeting. '\n",
            " 'Microsoft now works out of Bangalore and Hyderabad.    ']\n"
          ],
          "name": "stdout"
        }
      ]
    },
    {
      "cell_type": "markdown",
      "metadata": {
        "id": "Qb8F4ggb7XUI"
      },
      "source": [
        "Represent Documents using TF-IDF"
      ]
    },
    {
      "cell_type": "code",
      "metadata": {
        "id": "tzkuE3oWImg6",
        "colab": {
          "base_uri": "https://localhost:8080/"
        },
        "outputId": "f4e28c85-7237-447b-95d4-e64113f0ea89"
      },
      "source": [
        "vectorizer = TfidfVectorizer(stop_words='english')\r\n",
        "fire_corpus_tfidf = vectorizer.fit_transform(fire_corpus.text_list)\r\n",
        "fire_corpus_tfidf.shape"
      ],
      "execution_count": 14,
      "outputs": [
        {
          "output_type": "execute_result",
          "data": {
            "text/plain": [
              "(125586, 250353)"
            ]
          },
          "metadata": {
            "tags": []
          },
          "execution_count": 14
        }
      ]
    },
    {
      "cell_type": "code",
      "metadata": {
        "colab": {
          "base_uri": "https://localhost:8080/"
        },
        "id": "4HMrxnFk9nBb",
        "outputId": "83bb387f-7da7-4adf-bb95-accebd50bb3e"
      },
      "source": [
        "fire_corpus_tfidf = fire_corpus_tfidf.T\r\n",
        "fire_corpus_tfidf.shape"
      ],
      "execution_count": 15,
      "outputs": [
        {
          "output_type": "execute_result",
          "data": {
            "text/plain": [
              "(250353, 125586)"
            ]
          },
          "metadata": {
            "tags": []
          },
          "execution_count": 15
        }
      ]
    },
    {
      "cell_type": "code",
      "metadata": {
        "colab": {
          "base_uri": "https://localhost:8080/"
        },
        "id": "ZxxZGMRH9_HP",
        "outputId": "61267a86-dc68-4b03-eaaf-1e3b41274ae3"
      },
      "source": [
        "# Perform Dimensionality Reduction using SVD on TF-IDF matrix to reduce processing\r\n",
        "u, s, vt = scipy.sparse.linalg.svds(fire_corpus_tfidf, k=350)\r\n",
        "\r\n",
        "s_diag = np.diag(s)\r\n",
        "s_diag = np.linalg.inv(s_diag)\r\n",
        "\r\n",
        "pprint.pprint(u.shape)\r\n",
        "pprint.pprint(vt.shape)\r\n",
        "pprint.pprint(s_diag.shape)\r\n",
        "\r\n",
        "vt = np.matrix.transpose(vt)"
      ],
      "execution_count": 16,
      "outputs": [
        {
          "output_type": "stream",
          "text": [
            "(250353, 350)\n",
            "(350, 125586)\n",
            "(350, 350)\n"
          ],
          "name": "stdout"
        }
      ]
    },
    {
      "cell_type": "code",
      "metadata": {
        "id": "N1cBCLYE_6XF"
      },
      "source": [
        "# Save u, s_diag and vt in disk\r\n",
        "import pickle\r\n",
        "\r\n",
        "name = '/content/drive/MyDrive/IR_Assignment6/data/TF_IDF_SVD_350_u'\r\n",
        "with open(name, 'wb') as obj:\r\n",
        "    pickle.dump(u, obj)\r\n",
        "\r\n",
        "name = '/content/drive/MyDrive/IR_Assignment6/data/TF_IDF_SVD_350_sdiag'\r\n",
        "with open(name, 'wb') as obj:\r\n",
        "    pickle.dump(s_diag, obj)\r\n",
        "\r\n",
        "name = '/content/drive/MyDrive/IR_Assignment6/data/TF_IDF_SVD_350_vt'\r\n",
        "with open(name, 'wb') as obj:\r\n",
        "    pickle.dump(vt, obj)"
      ],
      "execution_count": 18,
      "outputs": []
    },
    {
      "cell_type": "code",
      "metadata": {
        "id": "w9SoTAI0A25x"
      },
      "source": [
        "# Read u, s_diag, vt from disk\r\n",
        "\r\n",
        "with open('/content/drive/MyDrive/IR_Assignment6/data/TF_IDF_SVD_350_u','rb') as file:\r\n",
        "  u = pickle.load(file)\r\n",
        "\r\n",
        "with open('/content/drive/MyDrive/IR_Assignment6/data/TF_IDF_SVD_350_sdiag','rb') as file:\r\n",
        "  s_diag = pickle.load(file)\r\n",
        "\r\n",
        "with open('/content/drive/MyDrive/IR_Assignment6/data/TF_IDF_SVD_350_vt','rb') as file:\r\n",
        "  vt = pickle.load(file)"
      ],
      "execution_count": 19,
      "outputs": []
    },
    {
      "cell_type": "markdown",
      "metadata": {
        "id": "4GQEnuIZCZk2"
      },
      "source": [
        "Read queries and qrels"
      ]
    },
    {
      "cell_type": "code",
      "metadata": {
        "colab": {
          "base_uri": "https://localhost:8080/"
        },
        "id": "8_CNu9NFCRlB",
        "outputId": "03857e81-21f4-4d38-be59-83acde96f1ba"
      },
      "source": [
        "query_qrels_extractor = QueryQrelsExtractor()\r\n",
        "queries_dict = query_qrels_extractor.extract_queries(TOPICS_PATH)\r\n",
        "qrels_dict = query_qrels_extractor.extract_qrels(QRELS_PATH)\r\n",
        "\r\n",
        "pprint.pprint(queries_dict[125])\r\n",
        "pprint.pprint(qrels_dict[125])"
      ],
      "execution_count": 20,
      "outputs": [
        {
          "output_type": "stream",
          "text": [
            "'sieg lal masjid islamabad fundamentalist student'\n",
            "['1070521_foreign_story_7806832.utf8',\n",
            " '1070705_foreign_index.utf8',\n",
            " '1070705_foreign_story_8019084.utf8',\n",
            " '1070705_foreign_story_8019086.utf8',\n",
            " '1070706_foreign_story_8023448.utf8',\n",
            " '1070707_foreign_story_8027755.utf8',\n",
            " '1070711_foreign_story_8044170.utf8',\n",
            " '1070711_frontpage_story_8044207.utf8',\n",
            " '1070712_foreign_story_8049110.utf8',\n",
            " '1070712_foreign_story_8049115.utf8',\n",
            " '1070715_foreign_story_8061044.utf8',\n",
            " '1070716_foreign_story_8064283.utf8',\n",
            " '1070726_foreign_story_8108245.utf8']\n"
          ],
          "name": "stdout"
        }
      ]
    },
    {
      "cell_type": "markdown",
      "metadata": {
        "id": "NJd4SsSQDftV"
      },
      "source": [
        "Get TF-IDF matrix of queries"
      ]
    },
    {
      "cell_type": "code",
      "metadata": {
        "colab": {
          "base_uri": "https://localhost:8080/"
        },
        "id": "ggOCb1MgDSag",
        "outputId": "7dec8a0c-2d57-41b1-bb02-1a6e7e4cfec6"
      },
      "source": [
        "queries_tfidf = vectorizer.transform(queries_dict.values())\r\n",
        "pprint.pprint(queries_tfidf)"
      ],
      "execution_count": 22,
      "outputs": [
        {
          "output_type": "stream",
          "text": [
            "<50x250353 sparse matrix of type '<class 'numpy.float64'>'\n",
            "\twith 424 stored elements in Compressed Sparse Row format>\n"
          ],
          "name": "stdout"
        }
      ]
    },
    {
      "cell_type": "code",
      "metadata": {
        "colab": {
          "base_uri": "https://localhost:8080/"
        },
        "id": "HGottuxWESwH",
        "outputId": "29a42cc8-5938-49ea-c216-0bc13751ca5f"
      },
      "source": [
        "# Query transformation\r\n",
        "queries_tfidf = queries_tfidf.toarray()\r\n",
        "tmp = np.matmul(queries_tfidf, u)\r\n",
        "svd_queries_tfidf = np.matmul(tmp, s_diag)\r\n",
        "svd_queries_tfidf.shape"
      ],
      "execution_count": 23,
      "outputs": [
        {
          "output_type": "execute_result",
          "data": {
            "text/plain": [
              "(50, 350)"
            ]
          },
          "metadata": {
            "tags": []
          },
          "execution_count": 23
        }
      ]
    },
    {
      "cell_type": "markdown",
      "metadata": {
        "id": "U5YFe3nUD_2n"
      },
      "source": [
        "#### Using Rocchio algorithm on normal queries"
      ]
    },
    {
      "cell_type": "code",
      "metadata": {
        "id": "aw9nh9p-D4L2"
      },
      "source": [
        "query_exp_rocchio = QueryExpansionRocchio()\r\n",
        "rocchio_queries = query_exp_rocchio.rocchio_query_vec(\r\n",
        "    svd_queries_tfidf, vt, qrels_dict, fire_corpus.docno_list\r\n",
        ")"
      ],
      "execution_count": 24,
      "outputs": []
    },
    {
      "cell_type": "code",
      "metadata": {
        "colab": {
          "base_uri": "https://localhost:8080/"
        },
        "id": "8fUIgJQVJK8q",
        "outputId": "55a3d9e9-78b9-4cf4-f154-0cf5ee5c5fb9"
      },
      "source": [
        "doc_vecs = {docno: doc_vec for docno, doc_vec in zip(fire_corpus.docno_list, vt)}\r\n",
        "doc_vecs['1040901_bengal_story_3702359.utf8'].shape"
      ],
      "execution_count": 28,
      "outputs": [
        {
          "output_type": "execute_result",
          "data": {
            "text/plain": [
              "(350,)"
            ]
          },
          "metadata": {
            "tags": []
          },
          "execution_count": 28
        }
      ]
    },
    {
      "cell_type": "code",
      "metadata": {
        "colab": {
          "base_uri": "https://localhost:8080/"
        },
        "id": "Tv9RMI1_J9oW",
        "outputId": "579230cf-cd93-4670-ec54-dc8db8704bab"
      },
      "source": [
        "query_vecs = {qid: q_vec for qid, q_vec in zip(queries_dict.keys(), rocchio_queries)}\r\n",
        "query_vecs[125].shape"
      ],
      "execution_count": 30,
      "outputs": [
        {
          "output_type": "execute_result",
          "data": {
            "text/plain": [
              "(350,)"
            ]
          },
          "metadata": {
            "tags": []
          },
          "execution_count": 30
        }
      ]
    },
    {
      "cell_type": "markdown",
      "metadata": {
        "id": "a3V1CISFJMj_"
      },
      "source": [
        "Perform retrieval and get MAP score"
      ]
    },
    {
      "cell_type": "code",
      "metadata": {
        "colab": {
          "base_uri": "https://localhost:8080/"
        },
        "id": "LWjLc2-7InpS",
        "outputId": "cc46c2c0-16ce-47f9-d21d-e2880c285a69"
      },
      "source": [
        "retrieval = Retrieval()\r\n",
        "rank_list = retrieval.perform_retrieval(doc_vecs, query_vecs)\r\n",
        "avg_prec_dict = retrieval.get_avg_precision(rank_list, qrels_dict)\r\n",
        "rocchio_map = retrieval.get_map(avg_prec_dict)"
      ],
      "execution_count": 36,
      "outputs": [
        {
          "output_type": "stream",
          "text": [
            "Processed 1 documents.\n",
            "Processed 10001 documents.\n",
            "Processed 20001 documents.\n",
            "Processed 30001 documents.\n",
            "Processed 40001 documents.\n",
            "Processed 50001 documents.\n",
            "Processed 60001 documents.\n",
            "Processed 70001 documents.\n",
            "Processed 80001 documents.\n",
            "Processed 90001 documents.\n",
            "Processed 100001 documents.\n",
            "Processed 110001 documents.\n",
            "Processed 120001 documents.\n",
            "\n",
            "Retrieving top 10 documents for each query...\n"
          ],
          "name": "stdout"
        }
      ]
    },
    {
      "cell_type": "code",
      "metadata": {
        "colab": {
          "base_uri": "https://localhost:8080/"
        },
        "id": "3NSsUe80LULr",
        "outputId": "c59ca805-15a5-4c0c-e05c-939901f05b18"
      },
      "source": [
        "print(rocchio_map)"
      ],
      "execution_count": 37,
      "outputs": [
        {
          "output_type": "stream",
          "text": [
            "0.5213616591080877\n"
          ],
          "name": "stdout"
        }
      ]
    },
    {
      "cell_type": "markdown",
      "metadata": {
        "id": "jM5GtOfeL1Lq"
      },
      "source": [
        "#### Using query expansion + rocchio algorithm"
      ]
    },
    {
      "cell_type": "code",
      "metadata": {
        "colab": {
          "base_uri": "https://localhost:8080/"
        },
        "id": "4KKSJWl7L0qr",
        "outputId": "33d0e005-76de-4a08-a744-90379e46b734"
      },
      "source": [
        "expanded_queries = query_exp_rocchio.query_expansion(list(queries_dict.values()))\r\n",
        "pprint.pprint(expanded_queries[49])"
      ],
      "execution_count": 40,
      "outputs": [
        {
          "output_type": "stream",
          "text": [
            "('sieg lal masjid musjid islamabad Islamabad capital_of_Pakistan '\n",
            " 'fundamentalist fundamentalistic student pupil educatee scholar '\n",
            " 'scholarly_person bookman')\n"
          ],
          "name": "stdout"
        }
      ]
    },
    {
      "cell_type": "code",
      "metadata": {
        "colab": {
          "base_uri": "https://localhost:8080/"
        },
        "id": "tHM4YevbMyzo",
        "outputId": "bc1b9472-d3be-4950-8e91-41c2e6f26891"
      },
      "source": [
        "queries_tfidf = vectorizer.transform(expanded_queries)\r\n",
        "pprint.pprint(queries_tfidf)"
      ],
      "execution_count": 41,
      "outputs": [
        {
          "output_type": "stream",
          "text": [
            "<50x250353 sparse matrix of type '<class 'numpy.float64'>'\n",
            "\twith 756 stored elements in Compressed Sparse Row format>\n"
          ],
          "name": "stdout"
        }
      ]
    },
    {
      "cell_type": "code",
      "metadata": {
        "colab": {
          "base_uri": "https://localhost:8080/"
        },
        "id": "39W-BuNQNTCB",
        "outputId": "2008f01e-f2b0-479a-9855-a26476154a7a"
      },
      "source": [
        "# Query transformation\r\n",
        "queries_tfidf = queries_tfidf.toarray()\r\n",
        "tmp = np.matmul(queries_tfidf, u)\r\n",
        "svd_queries_tfidf = np.matmul(tmp, s_diag)\r\n",
        "svd_queries_tfidf.shape"
      ],
      "execution_count": 42,
      "outputs": [
        {
          "output_type": "execute_result",
          "data": {
            "text/plain": [
              "(50, 350)"
            ]
          },
          "metadata": {
            "tags": []
          },
          "execution_count": 42
        }
      ]
    },
    {
      "cell_type": "code",
      "metadata": {
        "colab": {
          "base_uri": "https://localhost:8080/"
        },
        "id": "wB22ysVZNX1K",
        "outputId": "296fbaaa-f5a1-4622-874a-ebe07ab27195"
      },
      "source": [
        "rocchio_queries = query_exp_rocchio.rocchio_query_vec(\r\n",
        "    svd_queries_tfidf, vt, qrels_dict, fire_corpus.docno_list\r\n",
        ")\r\n",
        "query_vecs = {qid: q_vec for qid, q_vec in zip(queries_dict.keys(), rocchio_queries)}\r\n",
        "query_vecs[125].shape"
      ],
      "execution_count": 43,
      "outputs": [
        {
          "output_type": "execute_result",
          "data": {
            "text/plain": [
              "(350,)"
            ]
          },
          "metadata": {
            "tags": []
          },
          "execution_count": 43
        }
      ]
    },
    {
      "cell_type": "code",
      "metadata": {
        "colab": {
          "base_uri": "https://localhost:8080/"
        },
        "id": "2ZSihCyUNlQ6",
        "outputId": "b69ce210-0090-4c50-d6d8-c0a2a5ee3198"
      },
      "source": [
        "rank_list = retrieval.perform_retrieval(doc_vecs, query_vecs)\r\n",
        "avg_prec_dict = retrieval.get_avg_precision(rank_list, qrels_dict)\r\n",
        "expanded_rocchio_map = retrieval.get_map(avg_prec_dict)\r\n",
        "print(expanded_rocchio_map)"
      ],
      "execution_count": 44,
      "outputs": [
        {
          "output_type": "stream",
          "text": [
            "Processed 1 documents.\n",
            "Processed 10001 documents.\n",
            "Processed 20001 documents.\n",
            "Processed 30001 documents.\n",
            "Processed 40001 documents.\n",
            "Processed 50001 documents.\n",
            "Processed 60001 documents.\n",
            "Processed 70001 documents.\n",
            "Processed 80001 documents.\n",
            "Processed 90001 documents.\n",
            "Processed 100001 documents.\n",
            "Processed 110001 documents.\n",
            "Processed 120001 documents.\n",
            "\n",
            "Retrieving top 10 documents for each query...\n",
            "0.5325267848553564\n"
          ],
          "name": "stdout"
        }
      ]
    },
    {
      "cell_type": "markdown",
      "metadata": {
        "id": "aG-K69rPHhUu"
      },
      "source": [
        "### Using Word2Vec Document Representation"
      ]
    },
    {
      "cell_type": "markdown",
      "metadata": {
        "id": "TkGrTQtvPCJS"
      },
      "source": [
        "Training a cbow word2vec model"
      ]
    },
    {
      "cell_type": "code",
      "metadata": {
        "id": "DeSfYNlYIk9R",
        "colab": {
          "base_uri": "https://localhost:8080/"
        },
        "outputId": "e723b3cd-f7a4-4835-cb74-fac944d28ebc"
      },
      "source": [
        "fire_cbow_model = models.Word2Vec(\r\n",
        "    sentences=fire_corpus.tokens_list,\r\n",
        "    size=350,\r\n",
        "    window=10,\r\n",
        "    min_count=1,\r\n",
        "    workers=4,\r\n",
        "    sg=0,\r\n",
        "    hs=1,\r\n",
        "    negative=0,\r\n",
        "    iter=5\r\n",
        ")"
      ],
      "execution_count": 62,
      "outputs": [
        {
          "output_type": "stream",
          "text": [
            "2021-03-16 20:02:25,087 : WARNING : consider setting layer size to a multiple of 4 for greater performance\n",
            "2021-03-16 20:02:25,092 : INFO : collecting all words and their counts\n",
            "2021-03-16 20:02:25,093 : INFO : PROGRESS: at sentence #0, processed 0 words, keeping 0 word types\n",
            "2021-03-16 20:02:25,473 : INFO : PROGRESS: at sentence #10000, processed 2408443 words, keeping 52140 word types\n",
            "2021-03-16 20:02:25,830 : INFO : PROGRESS: at sentence #20000, processed 4528056 words, keeping 72421 word types\n",
            "2021-03-16 20:02:26,140 : INFO : PROGRESS: at sentence #30000, processed 6510850 words, keeping 84647 word types\n",
            "2021-03-16 20:02:26,443 : INFO : PROGRESS: at sentence #40000, processed 8241739 words, keeping 101474 word types\n",
            "2021-03-16 20:02:26,790 : INFO : PROGRESS: at sentence #50000, processed 10388700 words, keeping 114428 word types\n",
            "2021-03-16 20:02:27,101 : INFO : PROGRESS: at sentence #60000, processed 12252237 words, keeping 123698 word types\n",
            "2021-03-16 20:02:27,638 : INFO : PROGRESS: at sentence #70000, processed 15575041 words, keeping 136990 word types\n",
            "2021-03-16 20:02:27,952 : INFO : PROGRESS: at sentence #80000, processed 17470330 words, keeping 145639 word types\n",
            "2021-03-16 20:02:28,258 : INFO : PROGRESS: at sentence #90000, processed 19315561 words, keeping 153617 word types\n",
            "2021-03-16 20:02:28,573 : INFO : PROGRESS: at sentence #100000, processed 21118288 words, keeping 162324 word types\n",
            "2021-03-16 20:02:29,103 : INFO : PROGRESS: at sentence #110000, processed 24453753 words, keeping 170655 word types\n",
            "2021-03-16 20:02:29,428 : INFO : PROGRESS: at sentence #120000, processed 26348214 words, keeping 176729 word types\n",
            "2021-03-16 20:02:29,576 : INFO : collected 179258 word types from a corpus of 27203362 raw words and 125586 sentences\n",
            "2021-03-16 20:02:29,577 : INFO : Loading a fresh vocabulary\n",
            "2021-03-16 20:02:30,927 : INFO : effective_min_count=1 retains 179258 unique words (100% of original 179258, drops 0)\n",
            "2021-03-16 20:02:30,928 : INFO : effective_min_count=1 leaves 27203362 word corpus (100% of original 27203362, drops 0)\n",
            "2021-03-16 20:02:31,516 : INFO : deleting the raw counts dictionary of 179258 items\n",
            "2021-03-16 20:02:31,524 : INFO : sample=0.001 downsamples 13 most-common words\n",
            "2021-03-16 20:02:31,525 : INFO : downsampling leaves estimated 26685511 word corpus (98.1% of prior 27203362)\n",
            "2021-03-16 20:02:31,820 : INFO : constructing a huffman tree from 179258 words\n",
            "2021-03-16 20:02:39,141 : INFO : built huffman tree with maximum node depth 25\n",
            "2021-03-16 20:02:39,228 : INFO : estimated required memory for 179258 words and 350 dimensions: 627403000 bytes\n",
            "2021-03-16 20:02:39,229 : INFO : resetting layer weights\n",
            "2021-03-16 20:03:14,389 : INFO : training model with 4 workers on 179258 vocabulary and 350 features, using sg=0 hs=1 sample=0.001 negative=0 window=10\n",
            "2021-03-16 20:03:15,435 : INFO : EPOCH 1 - PROGRESS: at 0.80% examples, 195315 words/s, in_qsize 7, out_qsize 0\n",
            "2021-03-16 20:03:16,443 : INFO : EPOCH 1 - PROGRESS: at 1.67% examples, 207568 words/s, in_qsize 7, out_qsize 0\n",
            "2021-03-16 20:03:17,535 : INFO : EPOCH 1 - PROGRESS: at 2.91% examples, 212443 words/s, in_qsize 7, out_qsize 0\n",
            "2021-03-16 20:03:18,578 : INFO : EPOCH 1 - PROGRESS: at 3.92% examples, 217005 words/s, in_qsize 8, out_qsize 0\n",
            "2021-03-16 20:03:19,590 : INFO : EPOCH 1 - PROGRESS: at 4.44% examples, 217662 words/s, in_qsize 7, out_qsize 0\n",
            "2021-03-16 20:03:20,635 : INFO : EPOCH 1 - PROGRESS: at 4.94% examples, 215266 words/s, in_qsize 7, out_qsize 0\n",
            "2021-03-16 20:03:21,685 : INFO : EPOCH 1 - PROGRESS: at 5.48% examples, 214938 words/s, in_qsize 7, out_qsize 0\n",
            "2021-03-16 20:03:22,730 : INFO : EPOCH 1 - PROGRESS: at 5.98% examples, 213514 words/s, in_qsize 7, out_qsize 0\n",
            "2021-03-16 20:03:23,737 : INFO : EPOCH 1 - PROGRESS: at 6.71% examples, 214449 words/s, in_qsize 8, out_qsize 0\n",
            "2021-03-16 20:03:24,837 : INFO : EPOCH 1 - PROGRESS: at 7.42% examples, 211400 words/s, in_qsize 7, out_qsize 0\n",
            "2021-03-16 20:03:25,851 : INFO : EPOCH 1 - PROGRESS: at 8.11% examples, 211199 words/s, in_qsize 7, out_qsize 0\n",
            "2021-03-16 20:03:26,895 : INFO : EPOCH 1 - PROGRESS: at 8.82% examples, 210676 words/s, in_qsize 7, out_qsize 0\n",
            "2021-03-16 20:03:27,923 : INFO : EPOCH 1 - PROGRESS: at 9.59% examples, 211175 words/s, in_qsize 7, out_qsize 0\n",
            "2021-03-16 20:03:28,978 : INFO : EPOCH 1 - PROGRESS: at 10.24% examples, 209191 words/s, in_qsize 8, out_qsize 2\n",
            "2021-03-16 20:03:30,029 : INFO : EPOCH 1 - PROGRESS: at 11.03% examples, 210041 words/s, in_qsize 7, out_qsize 0\n",
            "2021-03-16 20:03:31,058 : INFO : EPOCH 1 - PROGRESS: at 11.69% examples, 209335 words/s, in_qsize 6, out_qsize 1\n",
            "2021-03-16 20:03:32,113 : INFO : EPOCH 1 - PROGRESS: at 12.44% examples, 209474 words/s, in_qsize 7, out_qsize 1\n",
            "2021-03-16 20:03:33,209 : INFO : EPOCH 1 - PROGRESS: at 13.49% examples, 209642 words/s, in_qsize 7, out_qsize 0\n",
            "2021-03-16 20:03:34,220 : INFO : EPOCH 1 - PROGRESS: at 14.58% examples, 210194 words/s, in_qsize 8, out_qsize 0\n",
            "2021-03-16 20:03:35,273 : INFO : EPOCH 1 - PROGRESS: at 15.64% examples, 210240 words/s, in_qsize 6, out_qsize 1\n",
            "2021-03-16 20:03:36,279 : INFO : EPOCH 1 - PROGRESS: at 16.57% examples, 210772 words/s, in_qsize 7, out_qsize 0\n",
            "2021-03-16 20:03:37,350 : INFO : EPOCH 1 - PROGRESS: at 17.47% examples, 210635 words/s, in_qsize 7, out_qsize 0\n",
            "2021-03-16 20:03:38,364 : INFO : EPOCH 1 - PROGRESS: at 18.37% examples, 211010 words/s, in_qsize 8, out_qsize 0\n",
            "2021-03-16 20:03:39,428 : INFO : EPOCH 1 - PROGRESS: at 19.32% examples, 211304 words/s, in_qsize 7, out_qsize 0\n",
            "2021-03-16 20:03:40,503 : INFO : EPOCH 1 - PROGRESS: at 20.18% examples, 210760 words/s, in_qsize 7, out_qsize 0\n",
            "2021-03-16 20:03:41,525 : INFO : EPOCH 1 - PROGRESS: at 21.17% examples, 211740 words/s, in_qsize 7, out_qsize 0\n",
            "2021-03-16 20:03:42,575 : INFO : EPOCH 1 - PROGRESS: at 22.17% examples, 212417 words/s, in_qsize 7, out_qsize 0\n",
            "2021-03-16 20:03:43,689 : INFO : EPOCH 1 - PROGRESS: at 23.22% examples, 213257 words/s, in_qsize 7, out_qsize 0\n",
            "2021-03-16 20:03:44,793 : INFO : EPOCH 1 - PROGRESS: at 24.30% examples, 213799 words/s, in_qsize 7, out_qsize 0\n",
            "2021-03-16 20:03:45,808 : INFO : EPOCH 1 - PROGRESS: at 25.30% examples, 214594 words/s, in_qsize 7, out_qsize 0\n",
            "2021-03-16 20:03:46,818 : INFO : EPOCH 1 - PROGRESS: at 26.27% examples, 214213 words/s, in_qsize 8, out_qsize 2\n",
            "2021-03-16 20:03:47,844 : INFO : EPOCH 1 - PROGRESS: at 27.33% examples, 214308 words/s, in_qsize 7, out_qsize 0\n",
            "2021-03-16 20:03:48,874 : INFO : EPOCH 1 - PROGRESS: at 28.31% examples, 213848 words/s, in_qsize 7, out_qsize 0\n",
            "2021-03-16 20:03:49,960 : INFO : EPOCH 1 - PROGRESS: at 29.41% examples, 213632 words/s, in_qsize 7, out_qsize 0\n",
            "2021-03-16 20:03:50,969 : INFO : EPOCH 1 - PROGRESS: at 30.50% examples, 213852 words/s, in_qsize 6, out_qsize 0\n",
            "2021-03-16 20:03:52,050 : INFO : EPOCH 1 - PROGRESS: at 31.57% examples, 213667 words/s, in_qsize 6, out_qsize 1\n",
            "2021-03-16 20:03:53,100 : INFO : EPOCH 1 - PROGRESS: at 32.65% examples, 213637 words/s, in_qsize 6, out_qsize 1\n",
            "2021-03-16 20:03:54,251 : INFO : EPOCH 1 - PROGRESS: at 33.83% examples, 213761 words/s, in_qsize 7, out_qsize 0\n",
            "2021-03-16 20:03:55,280 : INFO : EPOCH 1 - PROGRESS: at 34.53% examples, 213911 words/s, in_qsize 7, out_qsize 0\n",
            "2021-03-16 20:03:56,305 : INFO : EPOCH 1 - PROGRESS: at 35.11% examples, 213881 words/s, in_qsize 7, out_qsize 0\n",
            "2021-03-16 20:03:57,369 : INFO : EPOCH 1 - PROGRESS: at 35.83% examples, 213555 words/s, in_qsize 7, out_qsize 0\n",
            "2021-03-16 20:03:58,379 : INFO : EPOCH 1 - PROGRESS: at 36.55% examples, 213487 words/s, in_qsize 7, out_qsize 0\n",
            "2021-03-16 20:03:59,438 : INFO : EPOCH 1 - PROGRESS: at 37.33% examples, 213437 words/s, in_qsize 7, out_qsize 0\n",
            "2021-03-16 20:04:00,490 : INFO : EPOCH 1 - PROGRESS: at 38.31% examples, 213405 words/s, in_qsize 7, out_qsize 0\n",
            "2021-03-16 20:04:01,568 : INFO : EPOCH 1 - PROGRESS: at 39.24% examples, 213464 words/s, in_qsize 7, out_qsize 1\n",
            "2021-03-16 20:04:02,607 : INFO : EPOCH 1 - PROGRESS: at 40.17% examples, 213871 words/s, in_qsize 7, out_qsize 0\n",
            "2021-03-16 20:04:03,611 : INFO : EPOCH 1 - PROGRESS: at 41.11% examples, 214213 words/s, in_qsize 8, out_qsize 0\n",
            "2021-03-16 20:04:04,713 : INFO : EPOCH 1 - PROGRESS: at 42.10% examples, 213944 words/s, in_qsize 8, out_qsize 1\n",
            "2021-03-16 20:04:05,761 : INFO : EPOCH 1 - PROGRESS: at 43.09% examples, 213941 words/s, in_qsize 7, out_qsize 0\n",
            "2021-03-16 20:04:06,816 : INFO : EPOCH 1 - PROGRESS: at 44.07% examples, 213836 words/s, in_qsize 6, out_qsize 1\n",
            "2021-03-16 20:04:07,797 : INFO : EPOCH 1 - PROGRESS: at 44.90% examples, 213749 words/s, in_qsize 6, out_qsize 1\n",
            "2021-03-16 20:04:08,830 : INFO : EPOCH 1 - PROGRESS: at 45.80% examples, 213955 words/s, in_qsize 7, out_qsize 0\n",
            "2021-03-16 20:04:09,891 : INFO : EPOCH 1 - PROGRESS: at 46.90% examples, 213865 words/s, in_qsize 7, out_qsize 0\n",
            "2021-03-16 20:04:10,915 : INFO : EPOCH 1 - PROGRESS: at 47.90% examples, 213940 words/s, in_qsize 7, out_qsize 0\n",
            "2021-03-16 20:04:11,976 : INFO : EPOCH 1 - PROGRESS: at 48.40% examples, 213725 words/s, in_qsize 6, out_qsize 1\n",
            "2021-03-16 20:04:13,025 : INFO : EPOCH 1 - PROGRESS: at 48.88% examples, 213379 words/s, in_qsize 8, out_qsize 3\n",
            "2021-03-16 20:04:14,036 : INFO : EPOCH 1 - PROGRESS: at 49.39% examples, 213500 words/s, in_qsize 6, out_qsize 1\n",
            "2021-03-16 20:04:15,040 : INFO : EPOCH 1 - PROGRESS: at 49.89% examples, 213454 words/s, in_qsize 7, out_qsize 0\n",
            "2021-03-16 20:04:16,083 : INFO : EPOCH 1 - PROGRESS: at 50.43% examples, 213494 words/s, in_qsize 7, out_qsize 0\n",
            "2021-03-16 20:04:17,085 : INFO : EPOCH 1 - PROGRESS: at 50.97% examples, 213645 words/s, in_qsize 7, out_qsize 0\n",
            "2021-03-16 20:04:18,100 : INFO : EPOCH 1 - PROGRESS: at 51.54% examples, 213640 words/s, in_qsize 7, out_qsize 0\n",
            "2021-03-16 20:04:19,154 : INFO : EPOCH 1 - PROGRESS: at 52.12% examples, 213511 words/s, in_qsize 8, out_qsize 0\n",
            "2021-03-16 20:04:20,196 : INFO : EPOCH 1 - PROGRESS: at 52.63% examples, 213522 words/s, in_qsize 5, out_qsize 2\n",
            "2021-03-16 20:04:21,267 : INFO : EPOCH 1 - PROGRESS: at 53.27% examples, 213873 words/s, in_qsize 7, out_qsize 0\n",
            "2021-03-16 20:04:22,282 : INFO : EPOCH 1 - PROGRESS: at 53.80% examples, 213951 words/s, in_qsize 7, out_qsize 0\n",
            "2021-03-16 20:04:23,290 : INFO : EPOCH 1 - PROGRESS: at 54.38% examples, 213993 words/s, in_qsize 7, out_qsize 0\n",
            "2021-03-16 20:04:24,294 : INFO : EPOCH 1 - PROGRESS: at 54.95% examples, 214268 words/s, in_qsize 7, out_qsize 0\n",
            "2021-03-16 20:04:25,345 : INFO : EPOCH 1 - PROGRESS: at 55.49% examples, 214116 words/s, in_qsize 7, out_qsize 0\n",
            "2021-03-16 20:04:26,400 : INFO : EPOCH 1 - PROGRESS: at 56.06% examples, 214264 words/s, in_qsize 7, out_qsize 0\n",
            "2021-03-16 20:04:27,435 : INFO : EPOCH 1 - PROGRESS: at 56.77% examples, 214209 words/s, in_qsize 7, out_qsize 0\n",
            "2021-03-16 20:04:28,559 : INFO : EPOCH 1 - PROGRESS: at 58.06% examples, 214100 words/s, in_qsize 7, out_qsize 0\n",
            "2021-03-16 20:04:29,582 : INFO : EPOCH 1 - PROGRESS: at 59.20% examples, 214152 words/s, in_qsize 6, out_qsize 1\n",
            "2021-03-16 20:04:30,586 : INFO : EPOCH 1 - PROGRESS: at 60.18% examples, 214384 words/s, in_qsize 7, out_qsize 0\n",
            "2021-03-16 20:04:31,612 : INFO : EPOCH 1 - PROGRESS: at 61.08% examples, 214353 words/s, in_qsize 7, out_qsize 0\n",
            "2021-03-16 20:04:32,603 : INFO : EPOCH 1 - PROGRESS: at 61.99% examples, 214310 words/s, in_qsize 6, out_qsize 1\n",
            "2021-03-16 20:04:33,718 : INFO : EPOCH 1 - PROGRESS: at 63.02% examples, 214354 words/s, in_qsize 6, out_qsize 1\n",
            "2021-03-16 20:04:34,804 : INFO : EPOCH 1 - PROGRESS: at 64.07% examples, 214570 words/s, in_qsize 7, out_qsize 0\n",
            "2021-03-16 20:04:35,815 : INFO : EPOCH 1 - PROGRESS: at 64.95% examples, 214634 words/s, in_qsize 6, out_qsize 1\n",
            "2021-03-16 20:04:36,890 : INFO : EPOCH 1 - PROGRESS: at 65.99% examples, 214990 words/s, in_qsize 7, out_qsize 0\n",
            "2021-03-16 20:04:37,903 : INFO : EPOCH 1 - PROGRESS: at 66.91% examples, 215151 words/s, in_qsize 7, out_qsize 0\n",
            "2021-03-16 20:04:38,950 : INFO : EPOCH 1 - PROGRESS: at 67.88% examples, 215342 words/s, in_qsize 7, out_qsize 0\n",
            "2021-03-16 20:04:39,962 : INFO : EPOCH 1 - PROGRESS: at 68.86% examples, 215290 words/s, in_qsize 7, out_qsize 0\n",
            "2021-03-16 20:04:40,999 : INFO : EPOCH 1 - PROGRESS: at 69.97% examples, 215183 words/s, in_qsize 7, out_qsize 0\n",
            "2021-03-16 20:04:42,079 : INFO : EPOCH 1 - PROGRESS: at 71.13% examples, 215085 words/s, in_qsize 7, out_qsize 2\n",
            "2021-03-16 20:04:43,142 : INFO : EPOCH 1 - PROGRESS: at 72.26% examples, 215015 words/s, in_qsize 5, out_qsize 2\n",
            "2021-03-16 20:04:44,173 : INFO : EPOCH 1 - PROGRESS: at 73.39% examples, 215040 words/s, in_qsize 7, out_qsize 0\n",
            "2021-03-16 20:04:45,258 : INFO : EPOCH 1 - PROGRESS: at 74.54% examples, 214934 words/s, in_qsize 7, out_qsize 0\n",
            "2021-03-16 20:04:46,291 : INFO : EPOCH 1 - PROGRESS: at 75.65% examples, 214945 words/s, in_qsize 7, out_qsize 0\n",
            "2021-03-16 20:04:47,435 : INFO : EPOCH 1 - PROGRESS: at 76.56% examples, 214799 words/s, in_qsize 8, out_qsize 2\n",
            "2021-03-16 20:04:48,487 : INFO : EPOCH 1 - PROGRESS: at 77.47% examples, 214971 words/s, in_qsize 7, out_qsize 0\n",
            "2021-03-16 20:04:49,535 : INFO : EPOCH 1 - PROGRESS: at 78.07% examples, 214745 words/s, in_qsize 8, out_qsize 0\n",
            "2021-03-16 20:04:50,560 : INFO : EPOCH 1 - PROGRESS: at 79.31% examples, 214762 words/s, in_qsize 7, out_qsize 0\n",
            "2021-03-16 20:04:51,589 : INFO : EPOCH 1 - PROGRESS: at 79.94% examples, 214676 words/s, in_qsize 7, out_qsize 2\n",
            "2021-03-16 20:04:52,595 : INFO : EPOCH 1 - PROGRESS: at 80.49% examples, 214748 words/s, in_qsize 7, out_qsize 0\n",
            "2021-03-16 20:04:53,610 : INFO : EPOCH 1 - PROGRESS: at 80.98% examples, 214606 words/s, in_qsize 7, out_qsize 0\n",
            "2021-03-16 20:04:54,639 : INFO : EPOCH 1 - PROGRESS: at 81.47% examples, 214800 words/s, in_qsize 7, out_qsize 0\n",
            "2021-03-16 20:04:55,671 : INFO : EPOCH 1 - PROGRESS: at 81.95% examples, 215113 words/s, in_qsize 7, out_qsize 0\n",
            "2021-03-16 20:04:56,743 : INFO : EPOCH 1 - PROGRESS: at 82.40% examples, 215098 words/s, in_qsize 7, out_qsize 1\n",
            "2021-03-16 20:04:57,775 : INFO : EPOCH 1 - PROGRESS: at 82.90% examples, 215353 words/s, in_qsize 7, out_qsize 0\n",
            "2021-03-16 20:04:58,842 : INFO : EPOCH 1 - PROGRESS: at 83.44% examples, 215584 words/s, in_qsize 7, out_qsize 0\n",
            "2021-03-16 20:04:59,885 : INFO : EPOCH 1 - PROGRESS: at 83.96% examples, 215715 words/s, in_qsize 7, out_qsize 1\n",
            "2021-03-16 20:05:00,889 : INFO : EPOCH 1 - PROGRESS: at 84.44% examples, 215916 words/s, in_qsize 8, out_qsize 0\n",
            "2021-03-16 20:05:01,901 : INFO : EPOCH 1 - PROGRESS: at 84.96% examples, 216218 words/s, in_qsize 8, out_qsize 0\n",
            "2021-03-16 20:05:03,031 : INFO : EPOCH 1 - PROGRESS: at 85.50% examples, 216270 words/s, in_qsize 7, out_qsize 0\n",
            "2021-03-16 20:05:04,109 : INFO : EPOCH 1 - PROGRESS: at 86.15% examples, 216269 words/s, in_qsize 6, out_qsize 1\n",
            "2021-03-16 20:05:05,119 : INFO : EPOCH 1 - PROGRESS: at 87.33% examples, 216220 words/s, in_qsize 7, out_qsize 0\n",
            "2021-03-16 20:05:06,138 : INFO : EPOCH 1 - PROGRESS: at 88.30% examples, 216158 words/s, in_qsize 7, out_qsize 0\n",
            "2021-03-16 20:05:07,171 : INFO : EPOCH 1 - PROGRESS: at 89.23% examples, 216159 words/s, in_qsize 7, out_qsize 0\n",
            "2021-03-16 20:05:08,193 : INFO : EPOCH 1 - PROGRESS: at 90.05% examples, 216006 words/s, in_qsize 6, out_qsize 1\n",
            "2021-03-16 20:05:09,209 : INFO : EPOCH 1 - PROGRESS: at 90.94% examples, 215954 words/s, in_qsize 7, out_qsize 0\n",
            "2021-03-16 20:05:10,254 : INFO : EPOCH 1 - PROGRESS: at 91.89% examples, 215998 words/s, in_qsize 8, out_qsize 2\n",
            "2021-03-16 20:05:11,349 : INFO : EPOCH 1 - PROGRESS: at 92.90% examples, 216123 words/s, in_qsize 7, out_qsize 0\n",
            "2021-03-16 20:05:12,408 : INFO : EPOCH 1 - PROGRESS: at 93.87% examples, 216307 words/s, in_qsize 7, out_qsize 0\n",
            "2021-03-16 20:05:13,493 : INFO : EPOCH 1 - PROGRESS: at 95.01% examples, 216131 words/s, in_qsize 7, out_qsize 0\n",
            "2021-03-16 20:05:14,543 : INFO : EPOCH 1 - PROGRESS: at 96.18% examples, 216098 words/s, in_qsize 7, out_qsize 0\n",
            "2021-03-16 20:05:15,667 : INFO : EPOCH 1 - PROGRESS: at 97.33% examples, 215937 words/s, in_qsize 4, out_qsize 3\n",
            "2021-03-16 20:05:16,741 : INFO : EPOCH 1 - PROGRESS: at 98.56% examples, 215949 words/s, in_qsize 7, out_qsize 0\n",
            "2021-03-16 20:05:17,735 : INFO : worker thread finished; awaiting finish of 3 more threads\n",
            "2021-03-16 20:05:17,806 : INFO : EPOCH 1 - PROGRESS: at 99.90% examples, 216065 words/s, in_qsize 2, out_qsize 1\n",
            "2021-03-16 20:05:17,810 : INFO : worker thread finished; awaiting finish of 2 more threads\n",
            "2021-03-16 20:05:17,818 : INFO : worker thread finished; awaiting finish of 1 more threads\n",
            "2021-03-16 20:05:17,826 : INFO : worker thread finished; awaiting finish of 0 more threads\n",
            "2021-03-16 20:05:17,827 : INFO : EPOCH - 1 : training on 27203362 raw words (26684642 effective words) took 123.4s, 216187 effective words/s\n",
            "2021-03-16 20:05:18,860 : INFO : EPOCH 2 - PROGRESS: at 0.84% examples, 207590 words/s, in_qsize 7, out_qsize 0\n",
            "2021-03-16 20:05:19,865 : INFO : EPOCH 2 - PROGRESS: at 1.67% examples, 209408 words/s, in_qsize 7, out_qsize 0\n",
            "2021-03-16 20:05:20,917 : INFO : EPOCH 2 - PROGRESS: at 2.87% examples, 213182 words/s, in_qsize 7, out_qsize 0\n",
            "2021-03-16 20:05:22,006 : INFO : EPOCH 2 - PROGRESS: at 3.87% examples, 212954 words/s, in_qsize 7, out_qsize 0\n",
            "2021-03-16 20:05:23,101 : INFO : EPOCH 2 - PROGRESS: at 4.42% examples, 212834 words/s, in_qsize 7, out_qsize 1\n",
            "2021-03-16 20:05:24,118 : INFO : EPOCH 2 - PROGRESS: at 4.94% examples, 213764 words/s, in_qsize 6, out_qsize 1\n",
            "2021-03-16 20:05:25,177 : INFO : EPOCH 2 - PROGRESS: at 5.46% examples, 212109 words/s, in_qsize 7, out_qsize 0\n",
            "2021-03-16 20:05:26,220 : INFO : EPOCH 2 - PROGRESS: at 5.94% examples, 211059 words/s, in_qsize 7, out_qsize 0\n",
            "2021-03-16 20:05:27,242 : INFO : EPOCH 2 - PROGRESS: at 6.64% examples, 210856 words/s, in_qsize 7, out_qsize 0\n",
            "2021-03-16 20:05:28,260 : INFO : EPOCH 2 - PROGRESS: at 7.39% examples, 210800 words/s, in_qsize 7, out_qsize 0\n",
            "2021-03-16 20:05:29,321 : INFO : EPOCH 2 - PROGRESS: at 8.09% examples, 209840 words/s, in_qsize 7, out_qsize 0\n",
            "2021-03-16 20:05:30,392 : INFO : EPOCH 2 - PROGRESS: at 8.82% examples, 209711 words/s, in_qsize 6, out_qsize 1\n",
            "2021-03-16 20:05:31,406 : INFO : EPOCH 2 - PROGRESS: at 9.55% examples, 209774 words/s, in_qsize 6, out_qsize 1\n",
            "2021-03-16 20:05:32,443 : INFO : EPOCH 2 - PROGRESS: at 10.31% examples, 210164 words/s, in_qsize 7, out_qsize 0\n",
            "2021-03-16 20:05:33,540 : INFO : EPOCH 2 - PROGRESS: at 11.03% examples, 209076 words/s, in_qsize 8, out_qsize 3\n",
            "2021-03-16 20:05:34,547 : INFO : EPOCH 2 - PROGRESS: at 11.72% examples, 209277 words/s, in_qsize 6, out_qsize 1\n",
            "2021-03-16 20:05:35,605 : INFO : EPOCH 2 - PROGRESS: at 12.48% examples, 209403 words/s, in_qsize 7, out_qsize 0\n",
            "2021-03-16 20:05:36,622 : INFO : EPOCH 2 - PROGRESS: at 13.44% examples, 209439 words/s, in_qsize 6, out_qsize 1\n",
            "2021-03-16 20:05:37,636 : INFO : EPOCH 2 - PROGRESS: at 14.54% examples, 209972 words/s, in_qsize 7, out_qsize 0\n",
            "2021-03-16 20:05:38,660 : INFO : EPOCH 2 - PROGRESS: at 15.56% examples, 209859 words/s, in_qsize 7, out_qsize 0\n",
            "2021-03-16 20:05:39,666 : INFO : EPOCH 2 - PROGRESS: at 16.42% examples, 209513 words/s, in_qsize 7, out_qsize 0\n",
            "2021-03-16 20:05:40,694 : INFO : EPOCH 2 - PROGRESS: at 17.32% examples, 209830 words/s, in_qsize 7, out_qsize 0\n",
            "2021-03-16 20:05:41,856 : INFO : EPOCH 2 - PROGRESS: at 18.29% examples, 209750 words/s, in_qsize 6, out_qsize 1\n",
            "2021-03-16 20:05:42,887 : INFO : EPOCH 2 - PROGRESS: at 19.29% examples, 210767 words/s, in_qsize 7, out_qsize 0\n",
            "2021-03-16 20:05:43,934 : INFO : EPOCH 2 - PROGRESS: at 20.18% examples, 210848 words/s, in_qsize 7, out_qsize 0\n",
            "2021-03-16 20:05:44,982 : INFO : EPOCH 2 - PROGRESS: at 21.13% examples, 211264 words/s, in_qsize 7, out_qsize 0\n",
            "2021-03-16 20:05:46,007 : INFO : EPOCH 2 - PROGRESS: at 22.08% examples, 211807 words/s, in_qsize 7, out_qsize 0\n",
            "2021-03-16 20:05:47,047 : INFO : EPOCH 2 - PROGRESS: at 23.07% examples, 212535 words/s, in_qsize 7, out_qsize 0\n",
            "2021-03-16 20:05:48,089 : INFO : EPOCH 2 - PROGRESS: at 24.13% examples, 213536 words/s, in_qsize 7, out_qsize 0\n",
            "2021-03-16 20:05:49,102 : INFO : EPOCH 2 - PROGRESS: at 25.05% examples, 213762 words/s, in_qsize 7, out_qsize 0\n",
            "2021-03-16 20:05:50,109 : INFO : EPOCH 2 - PROGRESS: at 26.06% examples, 214002 words/s, in_qsize 7, out_qsize 0\n",
            "2021-03-16 20:05:51,176 : INFO : EPOCH 2 - PROGRESS: at 27.10% examples, 213551 words/s, in_qsize 7, out_qsize 0\n",
            "2021-03-16 20:05:52,215 : INFO : EPOCH 2 - PROGRESS: at 28.17% examples, 213627 words/s, in_qsize 7, out_qsize 0\n",
            "2021-03-16 20:05:53,226 : INFO : EPOCH 2 - PROGRESS: at 29.27% examples, 213876 words/s, in_qsize 7, out_qsize 0\n",
            "2021-03-16 20:05:54,241 : INFO : EPOCH 2 - PROGRESS: at 30.27% examples, 213523 words/s, in_qsize 6, out_qsize 1\n",
            "2021-03-16 20:05:55,325 : INFO : EPOCH 2 - PROGRESS: at 31.33% examples, 213315 words/s, in_qsize 7, out_qsize 0\n",
            "2021-03-16 20:05:56,367 : INFO : EPOCH 2 - PROGRESS: at 32.37% examples, 213101 words/s, in_qsize 6, out_qsize 1\n",
            "2021-03-16 20:05:57,372 : INFO : EPOCH 2 - PROGRESS: at 33.40% examples, 213544 words/s, in_qsize 8, out_qsize 0\n",
            "2021-03-16 20:05:58,443 : INFO : EPOCH 2 - PROGRESS: at 34.36% examples, 213392 words/s, in_qsize 6, out_qsize 1\n",
            "2021-03-16 20:05:59,482 : INFO : EPOCH 2 - PROGRESS: at 34.89% examples, 213402 words/s, in_qsize 7, out_qsize 0\n",
            "2021-03-16 20:06:00,495 : INFO : EPOCH 2 - PROGRESS: at 35.60% examples, 213555 words/s, in_qsize 7, out_qsize 0\n",
            "2021-03-16 20:06:01,536 : INFO : EPOCH 2 - PROGRESS: at 36.32% examples, 213329 words/s, in_qsize 7, out_qsize 0\n",
            "2021-03-16 20:06:02,616 : INFO : EPOCH 2 - PROGRESS: at 37.08% examples, 213185 words/s, in_qsize 8, out_qsize 1\n",
            "2021-03-16 20:06:03,711 : INFO : EPOCH 2 - PROGRESS: at 38.10% examples, 213171 words/s, in_qsize 8, out_qsize 1\n",
            "2021-03-16 20:06:04,801 : INFO : EPOCH 2 - PROGRESS: at 39.04% examples, 213388 words/s, in_qsize 7, out_qsize 0\n",
            "2021-03-16 20:06:05,945 : INFO : EPOCH 2 - PROGRESS: at 40.03% examples, 213546 words/s, in_qsize 5, out_qsize 2\n",
            "2021-03-16 20:06:06,995 : INFO : EPOCH 2 - PROGRESS: at 40.99% examples, 213885 words/s, in_qsize 5, out_qsize 2\n",
            "2021-03-16 20:06:08,009 : INFO : EPOCH 2 - PROGRESS: at 42.06% examples, 214385 words/s, in_qsize 7, out_qsize 0\n",
            "2021-03-16 20:06:09,027 : INFO : EPOCH 2 - PROGRESS: at 43.01% examples, 214307 words/s, in_qsize 8, out_qsize 0\n",
            "2021-03-16 20:06:10,072 : INFO : EPOCH 2 - PROGRESS: at 43.98% examples, 214101 words/s, in_qsize 7, out_qsize 0\n",
            "2021-03-16 20:06:11,148 : INFO : EPOCH 2 - PROGRESS: at 44.97% examples, 214486 words/s, in_qsize 7, out_qsize 0\n",
            "2021-03-16 20:06:12,252 : INFO : EPOCH 2 - PROGRESS: at 45.83% examples, 214218 words/s, in_qsize 8, out_qsize 1\n",
            "2021-03-16 20:06:13,267 : INFO : EPOCH 2 - PROGRESS: at 47.00% examples, 214475 words/s, in_qsize 7, out_qsize 0\n",
            "2021-03-16 20:06:14,305 : INFO : EPOCH 2 - PROGRESS: at 47.92% examples, 214319 words/s, in_qsize 7, out_qsize 0\n",
            "2021-03-16 20:06:15,354 : INFO : EPOCH 2 - PROGRESS: at 48.44% examples, 214311 words/s, in_qsize 7, out_qsize 0\n",
            "2021-03-16 20:06:16,365 : INFO : EPOCH 2 - PROGRESS: at 48.93% examples, 214085 words/s, in_qsize 7, out_qsize 1\n",
            "2021-03-16 20:06:17,433 : INFO : EPOCH 2 - PROGRESS: at 49.48% examples, 214307 words/s, in_qsize 7, out_qsize 0\n",
            "2021-03-16 20:06:18,505 : INFO : EPOCH 2 - PROGRESS: at 50.02% examples, 214316 words/s, in_qsize 7, out_qsize 0\n",
            "2021-03-16 20:06:19,526 : INFO : EPOCH 2 - PROGRESS: at 50.59% examples, 214571 words/s, in_qsize 7, out_qsize 0\n",
            "2021-03-16 20:06:20,555 : INFO : EPOCH 2 - PROGRESS: at 51.18% examples, 214754 words/s, in_qsize 7, out_qsize 0\n",
            "2021-03-16 20:06:21,569 : INFO : EPOCH 2 - PROGRESS: at 51.76% examples, 214907 words/s, in_qsize 7, out_qsize 0\n",
            "2021-03-16 20:06:22,592 : INFO : EPOCH 2 - PROGRESS: at 52.35% examples, 215000 words/s, in_qsize 7, out_qsize 0\n",
            "2021-03-16 20:06:23,664 : INFO : EPOCH 2 - PROGRESS: at 52.87% examples, 214969 words/s, in_qsize 6, out_qsize 1\n",
            "2021-03-16 20:06:24,695 : INFO : EPOCH 2 - PROGRESS: at 53.45% examples, 215149 words/s, in_qsize 6, out_qsize 1\n",
            "2021-03-16 20:06:25,715 : INFO : EPOCH 2 - PROGRESS: at 54.02% examples, 215119 words/s, in_qsize 6, out_qsize 1\n",
            "2021-03-16 20:06:26,819 : INFO : EPOCH 2 - PROGRESS: at 54.64% examples, 215325 words/s, in_qsize 8, out_qsize 1\n",
            "2021-03-16 20:06:27,812 : INFO : EPOCH 2 - PROGRESS: at 55.21% examples, 215524 words/s, in_qsize 7, out_qsize 0\n",
            "2021-03-16 20:06:28,839 : INFO : EPOCH 2 - PROGRESS: at 55.74% examples, 215560 words/s, in_qsize 8, out_qsize 2\n",
            "2021-03-16 20:06:29,891 : INFO : EPOCH 2 - PROGRESS: at 56.36% examples, 215888 words/s, in_qsize 7, out_qsize 0\n",
            "2021-03-16 20:06:30,883 : INFO : EPOCH 2 - PROGRESS: at 57.42% examples, 215790 words/s, in_qsize 7, out_qsize 0\n",
            "2021-03-16 20:06:31,888 : INFO : EPOCH 2 - PROGRESS: at 58.66% examples, 215877 words/s, in_qsize 8, out_qsize 0\n",
            "2021-03-16 20:06:32,899 : INFO : EPOCH 2 - PROGRESS: at 59.70% examples, 216071 words/s, in_qsize 7, out_qsize 0\n",
            "2021-03-16 20:06:33,938 : INFO : EPOCH 2 - PROGRESS: at 60.60% examples, 215978 words/s, in_qsize 7, out_qsize 0\n",
            "2021-03-16 20:06:34,947 : INFO : EPOCH 2 - PROGRESS: at 61.53% examples, 215989 words/s, in_qsize 7, out_qsize 0\n",
            "2021-03-16 20:06:36,010 : INFO : EPOCH 2 - PROGRESS: at 62.51% examples, 216028 words/s, in_qsize 7, out_qsize 0\n",
            "2021-03-16 20:06:37,024 : INFO : EPOCH 2 - PROGRESS: at 63.50% examples, 216068 words/s, in_qsize 7, out_qsize 0\n",
            "2021-03-16 20:06:38,108 : INFO : EPOCH 2 - PROGRESS: at 64.47% examples, 216207 words/s, in_qsize 7, out_qsize 0\n",
            "2021-03-16 20:06:39,162 : INFO : EPOCH 2 - PROGRESS: at 65.41% examples, 216317 words/s, in_qsize 7, out_qsize 0\n",
            "2021-03-16 20:06:40,189 : INFO : EPOCH 2 - PROGRESS: at 66.40% examples, 216655 words/s, in_qsize 7, out_qsize 0\n",
            "2021-03-16 20:06:41,305 : INFO : EPOCH 2 - PROGRESS: at 67.41% examples, 216770 words/s, in_qsize 7, out_qsize 0\n",
            "2021-03-16 20:06:42,310 : INFO : EPOCH 2 - PROGRESS: at 68.43% examples, 217051 words/s, in_qsize 7, out_qsize 0\n",
            "2021-03-16 20:06:43,359 : INFO : EPOCH 2 - PROGRESS: at 69.53% examples, 216894 words/s, in_qsize 7, out_qsize 0\n",
            "2021-03-16 20:06:44,364 : INFO : EPOCH 2 - PROGRESS: at 70.63% examples, 216846 words/s, in_qsize 6, out_qsize 1\n",
            "2021-03-16 20:06:45,391 : INFO : EPOCH 2 - PROGRESS: at 71.71% examples, 216791 words/s, in_qsize 7, out_qsize 0\n",
            "2021-03-16 20:06:46,398 : INFO : EPOCH 2 - PROGRESS: at 72.81% examples, 216682 words/s, in_qsize 7, out_qsize 0\n",
            "2021-03-16 20:06:47,430 : INFO : EPOCH 2 - PROGRESS: at 73.88% examples, 216580 words/s, in_qsize 7, out_qsize 0\n",
            "2021-03-16 20:06:48,496 : INFO : EPOCH 2 - PROGRESS: at 74.97% examples, 216388 words/s, in_qsize 7, out_qsize 0\n",
            "2021-03-16 20:06:49,556 : INFO : EPOCH 2 - PROGRESS: at 76.00% examples, 216353 words/s, in_qsize 7, out_qsize 0\n",
            "2021-03-16 20:06:50,581 : INFO : EPOCH 2 - PROGRESS: at 76.85% examples, 216326 words/s, in_qsize 7, out_qsize 0\n",
            "2021-03-16 20:06:51,682 : INFO : EPOCH 2 - PROGRESS: at 77.71% examples, 216371 words/s, in_qsize 7, out_qsize 0\n",
            "2021-03-16 20:06:52,714 : INFO : EPOCH 2 - PROGRESS: at 78.58% examples, 216362 words/s, in_qsize 7, out_qsize 0\n",
            "2021-03-16 20:06:53,725 : INFO : EPOCH 2 - PROGRESS: at 79.67% examples, 216493 words/s, in_qsize 7, out_qsize 0\n",
            "2021-03-16 20:06:54,743 : INFO : EPOCH 2 - PROGRESS: at 80.18% examples, 216319 words/s, in_qsize 7, out_qsize 1\n",
            "2021-03-16 20:06:55,747 : INFO : EPOCH 2 - PROGRESS: at 80.70% examples, 216282 words/s, in_qsize 7, out_qsize 0\n",
            "2021-03-16 20:06:56,845 : INFO : EPOCH 2 - PROGRESS: at 81.23% examples, 216257 words/s, in_qsize 7, out_qsize 0\n",
            "2021-03-16 20:06:57,898 : INFO : EPOCH 2 - PROGRESS: at 81.71% examples, 216543 words/s, in_qsize 7, out_qsize 0\n",
            "2021-03-16 20:06:58,901 : INFO : EPOCH 2 - PROGRESS: at 82.18% examples, 216807 words/s, in_qsize 7, out_qsize 0\n",
            "2021-03-16 20:06:59,934 : INFO : EPOCH 2 - PROGRESS: at 82.66% examples, 216977 words/s, in_qsize 7, out_qsize 0\n",
            "2021-03-16 20:07:00,962 : INFO : EPOCH 2 - PROGRESS: at 83.18% examples, 217218 words/s, in_qsize 7, out_qsize 1\n",
            "2021-03-16 20:07:01,974 : INFO : EPOCH 2 - PROGRESS: at 83.73% examples, 217479 words/s, in_qsize 7, out_qsize 0\n",
            "2021-03-16 20:07:02,986 : INFO : EPOCH 2 - PROGRESS: at 84.25% examples, 217726 words/s, in_qsize 7, out_qsize 0\n",
            "2021-03-16 20:07:04,022 : INFO : EPOCH 2 - PROGRESS: at 84.73% examples, 217878 words/s, in_qsize 7, out_qsize 1\n",
            "2021-03-16 20:07:05,046 : INFO : EPOCH 2 - PROGRESS: at 85.27% examples, 218229 words/s, in_qsize 7, out_qsize 0\n",
            "2021-03-16 20:07:06,147 : INFO : EPOCH 2 - PROGRESS: at 85.80% examples, 218367 words/s, in_qsize 7, out_qsize 0\n",
            "2021-03-16 20:07:07,191 : INFO : EPOCH 2 - PROGRESS: at 86.96% examples, 218316 words/s, in_qsize 8, out_qsize 1\n",
            "2021-03-16 20:07:08,217 : INFO : EPOCH 2 - PROGRESS: at 88.10% examples, 218394 words/s, in_qsize 8, out_qsize 0\n",
            "2021-03-16 20:07:09,231 : INFO : EPOCH 2 - PROGRESS: at 89.04% examples, 218409 words/s, in_qsize 7, out_qsize 0\n",
            "2021-03-16 20:07:10,241 : INFO : EPOCH 2 - PROGRESS: at 89.89% examples, 218344 words/s, in_qsize 7, out_qsize 0\n",
            "2021-03-16 20:07:11,313 : INFO : EPOCH 2 - PROGRESS: at 90.86% examples, 218337 words/s, in_qsize 7, out_qsize 0\n",
            "2021-03-16 20:07:12,361 : INFO : EPOCH 2 - PROGRESS: at 91.84% examples, 218438 words/s, in_qsize 7, out_qsize 0\n",
            "2021-03-16 20:07:13,410 : INFO : EPOCH 2 - PROGRESS: at 92.86% examples, 218629 words/s, in_qsize 7, out_qsize 0\n",
            "2021-03-16 20:07:14,497 : INFO : EPOCH 2 - PROGRESS: at 93.79% examples, 218656 words/s, in_qsize 7, out_qsize 1\n",
            "2021-03-16 20:07:15,513 : INFO : EPOCH 2 - PROGRESS: at 94.91% examples, 218588 words/s, in_qsize 7, out_qsize 0\n",
            "2021-03-16 20:07:16,560 : INFO : EPOCH 2 - PROGRESS: at 96.03% examples, 218455 words/s, in_qsize 8, out_qsize 2\n",
            "2021-03-16 20:07:17,578 : INFO : EPOCH 2 - PROGRESS: at 97.19% examples, 218494 words/s, in_qsize 7, out_qsize 1\n",
            "2021-03-16 20:07:18,597 : INFO : EPOCH 2 - PROGRESS: at 98.30% examples, 218414 words/s, in_qsize 7, out_qsize 0\n",
            "2021-03-16 20:07:19,605 : INFO : EPOCH 2 - PROGRESS: at 99.53% examples, 218417 words/s, in_qsize 7, out_qsize 0\n",
            "2021-03-16 20:07:19,862 : INFO : worker thread finished; awaiting finish of 3 more threads\n",
            "2021-03-16 20:07:19,894 : INFO : worker thread finished; awaiting finish of 2 more threads\n",
            "2021-03-16 20:07:19,909 : INFO : worker thread finished; awaiting finish of 1 more threads\n",
            "2021-03-16 20:07:19,944 : INFO : worker thread finished; awaiting finish of 0 more threads\n",
            "2021-03-16 20:07:19,945 : INFO : EPOCH - 2 : training on 27203362 raw words (26685904 effective words) took 122.1s, 218536 effective words/s\n",
            "2021-03-16 20:07:20,993 : INFO : EPOCH 3 - PROGRESS: at 0.84% examples, 204840 words/s, in_qsize 7, out_qsize 0\n",
            "2021-03-16 20:07:22,010 : INFO : EPOCH 3 - PROGRESS: at 1.62% examples, 203659 words/s, in_qsize 6, out_qsize 2\n",
            "2021-03-16 20:07:23,014 : INFO : EPOCH 3 - PROGRESS: at 2.87% examples, 214728 words/s, in_qsize 7, out_qsize 0\n",
            "2021-03-16 20:07:24,031 : INFO : EPOCH 3 - PROGRESS: at 3.82% examples, 213110 words/s, in_qsize 6, out_qsize 1\n",
            "2021-03-16 20:07:25,046 : INFO : EPOCH 3 - PROGRESS: at 4.33% examples, 212497 words/s, in_qsize 6, out_qsize 1\n",
            "2021-03-16 20:07:26,085 : INFO : EPOCH 3 - PROGRESS: at 4.82% examples, 212036 words/s, in_qsize 8, out_qsize 1\n",
            "2021-03-16 20:07:27,105 : INFO : EPOCH 3 - PROGRESS: at 5.36% examples, 212339 words/s, in_qsize 7, out_qsize 0\n",
            "2021-03-16 20:07:28,183 : INFO : EPOCH 3 - PROGRESS: at 5.86% examples, 210400 words/s, in_qsize 7, out_qsize 0\n",
            "2021-03-16 20:07:29,204 : INFO : EPOCH 3 - PROGRESS: at 6.52% examples, 210252 words/s, in_qsize 7, out_qsize 0\n",
            "2021-03-16 20:07:30,287 : INFO : EPOCH 3 - PROGRESS: at 7.28% examples, 209873 words/s, in_qsize 6, out_qsize 1\n",
            "2021-03-16 20:07:31,293 : INFO : EPOCH 3 - PROGRESS: at 8.00% examples, 210028 words/s, in_qsize 7, out_qsize 0\n",
            "2021-03-16 20:07:32,397 : INFO : EPOCH 3 - PROGRESS: at 8.76% examples, 210093 words/s, in_qsize 8, out_qsize 2\n",
            "2021-03-16 20:07:33,443 : INFO : EPOCH 3 - PROGRESS: at 9.55% examples, 211519 words/s, in_qsize 7, out_qsize 0\n",
            "2021-03-16 20:07:34,471 : INFO : EPOCH 3 - PROGRESS: at 10.24% examples, 210173 words/s, in_qsize 6, out_qsize 1\n",
            "2021-03-16 20:07:35,492 : INFO : EPOCH 3 - PROGRESS: at 10.96% examples, 210373 words/s, in_qsize 7, out_qsize 1\n",
            "2021-03-16 20:07:36,599 : INFO : EPOCH 3 - PROGRESS: at 11.72% examples, 210122 words/s, in_qsize 7, out_qsize 0\n",
            "2021-03-16 20:07:37,735 : INFO : EPOCH 3 - PROGRESS: at 12.51% examples, 209824 words/s, in_qsize 7, out_qsize 0\n",
            "2021-03-16 20:07:38,802 : INFO : EPOCH 3 - PROGRESS: at 13.54% examples, 209792 words/s, in_qsize 7, out_qsize 1\n",
            "2021-03-16 20:07:39,854 : INFO : EPOCH 3 - PROGRESS: at 14.63% examples, 209892 words/s, in_qsize 7, out_qsize 0\n",
            "2021-03-16 20:07:40,931 : INFO : EPOCH 3 - PROGRESS: at 15.72% examples, 210179 words/s, in_qsize 7, out_qsize 0\n",
            "2021-03-16 20:07:42,010 : INFO : EPOCH 3 - PROGRESS: at 16.69% examples, 210609 words/s, in_qsize 7, out_qsize 1\n",
            "2021-03-16 20:07:43,023 : INFO : EPOCH 3 - PROGRESS: at 17.59% examples, 210862 words/s, in_qsize 7, out_qsize 0\n",
            "2021-03-16 20:07:44,028 : INFO : EPOCH 3 - PROGRESS: at 18.49% examples, 211297 words/s, in_qsize 7, out_qsize 0\n",
            "2021-03-16 20:07:45,045 : INFO : EPOCH 3 - PROGRESS: at 19.40% examples, 211593 words/s, in_qsize 8, out_qsize 1\n",
            "2021-03-16 20:07:46,054 : INFO : EPOCH 3 - PROGRESS: at 20.26% examples, 211573 words/s, in_qsize 7, out_qsize 0\n",
            "2021-03-16 20:07:47,074 : INFO : EPOCH 3 - PROGRESS: at 21.21% examples, 212325 words/s, in_qsize 7, out_qsize 1\n",
            "2021-03-16 20:07:48,067 : INFO : EPOCH 3 - PROGRESS: at 22.25% examples, 213617 words/s, in_qsize 7, out_qsize 0\n",
            "2021-03-16 20:07:49,113 : INFO : EPOCH 3 - PROGRESS: at 23.18% examples, 213915 words/s, in_qsize 7, out_qsize 0\n",
            "2021-03-16 20:07:50,212 : INFO : EPOCH 3 - PROGRESS: at 24.25% examples, 214475 words/s, in_qsize 6, out_qsize 1\n",
            "2021-03-16 20:07:51,291 : INFO : EPOCH 3 - PROGRESS: at 25.29% examples, 215115 words/s, in_qsize 7, out_qsize 0\n",
            "2021-03-16 20:07:52,336 : INFO : EPOCH 3 - PROGRESS: at 26.35% examples, 215072 words/s, in_qsize 7, out_qsize 0\n",
            "2021-03-16 20:07:53,404 : INFO : EPOCH 3 - PROGRESS: at 27.44% examples, 214895 words/s, in_qsize 6, out_qsize 1\n",
            "2021-03-16 20:07:54,455 : INFO : EPOCH 3 - PROGRESS: at 28.55% examples, 215137 words/s, in_qsize 7, out_qsize 0\n",
            "2021-03-16 20:07:55,518 : INFO : EPOCH 3 - PROGRESS: at 29.60% examples, 214749 words/s, in_qsize 7, out_qsize 0\n",
            "2021-03-16 20:07:56,524 : INFO : EPOCH 3 - PROGRESS: at 30.64% examples, 214682 words/s, in_qsize 7, out_qsize 0\n",
            "2021-03-16 20:07:57,526 : INFO : EPOCH 3 - PROGRESS: at 31.72% examples, 214924 words/s, in_qsize 7, out_qsize 0\n",
            "2021-03-16 20:07:58,567 : INFO : EPOCH 3 - PROGRESS: at 32.73% examples, 214661 words/s, in_qsize 7, out_qsize 0\n",
            "2021-03-16 20:07:59,601 : INFO : EPOCH 3 - PROGRESS: at 33.78% examples, 214751 words/s, in_qsize 8, out_qsize 1\n",
            "2021-03-16 20:08:00,640 : INFO : EPOCH 3 - PROGRESS: at 34.51% examples, 214640 words/s, in_qsize 4, out_qsize 3\n",
            "2021-03-16 20:08:01,739 : INFO : EPOCH 3 - PROGRESS: at 35.15% examples, 214765 words/s, in_qsize 8, out_qsize 1\n",
            "2021-03-16 20:08:02,762 : INFO : EPOCH 3 - PROGRESS: at 35.86% examples, 214671 words/s, in_qsize 7, out_qsize 1\n",
            "2021-03-16 20:08:03,757 : INFO : EPOCH 3 - PROGRESS: at 36.63% examples, 214815 words/s, in_qsize 7, out_qsize 0\n",
            "2021-03-16 20:08:04,796 : INFO : EPOCH 3 - PROGRESS: at 37.37% examples, 214618 words/s, in_qsize 7, out_qsize 0\n",
            "2021-03-16 20:08:05,852 : INFO : EPOCH 3 - PROGRESS: at 38.38% examples, 214749 words/s, in_qsize 7, out_qsize 0\n",
            "2021-03-16 20:08:06,852 : INFO : EPOCH 3 - PROGRESS: at 39.28% examples, 214935 words/s, in_qsize 7, out_qsize 0\n",
            "2021-03-16 20:08:07,987 : INFO : EPOCH 3 - PROGRESS: at 40.21% examples, 214883 words/s, in_qsize 7, out_qsize 0\n",
            "2021-03-16 20:08:09,005 : INFO : EPOCH 3 - PROGRESS: at 41.15% examples, 215210 words/s, in_qsize 6, out_qsize 2\n",
            "2021-03-16 20:08:10,007 : INFO : EPOCH 3 - PROGRESS: at 42.18% examples, 215477 words/s, in_qsize 7, out_qsize 0\n",
            "2021-03-16 20:08:11,025 : INFO : EPOCH 3 - PROGRESS: at 43.19% examples, 215573 words/s, in_qsize 7, out_qsize 0\n",
            "2021-03-16 20:08:12,052 : INFO : EPOCH 3 - PROGRESS: at 44.19% examples, 215588 words/s, in_qsize 7, out_qsize 0\n",
            "2021-03-16 20:08:13,147 : INFO : EPOCH 3 - PROGRESS: at 45.08% examples, 215514 words/s, in_qsize 7, out_qsize 0\n",
            "2021-03-16 20:08:14,265 : INFO : EPOCH 3 - PROGRESS: at 45.99% examples, 215348 words/s, in_qsize 6, out_qsize 1\n",
            "2021-03-16 20:08:15,267 : INFO : EPOCH 3 - PROGRESS: at 47.11% examples, 215281 words/s, in_qsize 5, out_qsize 2\n",
            "2021-03-16 20:08:16,315 : INFO : EPOCH 3 - PROGRESS: at 48.03% examples, 215590 words/s, in_qsize 7, out_qsize 0\n",
            "2021-03-16 20:08:17,331 : INFO : EPOCH 3 - PROGRESS: at 48.56% examples, 215681 words/s, in_qsize 7, out_qsize 0\n",
            "2021-03-16 20:08:18,434 : INFO : EPOCH 3 - PROGRESS: at 49.05% examples, 215321 words/s, in_qsize 8, out_qsize 1\n",
            "2021-03-16 20:08:19,430 : INFO : EPOCH 3 - PROGRESS: at 49.58% examples, 215386 words/s, in_qsize 8, out_qsize 0\n",
            "2021-03-16 20:08:20,481 : INFO : EPOCH 3 - PROGRESS: at 50.05% examples, 215123 words/s, in_qsize 5, out_qsize 2\n",
            "2021-03-16 20:08:21,505 : INFO : EPOCH 3 - PROGRESS: at 50.64% examples, 215370 words/s, in_qsize 6, out_qsize 1\n",
            "2021-03-16 20:08:22,586 : INFO : EPOCH 3 - PROGRESS: at 51.26% examples, 215507 words/s, in_qsize 7, out_qsize 0\n",
            "2021-03-16 20:08:23,620 : INFO : EPOCH 3 - PROGRESS: at 51.85% examples, 215693 words/s, in_qsize 7, out_qsize 0\n",
            "2021-03-16 20:08:24,713 : INFO : EPOCH 3 - PROGRESS: at 52.45% examples, 215707 words/s, in_qsize 7, out_qsize 0\n",
            "2021-03-16 20:08:25,715 : INFO : EPOCH 3 - PROGRESS: at 52.99% examples, 215887 words/s, in_qsize 7, out_qsize 0\n",
            "2021-03-16 20:08:26,813 : INFO : EPOCH 3 - PROGRESS: at 53.59% examples, 215980 words/s, in_qsize 7, out_qsize 0\n",
            "2021-03-16 20:08:27,816 : INFO : EPOCH 3 - PROGRESS: at 54.19% examples, 216163 words/s, in_qsize 7, out_qsize 0\n",
            "2021-03-16 20:08:28,857 : INFO : EPOCH 3 - PROGRESS: at 54.76% examples, 216167 words/s, in_qsize 6, out_qsize 1\n",
            "2021-03-16 20:08:29,886 : INFO : EPOCH 3 - PROGRESS: at 55.34% examples, 216451 words/s, in_qsize 7, out_qsize 0\n",
            "2021-03-16 20:08:30,904 : INFO : EPOCH 3 - PROGRESS: at 55.92% examples, 216667 words/s, in_qsize 7, out_qsize 0\n",
            "2021-03-16 20:08:31,940 : INFO : EPOCH 3 - PROGRESS: at 56.50% examples, 216677 words/s, in_qsize 7, out_qsize 0\n",
            "2021-03-16 20:08:32,944 : INFO : EPOCH 3 - PROGRESS: at 57.69% examples, 216619 words/s, in_qsize 7, out_qsize 0\n",
            "2021-03-16 20:08:33,996 : INFO : EPOCH 3 - PROGRESS: at 58.96% examples, 216740 words/s, in_qsize 7, out_qsize 1\n",
            "2021-03-16 20:08:35,005 : INFO : EPOCH 3 - PROGRESS: at 59.94% examples, 216872 words/s, in_qsize 8, out_qsize 0\n",
            "2021-03-16 20:08:36,024 : INFO : EPOCH 3 - PROGRESS: at 60.92% examples, 217030 words/s, in_qsize 7, out_qsize 0\n",
            "2021-03-16 20:08:37,025 : INFO : EPOCH 3 - PROGRESS: at 61.86% examples, 217104 words/s, in_qsize 7, out_qsize 0\n",
            "2021-03-16 20:08:38,047 : INFO : EPOCH 3 - PROGRESS: at 62.85% examples, 217237 words/s, in_qsize 7, out_qsize 0\n",
            "2021-03-16 20:08:39,125 : INFO : EPOCH 3 - PROGRESS: at 63.85% examples, 217204 words/s, in_qsize 6, out_qsize 1\n",
            "2021-03-16 20:08:40,127 : INFO : EPOCH 3 - PROGRESS: at 64.84% examples, 217616 words/s, in_qsize 7, out_qsize 0\n",
            "2021-03-16 20:08:41,169 : INFO : EPOCH 3 - PROGRESS: at 65.76% examples, 217671 words/s, in_qsize 7, out_qsize 0\n",
            "2021-03-16 20:08:42,230 : INFO : EPOCH 3 - PROGRESS: at 66.75% examples, 217907 words/s, in_qsize 7, out_qsize 0\n",
            "2021-03-16 20:08:43,242 : INFO : EPOCH 3 - PROGRESS: at 67.72% examples, 218160 words/s, in_qsize 7, out_qsize 0\n",
            "2021-03-16 20:08:44,249 : INFO : EPOCH 3 - PROGRESS: at 68.72% examples, 218201 words/s, in_qsize 7, out_qsize 0\n",
            "2021-03-16 20:08:45,289 : INFO : EPOCH 3 - PROGRESS: at 69.83% examples, 218046 words/s, in_qsize 6, out_qsize 1\n",
            "2021-03-16 20:08:46,292 : INFO : EPOCH 3 - PROGRESS: at 70.92% examples, 217991 words/s, in_qsize 6, out_qsize 1\n",
            "2021-03-16 20:08:47,319 : INFO : EPOCH 3 - PROGRESS: at 72.05% examples, 217979 words/s, in_qsize 7, out_qsize 0\n",
            "2021-03-16 20:08:48,398 : INFO : EPOCH 3 - PROGRESS: at 73.20% examples, 217892 words/s, in_qsize 7, out_qsize 1\n",
            "2021-03-16 20:08:49,399 : INFO : EPOCH 3 - PROGRESS: at 74.28% examples, 217803 words/s, in_qsize 7, out_qsize 0\n",
            "2021-03-16 20:08:50,410 : INFO : EPOCH 3 - PROGRESS: at 75.40% examples, 217837 words/s, in_qsize 7, out_qsize 0\n",
            "2021-03-16 20:08:51,422 : INFO : EPOCH 3 - PROGRESS: at 76.33% examples, 217858 words/s, in_qsize 7, out_qsize 0\n",
            "2021-03-16 20:08:52,441 : INFO : EPOCH 3 - PROGRESS: at 77.18% examples, 217869 words/s, in_qsize 7, out_qsize 0\n",
            "2021-03-16 20:08:53,488 : INFO : EPOCH 3 - PROGRESS: at 77.89% examples, 217710 words/s, in_qsize 7, out_qsize 0\n",
            "2021-03-16 20:08:54,515 : INFO : EPOCH 3 - PROGRESS: at 78.92% examples, 217698 words/s, in_qsize 7, out_qsize 1\n",
            "2021-03-16 20:08:55,625 : INFO : EPOCH 3 - PROGRESS: at 79.84% examples, 217692 words/s, in_qsize 7, out_qsize 0\n",
            "2021-03-16 20:08:56,652 : INFO : EPOCH 3 - PROGRESS: at 80.37% examples, 217617 words/s, in_qsize 7, out_qsize 1\n",
            "2021-03-16 20:08:57,645 : INFO : EPOCH 3 - PROGRESS: at 80.89% examples, 217562 words/s, in_qsize 8, out_qsize 0\n",
            "2021-03-16 20:08:58,716 : INFO : EPOCH 3 - PROGRESS: at 81.41% examples, 217743 words/s, in_qsize 7, out_qsize 0\n",
            "2021-03-16 20:08:59,761 : INFO : EPOCH 3 - PROGRESS: at 81.87% examples, 217911 words/s, in_qsize 7, out_qsize 0\n",
            "2021-03-16 20:09:00,800 : INFO : EPOCH 3 - PROGRESS: at 82.35% examples, 218114 words/s, in_qsize 7, out_qsize 0\n",
            "2021-03-16 20:09:01,814 : INFO : EPOCH 3 - PROGRESS: at 82.86% examples, 218387 words/s, in_qsize 6, out_qsize 1\n",
            "2021-03-16 20:09:02,873 : INFO : EPOCH 3 - PROGRESS: at 83.42% examples, 218694 words/s, in_qsize 7, out_qsize 0\n",
            "2021-03-16 20:09:03,912 : INFO : EPOCH 3 - PROGRESS: at 83.96% examples, 218896 words/s, in_qsize 7, out_qsize 0\n",
            "2021-03-16 20:09:04,971 : INFO : EPOCH 3 - PROGRESS: at 84.48% examples, 219132 words/s, in_qsize 7, out_qsize 0\n",
            "2021-03-16 20:09:05,998 : INFO : EPOCH 3 - PROGRESS: at 85.02% examples, 219466 words/s, in_qsize 7, out_qsize 0\n",
            "2021-03-16 20:09:07,002 : INFO : EPOCH 3 - PROGRESS: at 85.49% examples, 219567 words/s, in_qsize 7, out_qsize 0\n",
            "2021-03-16 20:09:08,108 : INFO : EPOCH 3 - PROGRESS: at 86.32% examples, 219661 words/s, in_qsize 7, out_qsize 0\n",
            "2021-03-16 20:09:09,145 : INFO : EPOCH 3 - PROGRESS: at 87.60% examples, 219705 words/s, in_qsize 7, out_qsize 0\n",
            "2021-03-16 20:09:10,160 : INFO : EPOCH 3 - PROGRESS: at 88.50% examples, 219619 words/s, in_qsize 7, out_qsize 0\n",
            "2021-03-16 20:09:11,201 : INFO : EPOCH 3 - PROGRESS: at 89.47% examples, 219657 words/s, in_qsize 7, out_qsize 0\n",
            "2021-03-16 20:09:12,310 : INFO : EPOCH 3 - PROGRESS: at 90.42% examples, 219564 words/s, in_qsize 7, out_qsize 0\n",
            "2021-03-16 20:09:13,334 : INFO : EPOCH 3 - PROGRESS: at 91.47% examples, 219796 words/s, in_qsize 7, out_qsize 0\n",
            "2021-03-16 20:09:14,357 : INFO : EPOCH 3 - PROGRESS: at 92.40% examples, 219849 words/s, in_qsize 7, out_qsize 0\n",
            "2021-03-16 20:09:15,373 : INFO : EPOCH 3 - PROGRESS: at 93.33% examples, 219928 words/s, in_qsize 7, out_qsize 0\n",
            "2021-03-16 20:09:16,469 : INFO : EPOCH 3 - PROGRESS: at 94.32% examples, 219847 words/s, in_qsize 4, out_qsize 3\n",
            "2021-03-16 20:09:17,547 : INFO : EPOCH 3 - PROGRESS: at 95.61% examples, 219893 words/s, in_qsize 7, out_qsize 0\n",
            "2021-03-16 20:09:18,566 : INFO : EPOCH 3 - PROGRESS: at 96.84% examples, 219970 words/s, in_qsize 8, out_qsize 0\n",
            "2021-03-16 20:09:19,629 : INFO : EPOCH 3 - PROGRESS: at 97.99% examples, 219879 words/s, in_qsize 7, out_qsize 0\n",
            "2021-03-16 20:09:20,677 : INFO : EPOCH 3 - PROGRESS: at 99.27% examples, 219906 words/s, in_qsize 8, out_qsize 0\n",
            "2021-03-16 20:09:21,153 : INFO : worker thread finished; awaiting finish of 3 more threads\n",
            "2021-03-16 20:09:21,155 : INFO : worker thread finished; awaiting finish of 2 more threads\n",
            "2021-03-16 20:09:21,200 : INFO : worker thread finished; awaiting finish of 1 more threads\n",
            "2021-03-16 20:09:21,222 : INFO : worker thread finished; awaiting finish of 0 more threads\n",
            "2021-03-16 20:09:21,224 : INFO : EPOCH - 3 : training on 27203362 raw words (26685543 effective words) took 121.3s, 220048 effective words/s\n",
            "2021-03-16 20:09:22,265 : INFO : EPOCH 4 - PROGRESS: at 0.84% examples, 209886 words/s, in_qsize 8, out_qsize 0\n",
            "2021-03-16 20:09:23,282 : INFO : EPOCH 4 - PROGRESS: at 1.67% examples, 207289 words/s, in_qsize 7, out_qsize 0\n",
            "2021-03-16 20:09:24,312 : INFO : EPOCH 4 - PROGRESS: at 2.91% examples, 216404 words/s, in_qsize 7, out_qsize 0\n",
            "2021-03-16 20:09:25,354 : INFO : EPOCH 4 - PROGRESS: at 3.87% examples, 215438 words/s, in_qsize 8, out_qsize 1\n",
            "2021-03-16 20:09:26,374 : INFO : EPOCH 4 - PROGRESS: at 4.40% examples, 216079 words/s, in_qsize 7, out_qsize 0\n",
            "2021-03-16 20:09:27,397 : INFO : EPOCH 4 - PROGRESS: at 4.91% examples, 216252 words/s, in_qsize 7, out_qsize 0\n",
            "2021-03-16 20:09:28,398 : INFO : EPOCH 4 - PROGRESS: at 5.41% examples, 214585 words/s, in_qsize 6, out_qsize 1\n",
            "2021-03-16 20:09:29,468 : INFO : EPOCH 4 - PROGRESS: at 5.94% examples, 214861 words/s, in_qsize 7, out_qsize 0\n",
            "2021-03-16 20:09:30,492 : INFO : EPOCH 4 - PROGRESS: at 6.68% examples, 215250 words/s, in_qsize 7, out_qsize 0\n",
            "2021-03-16 20:09:31,523 : INFO : EPOCH 4 - PROGRESS: at 7.39% examples, 213539 words/s, in_qsize 5, out_qsize 2\n",
            "2021-03-16 20:09:32,543 : INFO : EPOCH 4 - PROGRESS: at 8.15% examples, 214774 words/s, in_qsize 7, out_qsize 0\n",
            "2021-03-16 20:09:33,549 : INFO : EPOCH 4 - PROGRESS: at 8.85% examples, 214588 words/s, in_qsize 7, out_qsize 0\n",
            "2021-03-16 20:09:34,558 : INFO : EPOCH 4 - PROGRESS: at 9.56% examples, 213670 words/s, in_qsize 6, out_qsize 1\n",
            "2021-03-16 20:09:35,607 : INFO : EPOCH 4 - PROGRESS: at 10.31% examples, 213582 words/s, in_qsize 7, out_qsize 0\n",
            "2021-03-16 20:09:36,646 : INFO : EPOCH 4 - PROGRESS: at 11.06% examples, 213671 words/s, in_qsize 7, out_qsize 0\n",
            "2021-03-16 20:09:37,735 : INFO : EPOCH 4 - PROGRESS: at 11.79% examples, 213117 words/s, in_qsize 6, out_qsize 1\n",
            "2021-03-16 20:09:38,744 : INFO : EPOCH 4 - PROGRESS: at 12.54% examples, 213585 words/s, in_qsize 7, out_qsize 0\n",
            "2021-03-16 20:09:39,759 : INFO : EPOCH 4 - PROGRESS: at 13.54% examples, 213421 words/s, in_qsize 7, out_qsize 0\n",
            "2021-03-16 20:09:40,782 : INFO : EPOCH 4 - PROGRESS: at 14.64% examples, 213862 words/s, in_qsize 7, out_qsize 1\n",
            "2021-03-16 20:09:41,852 : INFO : EPOCH 4 - PROGRESS: at 15.68% examples, 213358 words/s, in_qsize 6, out_qsize 1\n",
            "2021-03-16 20:09:42,892 : INFO : EPOCH 4 - PROGRESS: at 16.65% examples, 213842 words/s, in_qsize 7, out_qsize 0\n",
            "2021-03-16 20:09:43,916 : INFO : EPOCH 4 - PROGRESS: at 17.59% examples, 214602 words/s, in_qsize 7, out_qsize 1\n",
            "2021-03-16 20:09:44,972 : INFO : EPOCH 4 - PROGRESS: at 18.57% examples, 215087 words/s, in_qsize 7, out_qsize 0\n",
            "2021-03-16 20:09:46,082 : INFO : EPOCH 4 - PROGRESS: at 19.55% examples, 215209 words/s, in_qsize 7, out_qsize 0\n",
            "2021-03-16 20:09:47,129 : INFO : EPOCH 4 - PROGRESS: at 20.53% examples, 215872 words/s, in_qsize 7, out_qsize 0\n",
            "2021-03-16 20:09:48,145 : INFO : EPOCH 4 - PROGRESS: at 21.52% examples, 216697 words/s, in_qsize 7, out_qsize 0\n",
            "2021-03-16 20:09:49,165 : INFO : EPOCH 4 - PROGRESS: at 22.48% examples, 217086 words/s, in_qsize 7, out_qsize 0\n",
            "2021-03-16 20:09:50,271 : INFO : EPOCH 4 - PROGRESS: at 23.56% examples, 217805 words/s, in_qsize 6, out_qsize 1\n",
            "2021-03-16 20:09:51,291 : INFO : EPOCH 4 - PROGRESS: at 24.58% examples, 218484 words/s, in_qsize 7, out_qsize 0\n",
            "2021-03-16 20:09:52,308 : INFO : EPOCH 4 - PROGRESS: at 25.59% examples, 219114 words/s, in_qsize 7, out_qsize 0\n",
            "2021-03-16 20:09:53,385 : INFO : EPOCH 4 - PROGRESS: at 26.67% examples, 218724 words/s, in_qsize 6, out_qsize 1\n",
            "2021-03-16 20:09:54,405 : INFO : EPOCH 4 - PROGRESS: at 27.79% examples, 219138 words/s, in_qsize 7, out_qsize 0\n",
            "2021-03-16 20:09:55,488 : INFO : EPOCH 4 - PROGRESS: at 28.84% examples, 218495 words/s, in_qsize 7, out_qsize 1\n",
            "2021-03-16 20:09:56,484 : INFO : EPOCH 4 - PROGRESS: at 29.88% examples, 218303 words/s, in_qsize 6, out_qsize 1\n",
            "2021-03-16 20:09:57,488 : INFO : EPOCH 4 - PROGRESS: at 30.92% examples, 218154 words/s, in_qsize 7, out_qsize 0\n",
            "2021-03-16 20:09:58,517 : INFO : EPOCH 4 - PROGRESS: at 32.05% examples, 218412 words/s, in_qsize 7, out_qsize 0\n",
            "2021-03-16 20:09:59,563 : INFO : EPOCH 4 - PROGRESS: at 33.01% examples, 218248 words/s, in_qsize 7, out_qsize 0\n",
            "2021-03-16 20:10:00,577 : INFO : EPOCH 4 - PROGRESS: at 34.23% examples, 218769 words/s, in_qsize 7, out_qsize 0\n",
            "2021-03-16 20:10:01,577 : INFO : EPOCH 4 - PROGRESS: at 34.70% examples, 218371 words/s, in_qsize 8, out_qsize 0\n",
            "2021-03-16 20:10:02,594 : INFO : EPOCH 4 - PROGRESS: at 35.30% examples, 218135 words/s, in_qsize 7, out_qsize 0\n",
            "2021-03-16 20:10:03,698 : INFO : EPOCH 4 - PROGRESS: at 36.06% examples, 217707 words/s, in_qsize 7, out_qsize 0\n",
            "2021-03-16 20:10:04,718 : INFO : EPOCH 4 - PROGRESS: at 36.86% examples, 217964 words/s, in_qsize 7, out_qsize 0\n",
            "2021-03-16 20:10:05,759 : INFO : EPOCH 4 - PROGRESS: at 37.74% examples, 217882 words/s, in_qsize 7, out_qsize 0\n",
            "2021-03-16 20:10:06,772 : INFO : EPOCH 4 - PROGRESS: at 38.60% examples, 217724 words/s, in_qsize 6, out_qsize 1\n",
            "2021-03-16 20:10:07,810 : INFO : EPOCH 4 - PROGRESS: at 39.59% examples, 218081 words/s, in_qsize 7, out_qsize 0\n",
            "2021-03-16 20:10:08,818 : INFO : EPOCH 4 - PROGRESS: at 40.45% examples, 218123 words/s, in_qsize 7, out_qsize 0\n",
            "2021-03-16 20:10:09,849 : INFO : EPOCH 4 - PROGRESS: at 41.44% examples, 218469 words/s, in_qsize 7, out_qsize 0\n",
            "2021-03-16 20:10:10,857 : INFO : EPOCH 4 - PROGRESS: at 42.40% examples, 218327 words/s, in_qsize 7, out_qsize 2\n",
            "2021-03-16 20:10:11,898 : INFO : EPOCH 4 - PROGRESS: at 43.45% examples, 218449 words/s, in_qsize 7, out_qsize 0\n",
            "2021-03-16 20:10:12,926 : INFO : EPOCH 4 - PROGRESS: at 44.49% examples, 218813 words/s, in_qsize 8, out_qsize 0\n",
            "2021-03-16 20:10:13,985 : INFO : EPOCH 4 - PROGRESS: at 45.33% examples, 218600 words/s, in_qsize 7, out_qsize 0\n",
            "2021-03-16 20:10:14,996 : INFO : EPOCH 4 - PROGRESS: at 46.34% examples, 218804 words/s, in_qsize 7, out_qsize 0\n",
            "2021-03-16 20:10:16,047 : INFO : EPOCH 4 - PROGRESS: at 47.48% examples, 218481 words/s, in_qsize 5, out_qsize 2\n",
            "2021-03-16 20:10:17,087 : INFO : EPOCH 4 - PROGRESS: at 48.15% examples, 218416 words/s, in_qsize 8, out_qsize 1\n",
            "2021-03-16 20:10:18,087 : INFO : EPOCH 4 - PROGRESS: at 48.67% examples, 218520 words/s, in_qsize 7, out_qsize 0\n",
            "2021-03-16 20:10:19,091 : INFO : EPOCH 4 - PROGRESS: at 49.19% examples, 218583 words/s, in_qsize 7, out_qsize 0\n",
            "2021-03-16 20:10:20,106 : INFO : EPOCH 4 - PROGRESS: at 49.68% examples, 218411 words/s, in_qsize 6, out_qsize 1\n",
            "2021-03-16 20:10:21,114 : INFO : EPOCH 4 - PROGRESS: at 50.23% examples, 218673 words/s, in_qsize 7, out_qsize 0\n",
            "2021-03-16 20:10:22,152 : INFO : EPOCH 4 - PROGRESS: at 50.80% examples, 218805 words/s, in_qsize 7, out_qsize 0\n",
            "2021-03-16 20:10:23,164 : INFO : EPOCH 4 - PROGRESS: at 51.44% examples, 219153 words/s, in_qsize 7, out_qsize 0\n",
            "2021-03-16 20:10:24,260 : INFO : EPOCH 4 - PROGRESS: at 52.05% examples, 218995 words/s, in_qsize 7, out_qsize 1\n",
            "2021-03-16 20:10:25,244 : INFO : EPOCH 4 - PROGRESS: at 52.60% examples, 219229 words/s, in_qsize 6, out_qsize 1\n",
            "2021-03-16 20:10:26,339 : INFO : EPOCH 4 - PROGRESS: at 53.17% examples, 219109 words/s, in_qsize 8, out_qsize 2\n",
            "2021-03-16 20:10:27,377 : INFO : EPOCH 4 - PROGRESS: at 53.76% examples, 219314 words/s, in_qsize 7, out_qsize 0\n",
            "2021-03-16 20:10:28,398 : INFO : EPOCH 4 - PROGRESS: at 54.35% examples, 219270 words/s, in_qsize 6, out_qsize 1\n",
            "2021-03-16 20:10:29,494 : INFO : EPOCH 4 - PROGRESS: at 54.96% examples, 219423 words/s, in_qsize 7, out_qsize 0\n",
            "2021-03-16 20:10:30,570 : INFO : EPOCH 4 - PROGRESS: at 55.56% examples, 219648 words/s, in_qsize 7, out_qsize 0\n",
            "2021-03-16 20:10:31,586 : INFO : EPOCH 4 - PROGRESS: at 56.10% examples, 219582 words/s, in_qsize 7, out_qsize 0\n",
            "2021-03-16 20:10:32,645 : INFO : EPOCH 4 - PROGRESS: at 56.99% examples, 219646 words/s, in_qsize 7, out_qsize 0\n",
            "2021-03-16 20:10:33,791 : INFO : EPOCH 4 - PROGRESS: at 58.33% examples, 219611 words/s, in_qsize 7, out_qsize 2\n",
            "2021-03-16 20:10:34,792 : INFO : EPOCH 4 - PROGRESS: at 59.45% examples, 219700 words/s, in_qsize 7, out_qsize 0\n",
            "2021-03-16 20:10:35,794 : INFO : EPOCH 4 - PROGRESS: at 60.40% examples, 219738 words/s, in_qsize 7, out_qsize 0\n",
            "2021-03-16 20:10:36,833 : INFO : EPOCH 4 - PROGRESS: at 61.33% examples, 219717 words/s, in_qsize 7, out_qsize 0\n",
            "2021-03-16 20:10:37,828 : INFO : EPOCH 4 - PROGRESS: at 62.31% examples, 219849 words/s, in_qsize 7, out_qsize 0\n",
            "2021-03-16 20:10:38,845 : INFO : EPOCH 4 - PROGRESS: at 63.29% examples, 219829 words/s, in_qsize 7, out_qsize 0\n",
            "2021-03-16 20:10:39,889 : INFO : EPOCH 4 - PROGRESS: at 64.27% examples, 219976 words/s, in_qsize 8, out_qsize 0\n",
            "2021-03-16 20:10:40,900 : INFO : EPOCH 4 - PROGRESS: at 65.22% examples, 220218 words/s, in_qsize 7, out_qsize 0\n",
            "2021-03-16 20:10:41,921 : INFO : EPOCH 4 - PROGRESS: at 66.13% examples, 220311 words/s, in_qsize 7, out_qsize 1\n",
            "2021-03-16 20:10:42,960 : INFO : EPOCH 4 - PROGRESS: at 67.14% examples, 220563 words/s, in_qsize 8, out_qsize 0\n",
            "2021-03-16 20:10:43,975 : INFO : EPOCH 4 - PROGRESS: at 68.10% examples, 220774 words/s, in_qsize 6, out_qsize 1\n",
            "2021-03-16 20:10:45,028 : INFO : EPOCH 4 - PROGRESS: at 69.24% examples, 220668 words/s, in_qsize 6, out_qsize 1\n",
            "2021-03-16 20:10:46,081 : INFO : EPOCH 4 - PROGRESS: at 70.43% examples, 220682 words/s, in_qsize 7, out_qsize 0\n",
            "2021-03-16 20:10:47,174 : INFO : EPOCH 4 - PROGRESS: at 71.56% examples, 220528 words/s, in_qsize 7, out_qsize 0\n",
            "2021-03-16 20:10:48,231 : INFO : EPOCH 4 - PROGRESS: at 72.75% examples, 220466 words/s, in_qsize 7, out_qsize 0\n",
            "2021-03-16 20:10:49,241 : INFO : EPOCH 4 - PROGRESS: at 73.83% examples, 220376 words/s, in_qsize 7, out_qsize 0\n",
            "2021-03-16 20:10:50,324 : INFO : EPOCH 4 - PROGRESS: at 75.07% examples, 220421 words/s, in_qsize 7, out_qsize 0\n",
            "2021-03-16 20:10:51,337 : INFO : EPOCH 4 - PROGRESS: at 76.03% examples, 220301 words/s, in_qsize 6, out_qsize 1\n",
            "2021-03-16 20:10:52,342 : INFO : EPOCH 4 - PROGRESS: at 76.93% examples, 220424 words/s, in_qsize 7, out_qsize 0\n",
            "2021-03-16 20:10:53,477 : INFO : EPOCH 4 - PROGRESS: at 77.74% examples, 220233 words/s, in_qsize 7, out_qsize 0\n",
            "2021-03-16 20:10:54,491 : INFO : EPOCH 4 - PROGRESS: at 78.75% examples, 220433 words/s, in_qsize 7, out_qsize 0\n",
            "2021-03-16 20:10:55,503 : INFO : EPOCH 4 - PROGRESS: at 79.72% examples, 220422 words/s, in_qsize 7, out_qsize 0\n",
            "2021-03-16 20:10:56,516 : INFO : EPOCH 4 - PROGRESS: at 80.22% examples, 220213 words/s, in_qsize 6, out_qsize 1\n",
            "2021-03-16 20:10:57,524 : INFO : EPOCH 4 - PROGRESS: at 80.75% examples, 220125 words/s, in_qsize 7, out_qsize 0\n",
            "2021-03-16 20:10:58,549 : INFO : EPOCH 4 - PROGRESS: at 81.28% examples, 220361 words/s, in_qsize 7, out_qsize 0\n",
            "2021-03-16 20:10:59,533 : INFO : EPOCH 4 - PROGRESS: at 81.73% examples, 220519 words/s, in_qsize 6, out_qsize 1\n",
            "2021-03-16 20:11:00,593 : INFO : EPOCH 4 - PROGRESS: at 82.24% examples, 220824 words/s, in_qsize 7, out_qsize 0\n",
            "2021-03-16 20:11:01,606 : INFO : EPOCH 4 - PROGRESS: at 82.77% examples, 221170 words/s, in_qsize 7, out_qsize 0\n",
            "2021-03-16 20:11:02,633 : INFO : EPOCH 4 - PROGRESS: at 83.28% examples, 221353 words/s, in_qsize 7, out_qsize 0\n",
            "2021-03-16 20:11:03,689 : INFO : EPOCH 4 - PROGRESS: at 83.83% examples, 221561 words/s, in_qsize 7, out_qsize 0\n",
            "2021-03-16 20:11:04,705 : INFO : EPOCH 4 - PROGRESS: at 84.37% examples, 221880 words/s, in_qsize 7, out_qsize 0\n",
            "2021-03-16 20:11:05,784 : INFO : EPOCH 4 - PROGRESS: at 84.91% examples, 222070 words/s, in_qsize 7, out_qsize 0\n",
            "2021-03-16 20:11:06,798 : INFO : EPOCH 4 - PROGRESS: at 85.44% examples, 222313 words/s, in_qsize 7, out_qsize 0\n",
            "2021-03-16 20:11:07,846 : INFO : EPOCH 4 - PROGRESS: at 86.04% examples, 222388 words/s, in_qsize 7, out_qsize 0\n",
            "2021-03-16 20:11:08,897 : INFO : EPOCH 4 - PROGRESS: at 87.33% examples, 222407 words/s, in_qsize 7, out_qsize 0\n",
            "2021-03-16 20:11:09,991 : INFO : EPOCH 4 - PROGRESS: at 88.38% examples, 222280 words/s, in_qsize 6, out_qsize 1\n",
            "2021-03-16 20:11:10,997 : INFO : EPOCH 4 - PROGRESS: at 89.32% examples, 222276 words/s, in_qsize 7, out_qsize 0\n",
            "2021-03-16 20:11:12,030 : INFO : EPOCH 4 - PROGRESS: at 90.29% examples, 222394 words/s, in_qsize 7, out_qsize 0\n",
            "2021-03-16 20:11:13,079 : INFO : EPOCH 4 - PROGRESS: at 91.22% examples, 222302 words/s, in_qsize 7, out_qsize 0\n",
            "2021-03-16 20:11:14,124 : INFO : EPOCH 4 - PROGRESS: at 92.24% examples, 222461 words/s, in_qsize 7, out_qsize 0\n",
            "2021-03-16 20:11:15,138 : INFO : EPOCH 4 - PROGRESS: at 93.26% examples, 222684 words/s, in_qsize 7, out_qsize 0\n",
            "2021-03-16 20:11:16,153 : INFO : EPOCH 4 - PROGRESS: at 94.22% examples, 222733 words/s, in_qsize 8, out_qsize 0\n",
            "2021-03-16 20:11:17,166 : INFO : EPOCH 4 - PROGRESS: at 95.33% examples, 222545 words/s, in_qsize 7, out_qsize 0\n",
            "2021-03-16 20:11:18,199 : INFO : EPOCH 4 - PROGRESS: at 96.48% examples, 222488 words/s, in_qsize 5, out_qsize 2\n",
            "2021-03-16 20:11:19,230 : INFO : EPOCH 4 - PROGRESS: at 97.65% examples, 222437 words/s, in_qsize 6, out_qsize 1\n",
            "2021-03-16 20:11:20,240 : INFO : EPOCH 4 - PROGRESS: at 98.84% examples, 222428 words/s, in_qsize 7, out_qsize 3\n",
            "2021-03-16 20:11:21,029 : INFO : worker thread finished; awaiting finish of 3 more threads\n",
            "2021-03-16 20:11:21,063 : INFO : worker thread finished; awaiting finish of 2 more threads\n",
            "2021-03-16 20:11:21,098 : INFO : worker thread finished; awaiting finish of 1 more threads\n",
            "2021-03-16 20:11:21,118 : INFO : worker thread finished; awaiting finish of 0 more threads\n",
            "2021-03-16 20:11:21,119 : INFO : EPOCH - 4 : training on 27203362 raw words (26686743 effective words) took 119.9s, 222593 effective words/s\n",
            "2021-03-16 20:11:22,299 : INFO : EPOCH 5 - PROGRESS: at 0.91% examples, 200692 words/s, in_qsize 7, out_qsize 1\n",
            "2021-03-16 20:11:23,396 : INFO : EPOCH 5 - PROGRESS: at 1.98% examples, 214399 words/s, in_qsize 7, out_qsize 0\n",
            "2021-03-16 20:11:24,402 : INFO : EPOCH 5 - PROGRESS: at 3.22% examples, 222345 words/s, in_qsize 8, out_qsize 0\n",
            "2021-03-16 20:11:25,499 : INFO : EPOCH 5 - PROGRESS: at 4.03% examples, 219339 words/s, in_qsize 7, out_qsize 0\n",
            "2021-03-16 20:11:26,626 : INFO : EPOCH 5 - PROGRESS: at 4.59% examples, 218561 words/s, in_qsize 7, out_qsize 0\n",
            "2021-03-16 20:11:27,695 : INFO : EPOCH 5 - PROGRESS: at 5.16% examples, 218311 words/s, in_qsize 7, out_qsize 0\n",
            "2021-03-16 20:11:28,726 : INFO : EPOCH 5 - PROGRESS: at 5.67% examples, 218075 words/s, in_qsize 7, out_qsize 0\n",
            "2021-03-16 20:11:29,765 : INFO : EPOCH 5 - PROGRESS: at 6.26% examples, 216522 words/s, in_qsize 7, out_qsize 0\n",
            "2021-03-16 20:11:30,801 : INFO : EPOCH 5 - PROGRESS: at 7.02% examples, 216464 words/s, in_qsize 7, out_qsize 0\n",
            "2021-03-16 20:11:31,845 : INFO : EPOCH 5 - PROGRESS: at 7.73% examples, 215329 words/s, in_qsize 6, out_qsize 1\n",
            "2021-03-16 20:11:32,847 : INFO : EPOCH 5 - PROGRESS: at 8.47% examples, 215857 words/s, in_qsize 8, out_qsize 1\n",
            "2021-03-16 20:11:33,889 : INFO : EPOCH 5 - PROGRESS: at 9.19% examples, 215010 words/s, in_qsize 5, out_qsize 2\n",
            "2021-03-16 20:11:34,975 : INFO : EPOCH 5 - PROGRESS: at 9.98% examples, 214951 words/s, in_qsize 6, out_qsize 3\n",
            "2021-03-16 20:11:36,020 : INFO : EPOCH 5 - PROGRESS: at 10.77% examples, 215488 words/s, in_qsize 7, out_qsize 0\n",
            "2021-03-16 20:11:37,080 : INFO : EPOCH 5 - PROGRESS: at 11.49% examples, 215187 words/s, in_qsize 7, out_qsize 0\n",
            "2021-03-16 20:11:38,114 : INFO : EPOCH 5 - PROGRESS: at 12.23% examples, 214689 words/s, in_qsize 7, out_qsize 0\n",
            "2021-03-16 20:11:39,148 : INFO : EPOCH 5 - PROGRESS: at 13.10% examples, 214769 words/s, in_qsize 6, out_qsize 1\n",
            "2021-03-16 20:11:40,164 : INFO : EPOCH 5 - PROGRESS: at 14.20% examples, 215011 words/s, in_qsize 7, out_qsize 0\n",
            "2021-03-16 20:11:41,203 : INFO : EPOCH 5 - PROGRESS: at 15.30% examples, 214950 words/s, in_qsize 7, out_qsize 0\n",
            "2021-03-16 20:11:42,222 : INFO : EPOCH 5 - PROGRESS: at 16.26% examples, 215145 words/s, in_qsize 7, out_qsize 0\n",
            "2021-03-16 20:11:43,293 : INFO : EPOCH 5 - PROGRESS: at 17.20% examples, 215222 words/s, in_qsize 8, out_qsize 0\n",
            "2021-03-16 20:11:44,347 : INFO : EPOCH 5 - PROGRESS: at 18.18% examples, 215874 words/s, in_qsize 7, out_qsize 0\n",
            "2021-03-16 20:11:45,442 : INFO : EPOCH 5 - PROGRESS: at 19.13% examples, 215695 words/s, in_qsize 7, out_qsize 0\n",
            "2021-03-16 20:11:46,451 : INFO : EPOCH 5 - PROGRESS: at 20.02% examples, 215894 words/s, in_qsize 7, out_qsize 0\n",
            "2021-03-16 20:11:47,480 : INFO : EPOCH 5 - PROGRESS: at 20.98% examples, 216280 words/s, in_qsize 7, out_qsize 0\n",
            "2021-03-16 20:11:48,564 : INFO : EPOCH 5 - PROGRESS: at 22.04% examples, 217235 words/s, in_qsize 7, out_qsize 0\n",
            "2021-03-16 20:11:49,580 : INFO : EPOCH 5 - PROGRESS: at 23.03% examples, 217978 words/s, in_qsize 7, out_qsize 0\n",
            "2021-03-16 20:11:50,584 : INFO : EPOCH 5 - PROGRESS: at 24.01% examples, 218437 words/s, in_qsize 7, out_qsize 0\n",
            "2021-03-16 20:11:51,588 : INFO : EPOCH 5 - PROGRESS: at 24.98% examples, 218897 words/s, in_qsize 7, out_qsize 0\n",
            "2021-03-16 20:11:52,611 : INFO : EPOCH 5 - PROGRESS: at 26.01% examples, 219175 words/s, in_qsize 7, out_qsize 0\n",
            "2021-03-16 20:11:53,657 : INFO : EPOCH 5 - PROGRESS: at 27.05% examples, 218681 words/s, in_qsize 7, out_qsize 0\n",
            "2021-03-16 20:11:54,668 : INFO : EPOCH 5 - PROGRESS: at 28.07% examples, 218492 words/s, in_qsize 7, out_qsize 0\n",
            "2021-03-16 20:11:55,705 : INFO : EPOCH 5 - PROGRESS: at 29.18% examples, 218434 words/s, in_qsize 6, out_qsize 1\n",
            "2021-03-16 20:11:56,732 : INFO : EPOCH 5 - PROGRESS: at 30.22% examples, 218145 words/s, in_qsize 6, out_qsize 1\n",
            "2021-03-16 20:11:57,823 : INFO : EPOCH 5 - PROGRESS: at 31.29% examples, 217761 words/s, in_qsize 7, out_qsize 3\n",
            "2021-03-16 20:11:58,844 : INFO : EPOCH 5 - PROGRESS: at 32.42% examples, 218057 words/s, in_qsize 7, out_qsize 0\n",
            "2021-03-16 20:11:59,847 : INFO : EPOCH 5 - PROGRESS: at 33.46% examples, 218387 words/s, in_qsize 8, out_qsize 0\n",
            "2021-03-16 20:12:00,891 : INFO : EPOCH 5 - PROGRESS: at 34.38% examples, 218247 words/s, in_qsize 7, out_qsize 0\n",
            "2021-03-16 20:12:01,919 : INFO : EPOCH 5 - PROGRESS: at 34.91% examples, 218273 words/s, in_qsize 7, out_qsize 0\n",
            "2021-03-16 20:12:02,940 : INFO : EPOCH 5 - PROGRESS: at 35.60% examples, 217960 words/s, in_qsize 8, out_qsize 0\n",
            "2021-03-16 20:12:03,982 : INFO : EPOCH 5 - PROGRESS: at 36.35% examples, 217846 words/s, in_qsize 7, out_qsize 0\n",
            "2021-03-16 20:12:04,986 : INFO : EPOCH 5 - PROGRESS: at 37.08% examples, 217740 words/s, in_qsize 7, out_qsize 0\n",
            "2021-03-16 20:12:05,989 : INFO : EPOCH 5 - PROGRESS: at 38.05% examples, 217840 words/s, in_qsize 7, out_qsize 0\n",
            "2021-03-16 20:12:07,018 : INFO : EPOCH 5 - PROGRESS: at 38.88% examples, 217697 words/s, in_qsize 7, out_qsize 1\n",
            "2021-03-16 20:12:08,075 : INFO : EPOCH 5 - PROGRESS: at 39.85% examples, 217873 words/s, in_qsize 7, out_qsize 0\n",
            "2021-03-16 20:12:09,228 : INFO : EPOCH 5 - PROGRESS: at 40.64% examples, 216866 words/s, in_qsize 8, out_qsize 1\n",
            "2021-03-16 20:12:10,250 : INFO : EPOCH 5 - PROGRESS: at 41.11% examples, 214705 words/s, in_qsize 7, out_qsize 0\n",
            "2021-03-16 20:12:11,261 : INFO : EPOCH 5 - PROGRESS: at 42.06% examples, 214622 words/s, in_qsize 7, out_qsize 0\n",
            "2021-03-16 20:12:12,326 : INFO : EPOCH 5 - PROGRESS: at 43.05% examples, 214526 words/s, in_qsize 7, out_qsize 0\n",
            "2021-03-16 20:12:13,355 : INFO : EPOCH 5 - PROGRESS: at 44.07% examples, 214573 words/s, in_qsize 8, out_qsize 1\n",
            "2021-03-16 20:12:14,372 : INFO : EPOCH 5 - PROGRESS: at 44.93% examples, 214641 words/s, in_qsize 8, out_qsize 1\n",
            "2021-03-16 20:12:15,422 : INFO : EPOCH 5 - PROGRESS: at 45.83% examples, 214759 words/s, in_qsize 7, out_qsize 0\n",
            "2021-03-16 20:12:16,450 : INFO : EPOCH 5 - PROGRESS: at 46.95% examples, 214783 words/s, in_qsize 8, out_qsize 1\n",
            "2021-03-16 20:12:17,492 : INFO : EPOCH 5 - PROGRESS: at 47.94% examples, 214940 words/s, in_qsize 7, out_qsize 0\n",
            "2021-03-16 20:12:18,547 : INFO : EPOCH 5 - PROGRESS: at 48.47% examples, 214903 words/s, in_qsize 7, out_qsize 0\n",
            "2021-03-16 20:12:19,613 : INFO : EPOCH 5 - PROGRESS: at 49.01% examples, 214969 words/s, in_qsize 7, out_qsize 0\n",
            "2021-03-16 20:12:20,627 : INFO : EPOCH 5 - PROGRESS: at 49.58% examples, 215364 words/s, in_qsize 7, out_qsize 0\n",
            "2021-03-16 20:12:21,710 : INFO : EPOCH 5 - PROGRESS: at 50.09% examples, 215141 words/s, in_qsize 7, out_qsize 1\n",
            "2021-03-16 20:12:22,727 : INFO : EPOCH 5 - PROGRESS: at 50.67% examples, 215409 words/s, in_qsize 7, out_qsize 0\n",
            "2021-03-16 20:12:23,748 : INFO : EPOCH 5 - PROGRESS: at 51.23% examples, 215503 words/s, in_qsize 7, out_qsize 1\n",
            "2021-03-16 20:12:24,750 : INFO : EPOCH 5 - PROGRESS: at 51.82% examples, 215615 words/s, in_qsize 7, out_qsize 0\n",
            "2021-03-16 20:12:25,753 : INFO : EPOCH 5 - PROGRESS: at 52.40% examples, 215786 words/s, in_qsize 7, out_qsize 0\n",
            "2021-03-16 20:12:26,788 : INFO : EPOCH 5 - PROGRESS: at 52.95% examples, 216001 words/s, in_qsize 7, out_qsize 0\n",
            "2021-03-16 20:12:27,835 : INFO : EPOCH 5 - PROGRESS: at 53.50% examples, 215975 words/s, in_qsize 6, out_qsize 1\n",
            "2021-03-16 20:12:28,866 : INFO : EPOCH 5 - PROGRESS: at 54.12% examples, 216182 words/s, in_qsize 7, out_qsize 0\n",
            "2021-03-16 20:12:29,889 : INFO : EPOCH 5 - PROGRESS: at 54.73% examples, 216524 words/s, in_qsize 7, out_qsize 0\n",
            "2021-03-16 20:12:30,898 : INFO : EPOCH 5 - PROGRESS: at 55.25% examples, 216462 words/s, in_qsize 6, out_qsize 1\n",
            "2021-03-16 20:12:31,936 : INFO : EPOCH 5 - PROGRESS: at 55.82% examples, 216615 words/s, in_qsize 7, out_qsize 0\n",
            "2021-03-16 20:12:32,949 : INFO : EPOCH 5 - PROGRESS: at 56.36% examples, 216586 words/s, in_qsize 8, out_qsize 1\n",
            "2021-03-16 20:12:33,980 : INFO : EPOCH 5 - PROGRESS: at 57.48% examples, 216546 words/s, in_qsize 5, out_qsize 2\n",
            "2021-03-16 20:12:35,040 : INFO : EPOCH 5 - PROGRESS: at 58.77% examples, 216595 words/s, in_qsize 7, out_qsize 0\n",
            "2021-03-16 20:12:36,040 : INFO : EPOCH 5 - PROGRESS: at 59.77% examples, 216809 words/s, in_qsize 7, out_qsize 0\n",
            "2021-03-16 20:12:37,181 : INFO : EPOCH 5 - PROGRESS: at 60.81% examples, 216744 words/s, in_qsize 7, out_qsize 0\n",
            "2021-03-16 20:12:38,221 : INFO : EPOCH 5 - PROGRESS: at 61.74% examples, 216709 words/s, in_qsize 7, out_qsize 0\n",
            "2021-03-16 20:12:39,286 : INFO : EPOCH 5 - PROGRESS: at 62.72% examples, 216783 words/s, in_qsize 7, out_qsize 1\n",
            "2021-03-16 20:12:40,276 : INFO : EPOCH 5 - PROGRESS: at 63.70% examples, 216828 words/s, in_qsize 7, out_qsize 0\n",
            "2021-03-16 20:12:41,286 : INFO : EPOCH 5 - PROGRESS: at 64.70% examples, 217220 words/s, in_qsize 7, out_qsize 0\n",
            "2021-03-16 20:12:42,293 : INFO : EPOCH 5 - PROGRESS: at 65.57% examples, 217262 words/s, in_qsize 7, out_qsize 0\n",
            "2021-03-16 20:12:43,353 : INFO : EPOCH 5 - PROGRESS: at 66.53% examples, 217383 words/s, in_qsize 7, out_qsize 0\n",
            "2021-03-16 20:12:44,386 : INFO : EPOCH 5 - PROGRESS: at 67.45% examples, 217472 words/s, in_qsize 6, out_qsize 1\n",
            "2021-03-16 20:12:45,432 : INFO : EPOCH 5 - PROGRESS: at 68.43% examples, 217525 words/s, in_qsize 8, out_qsize 0\n",
            "2021-03-16 20:12:46,435 : INFO : EPOCH 5 - PROGRESS: at 69.57% examples, 217594 words/s, in_qsize 7, out_qsize 0\n",
            "2021-03-16 20:12:47,477 : INFO : EPOCH 5 - PROGRESS: at 70.73% examples, 217553 words/s, in_qsize 7, out_qsize 0\n",
            "2021-03-16 20:12:48,565 : INFO : EPOCH 5 - PROGRESS: at 71.80% examples, 217288 words/s, in_qsize 7, out_qsize 0\n",
            "2021-03-16 20:12:49,569 : INFO : EPOCH 5 - PROGRESS: at 72.90% examples, 217233 words/s, in_qsize 6, out_qsize 1\n",
            "2021-03-16 20:12:50,584 : INFO : EPOCH 5 - PROGRESS: at 73.98% examples, 217167 words/s, in_qsize 7, out_qsize 0\n",
            "2021-03-16 20:12:51,633 : INFO : EPOCH 5 - PROGRESS: at 75.21% examples, 217327 words/s, in_qsize 7, out_qsize 0\n",
            "2021-03-16 20:12:52,693 : INFO : EPOCH 5 - PROGRESS: at 76.18% examples, 217240 words/s, in_qsize 7, out_qsize 0\n",
            "2021-03-16 20:12:53,754 : INFO : EPOCH 5 - PROGRESS: at 77.07% examples, 217265 words/s, in_qsize 7, out_qsize 0\n",
            "2021-03-16 20:12:54,799 : INFO : EPOCH 5 - PROGRESS: at 77.82% examples, 217221 words/s, in_qsize 7, out_qsize 0\n",
            "2021-03-16 20:12:55,801 : INFO : EPOCH 5 - PROGRESS: at 78.81% examples, 217270 words/s, in_qsize 6, out_qsize 1\n",
            "2021-03-16 20:12:56,819 : INFO : EPOCH 5 - PROGRESS: at 79.77% examples, 217375 words/s, in_qsize 7, out_qsize 0\n",
            "2021-03-16 20:12:57,838 : INFO : EPOCH 5 - PROGRESS: at 80.27% examples, 217196 words/s, in_qsize 4, out_qsize 3\n",
            "2021-03-16 20:12:58,880 : INFO : EPOCH 5 - PROGRESS: at 80.84% examples, 217261 words/s, in_qsize 7, out_qsize 0\n",
            "2021-03-16 20:12:59,912 : INFO : EPOCH 5 - PROGRESS: at 81.35% examples, 217456 words/s, in_qsize 7, out_qsize 0\n",
            "2021-03-16 20:13:00,947 : INFO : EPOCH 5 - PROGRESS: at 81.83% examples, 217767 words/s, in_qsize 7, out_qsize 0\n",
            "2021-03-16 20:13:02,025 : INFO : EPOCH 5 - PROGRESS: at 82.33% examples, 217946 words/s, in_qsize 7, out_qsize 2\n",
            "2021-03-16 20:13:03,050 : INFO : EPOCH 5 - PROGRESS: at 82.84% examples, 218198 words/s, in_qsize 7, out_qsize 0\n",
            "2021-03-16 20:13:04,127 : INFO : EPOCH 5 - PROGRESS: at 83.36% examples, 218293 words/s, in_qsize 7, out_qsize 0\n",
            "2021-03-16 20:13:05,167 : INFO : EPOCH 5 - PROGRESS: at 83.93% examples, 218666 words/s, in_qsize 7, out_qsize 0\n",
            "2021-03-16 20:13:06,169 : INFO : EPOCH 5 - PROGRESS: at 84.42% examples, 218848 words/s, in_qsize 7, out_qsize 0\n",
            "2021-03-16 20:13:07,222 : INFO : EPOCH 5 - PROGRESS: at 84.96% examples, 219130 words/s, in_qsize 7, out_qsize 0\n",
            "2021-03-16 20:13:08,230 : INFO : EPOCH 5 - PROGRESS: at 85.47% examples, 219319 words/s, in_qsize 7, out_qsize 0\n",
            "2021-03-16 20:13:09,256 : INFO : EPOCH 5 - PROGRESS: at 86.15% examples, 219477 words/s, in_qsize 8, out_qsize 1\n",
            "2021-03-16 20:13:10,273 : INFO : EPOCH 5 - PROGRESS: at 87.44% examples, 219561 words/s, in_qsize 7, out_qsize 0\n",
            "2021-03-16 20:13:11,277 : INFO : EPOCH 5 - PROGRESS: at 88.42% examples, 219585 words/s, in_qsize 7, out_qsize 0\n",
            "2021-03-16 20:13:12,302 : INFO : EPOCH 5 - PROGRESS: at 89.36% examples, 219566 words/s, in_qsize 7, out_qsize 0\n",
            "2021-03-16 20:13:13,358 : INFO : EPOCH 5 - PROGRESS: at 90.30% examples, 219576 words/s, in_qsize 7, out_qsize 0\n",
            "2021-03-16 20:13:14,416 : INFO : EPOCH 5 - PROGRESS: at 91.30% examples, 219662 words/s, in_qsize 7, out_qsize 0\n",
            "2021-03-16 20:13:15,435 : INFO : EPOCH 5 - PROGRESS: at 92.28% examples, 219813 words/s, in_qsize 8, out_qsize 1\n",
            "2021-03-16 20:13:16,488 : INFO : EPOCH 5 - PROGRESS: at 93.33% examples, 220068 words/s, in_qsize 7, out_qsize 0\n",
            "2021-03-16 20:13:17,528 : INFO : EPOCH 5 - PROGRESS: at 94.37% examples, 220177 words/s, in_qsize 7, out_qsize 0\n",
            "2021-03-16 20:13:18,528 : INFO : EPOCH 5 - PROGRESS: at 95.56% examples, 220198 words/s, in_qsize 7, out_qsize 0\n",
            "2021-03-16 20:13:19,547 : INFO : EPOCH 5 - PROGRESS: at 96.64% examples, 220027 words/s, in_qsize 8, out_qsize 1\n",
            "2021-03-16 20:13:20,559 : INFO : EPOCH 5 - PROGRESS: at 97.84% examples, 220115 words/s, in_qsize 7, out_qsize 0\n",
            "2021-03-16 20:13:21,587 : INFO : EPOCH 5 - PROGRESS: at 99.05% examples, 220092 words/s, in_qsize 7, out_qsize 1\n",
            "2021-03-16 20:13:22,215 : INFO : worker thread finished; awaiting finish of 3 more threads\n",
            "2021-03-16 20:13:22,253 : INFO : worker thread finished; awaiting finish of 2 more threads\n",
            "2021-03-16 20:13:22,275 : INFO : worker thread finished; awaiting finish of 1 more threads\n",
            "2021-03-16 20:13:22,289 : INFO : worker thread finished; awaiting finish of 0 more threads\n",
            "2021-03-16 20:13:22,290 : INFO : EPOCH - 5 : training on 27203362 raw words (26685874 effective words) took 121.1s, 220272 effective words/s\n",
            "2021-03-16 20:13:22,291 : INFO : training on a 136016810 raw words (133428706 effective words) took 607.9s, 219491 effective words/s\n"
          ],
          "name": "stderr"
        }
      ]
    },
    {
      "cell_type": "code",
      "metadata": {
        "colab": {
          "base_uri": "https://localhost:8080/"
        },
        "id": "5ky5LzNBQptV",
        "outputId": "52c26b7b-0dd7-4533-830a-9626d6f63625"
      },
      "source": [
        "fire_cbow_model.save(\"/content/drive/MyDrive/IR_Assignment6/fire_cbow_350.model\")"
      ],
      "execution_count": 66,
      "outputs": [
        {
          "output_type": "stream",
          "text": [
            "2021-03-16 20:14:38,110 : INFO : saving Word2Vec object under /content/drive/MyDrive/IR_Assignment6/fire_cbow_350.model, separately None\n",
            "2021-03-16 20:14:38,114 : INFO : storing np array 'vectors' to /content/drive/MyDrive/IR_Assignment6/fire_cbow_350.model.wv.vectors.npy\n",
            "2021-03-16 20:14:39,477 : INFO : not storing attribute vectors_norm\n",
            "2021-03-16 20:14:39,479 : INFO : storing np array 'syn1' to /content/drive/MyDrive/IR_Assignment6/fire_cbow_350.model.trainables.syn1.npy\n",
            "2021-03-16 20:14:41,301 : INFO : not storing attribute cum_table\n",
            "2021-03-16 20:14:43,925 : INFO : saved /content/drive/MyDrive/IR_Assignment6/fire_cbow_350.model\n"
          ],
          "name": "stderr"
        }
      ]
    },
    {
      "cell_type": "code",
      "metadata": {
        "colab": {
          "base_uri": "https://localhost:8080/"
        },
        "id": "F1kIcPQEkRpu",
        "outputId": "6f96b914-a206-43cd-f514-78a34ba13185"
      },
      "source": [
        "fire_cbow_model = models.Word2Vec.load(\"/content/drive/MyDrive/IR_Assignment6/fire_cbow_350.model\")"
      ],
      "execution_count": 67,
      "outputs": [
        {
          "output_type": "stream",
          "text": [
            "2021-03-16 20:15:05,279 : INFO : loading Word2Vec object from /content/drive/MyDrive/IR_Assignment6/fire_cbow_350.model\n",
            "2021-03-16 20:15:07,404 : INFO : loading wv recursively from /content/drive/MyDrive/IR_Assignment6/fire_cbow_350.model.wv.* with mmap=None\n",
            "2021-03-16 20:15:07,405 : INFO : loading vectors from /content/drive/MyDrive/IR_Assignment6/fire_cbow_350.model.wv.vectors.npy with mmap=None\n",
            "2021-03-16 20:15:07,737 : INFO : setting ignored attribute vectors_norm to None\n",
            "2021-03-16 20:15:07,738 : INFO : loading vocabulary recursively from /content/drive/MyDrive/IR_Assignment6/fire_cbow_350.model.vocabulary.* with mmap=None\n",
            "2021-03-16 20:15:07,738 : INFO : loading trainables recursively from /content/drive/MyDrive/IR_Assignment6/fire_cbow_350.model.trainables.* with mmap=None\n",
            "2021-03-16 20:15:07,746 : INFO : loading syn1 from /content/drive/MyDrive/IR_Assignment6/fire_cbow_350.model.trainables.syn1.npy with mmap=None\n",
            "2021-03-16 20:15:08,099 : INFO : setting ignored attribute cum_table to None\n",
            "2021-03-16 20:15:08,100 : INFO : loaded /content/drive/MyDrive/IR_Assignment6/fire_cbow_350.model\n"
          ],
          "name": "stderr"
        }
      ]
    },
    {
      "cell_type": "code",
      "metadata": {
        "id": "VVVXfNirSB33"
      },
      "source": [
        "# Define functions to build document vectors and query vectors from word embedding matrices\r\n",
        "def build_document_vectors(corpus, wordvectors):\r\n",
        "    docno_list = corpus.docno_list\r\n",
        "    tokens_list = corpus.tokens_list\r\n",
        "    doc_vectors = {}\r\n",
        "\r\n",
        "    for idx in range(len(docno_list)):\r\n",
        "        doc_vec = np.zeros((wordvectors.vectors.shape[1],))\r\n",
        "        vectors_added = 0\r\n",
        "        for token in tokens_list[idx]:\r\n",
        "            try:\r\n",
        "                doc_vec += wordvectors.get_vector(token)\r\n",
        "                vectors_added += 1\r\n",
        "            except:\r\n",
        "                continue\r\n",
        "        if vectors_added != 0:\r\n",
        "            doc_vec = doc_vec / vectors_added\r\n",
        "        doc_vectors[docno_list[idx]] = doc_vec\r\n",
        "    \r\n",
        "    return doc_vectors\r\n",
        "\r\n",
        "def build_query_vectors(queries_dict, wordvectors):\r\n",
        "    query_vectors = {}\r\n",
        "\r\n",
        "    for qid, query in queries_dict.items():\r\n",
        "        query_vec = np.zeros((wordvectors.vectors.shape[1],))\r\n",
        "        vectors_added = 0\r\n",
        "        for qtoken in query.split():\r\n",
        "            try:\r\n",
        "                query_vec += wordvectors.get_vector(qtoken)\r\n",
        "                vectors_added += 1\r\n",
        "            except:\r\n",
        "                continue\r\n",
        "        if vectors_added != 0:\r\n",
        "            query_vec = query_vec / vectors_added\r\n",
        "        query_vectors[qid] = query_vec\r\n",
        "    \r\n",
        "    return query_vectors"
      ],
      "execution_count": 68,
      "outputs": []
    },
    {
      "cell_type": "code",
      "metadata": {
        "id": "Hrlp-tyjVFKd"
      },
      "source": [
        "doc_vecs = build_document_vectors(fire_corpus, fire_cbow_model.wv)\r\n",
        "query_vecs = build_query_vectors(queries_dict, fire_cbow_model.wv)\r\n",
        "\r\n",
        "docs_mat = np.array([vec for vec in doc_vecs.values()])\r\n",
        "queries_mat = np.array([qvec for qvec in query_vecs.values()])"
      ],
      "execution_count": 69,
      "outputs": []
    },
    {
      "cell_type": "markdown",
      "metadata": {
        "id": "bInqjEGaj-uf"
      },
      "source": [
        "#### Using Rocchio algorithm on normal word2vec queries"
      ]
    },
    {
      "cell_type": "code",
      "metadata": {
        "colab": {
          "base_uri": "https://localhost:8080/"
        },
        "id": "qjcb3xfWVfJT",
        "outputId": "c2e86f56-b315-4bf2-a26d-94045f37832b"
      },
      "source": [
        "rocchio_queries = query_exp_rocchio.rocchio_query_vec(\r\n",
        "    queries_mat, docs_mat, qrels_dict, fire_corpus.docno_list\r\n",
        ")\r\n",
        "query_vecs.update({qid: q_vec for qid, q_vec in zip(queries_dict.keys(), rocchio_queries)})\r\n",
        "query_vecs[125].shape"
      ],
      "execution_count": 72,
      "outputs": [
        {
          "output_type": "execute_result",
          "data": {
            "text/plain": [
              "(350,)"
            ]
          },
          "metadata": {
            "tags": []
          },
          "execution_count": 72
        }
      ]
    },
    {
      "cell_type": "code",
      "metadata": {
        "colab": {
          "base_uri": "https://localhost:8080/"
        },
        "id": "UYTHRtD9k5Pm",
        "outputId": "b9ae0fed-f721-48e8-f4f4-e84609d64975"
      },
      "source": [
        "rank_list = retrieval.perform_retrieval(doc_vecs, query_vecs)\r\n",
        "avg_prec_dict = retrieval.get_avg_precision(rank_list, qrels_dict)\r\n",
        "rocchio_map = retrieval.get_map(avg_prec_dict)\r\n",
        "print(rocchio_map)"
      ],
      "execution_count": 73,
      "outputs": [
        {
          "output_type": "stream",
          "text": [
            "Processed 1 documents.\n",
            "Processed 10001 documents.\n",
            "Processed 20001 documents.\n",
            "Assigned 0.0 score to empty document 1051119_nation_story_5495933.utf8 for all queries.\n",
            "Assigned 0.0 score to empty document 1050420_nation_index.utf8 for all queries.\n",
            "Processed 30001 documents.\n",
            "Assigned 0.0 score to empty document 1050822_sports_index.utf8 for all queries.\n",
            "Processed 40001 documents.\n",
            "Assigned 0.0 score to empty document 1041105_bengal_index.utf8 for all queries.\n",
            "Assigned 0.0 score to empty document 1040908_opinion_story_3728792.utf8 for all queries.\n",
            "Assigned 0.0 score to empty document 1040908_opinion_story_3728789.utf8 for all queries.\n",
            "Assigned 0.0 score to empty document 1041105_calcutta_story_3940880.utf8 for all queries.\n",
            "Assigned 0.0 score to empty document 1041105_calcutta_story_3964865.utf8 for all queries.\n",
            "Assigned 0.0 score to empty document 1041105_calcutta_story_3968774.utf8 for all queries.\n",
            "Assigned 0.0 score to empty document 1041105_calcutta_story_3968787.utf8 for all queries.\n",
            "Assigned 0.0 score to empty document 1041105_calcutta_story_3965142.utf8 for all queries.\n",
            "Assigned 0.0 score to empty document 1041105_calcutta_story_3968030.utf8 for all queries.\n",
            "Assigned 0.0 score to empty document 1041105_calcutta_story_3964873.utf8 for all queries.\n",
            "Assigned 0.0 score to empty document 1041105_calcutta_story_3968778.utf8 for all queries.\n",
            "Assigned 0.0 score to empty document 1041105_calcutta_story_3965320.utf8 for all queries.\n",
            "Assigned 0.0 score to empty document 1041105_calcutta_story_3968815.utf8 for all queries.\n",
            "Assigned 0.0 score to empty document 1041105_calcutta_story_3964479.utf8 for all queries.\n",
            "Assigned 0.0 score to empty document 1041105_calcutta_story_3965376.utf8 for all queries.\n",
            "Assigned 0.0 score to empty document 1041105_calcutta_story_3964480.utf8 for all queries.\n",
            "Assigned 0.0 score to empty document 1041105_calcutta_story_3965348.utf8 for all queries.\n",
            "Assigned 0.0 score to empty document 1041105_calcutta_story_3965848.utf8 for all queries.\n",
            "Assigned 0.0 score to empty document 1041105_calcutta_story_3968796.utf8 for all queries.\n",
            "Assigned 0.0 score to empty document 1041105_calcutta_story_3968769.utf8 for all queries.\n",
            "Assigned 0.0 score to empty document 1041105_calcutta_story_3967239.utf8 for all queries.\n",
            "Assigned 0.0 score to empty document 1041105_calcutta_story_3965577.utf8 for all queries.\n",
            "Assigned 0.0 score to empty document 1041105_calcutta_story_3965098.utf8 for all queries.\n",
            "Assigned 0.0 score to empty document 1041105_calcutta_story_3965095.utf8 for all queries.\n",
            "Assigned 0.0 score to empty document 1041105_calcutta_story_3968802.utf8 for all queries.\n",
            "Assigned 0.0 score to empty document 1041105_calcutta_story_3966828.utf8 for all queries.\n",
            "Assigned 0.0 score to empty document 1041130_foreign_index.utf8 for all queries.\n",
            "Processed 50001 documents.\n",
            "Assigned 0.0 score to empty document 1041105_business_index.utf8 for all queries.\n",
            "Assigned 0.0 score to empty document 1060425_bengal_index.utf8 for all queries.\n",
            "Processed 60001 documents.\n",
            "Assigned 0.0 score to empty document 1060317_opinion_story_5974545.utf8 for all queries.\n",
            "Assigned 0.0 score to empty document 1060318_opinion_index.utf8 for all queries.\n",
            "Assigned 0.0 score to empty document 1060413_opinion_story_6082309.utf8 for all queries.\n",
            "Assigned 0.0 score to empty document 1060317_opinion_story_5973612.utf8 for all queries.\n",
            "Assigned 0.0 score to empty document 1060317_opinion_story_5973802.utf8 for all queries.\n",
            "Assigned 0.0 score to empty document 1060511_opinion_story_6207158.utf8 for all queries.\n",
            "Assigned 0.0 score to empty document 1060303_opinion_story_5918406.utf8 for all queries.\n",
            "Processed 70001 documents.\n",
            "Assigned 0.0 score to empty document 1060509_foreign_index.utf8 for all queries.\n",
            "Assigned 0.0 score to empty document 1060411_foreign_index.utf8 for all queries.\n",
            "Assigned 0.0 score to empty document 1060408_nation_story_6073156.utf8 for all queries.\n",
            "Processed 80001 documents.\n",
            "Assigned 0.0 score to empty document 1060425_business_index.utf8 for all queries.\n",
            "Assigned 0.0 score to empty document 1060518_business_story_6238001.utf8 for all queries.\n",
            "Assigned 0.0 score to empty document 1060511_business_story_6209195.utf8 for all queries.\n",
            "Assigned 0.0 score to empty document 1060208_sports_story_5819412.utf8 for all queries.\n",
            "Assigned 0.0 score to empty document 1060423_sports_story_6134116.utf8 for all queries.\n",
            "Assigned 0.0 score to empty document 1060423_sports_story_6134915.utf8 for all queries.\n",
            "Assigned 0.0 score to empty document 1060208_sports_story_5819460.utf8 for all queries.\n",
            "Assigned 0.0 score to empty document 1060208_sports_story_5819414.utf8 for all queries.\n",
            "Assigned 0.0 score to empty document 1060317_sports_story_5976746.utf8 for all queries.\n",
            "Assigned 0.0 score to empty document 1060505_sports_story_6185034.utf8 for all queries.\n",
            "Assigned 0.0 score to empty document 1060208_sports_story_5819420.utf8 for all queries.\n",
            "Assigned 0.0 score to empty document 1060208_sports_story_5819419.utf8 for all queries.\n",
            "Processed 90001 documents.\n",
            "Assigned 0.0 score to empty document 1060423_sports_story_6134118.utf8 for all queries.\n",
            "Assigned 0.0 score to empty document 1060423_sports_story_6134139.utf8 for all queries.\n",
            "Assigned 0.0 score to empty document 1060318_sports_index.utf8 for all queries.\n",
            "Assigned 0.0 score to empty document 1060423_sports_story_6134117.utf8 for all queries.\n",
            "Assigned 0.0 score to empty document 1060208_sports_story_5819416.utf8 for all queries.\n",
            "Assigned 0.0 score to empty document 1060512_sports_story_6213584.utf8 for all queries.\n",
            "Assigned 0.0 score to empty document 1060208_sports_story_5820596.utf8 for all queries.\n",
            "Assigned 0.0 score to empty document 1060208_sports_story_5819418.utf8 for all queries.\n",
            "Assigned 0.0 score to empty document 1060208_sports_story_5819417.utf8 for all queries.\n",
            "Assigned 0.0 score to empty document 1060208_sports_story_5819415.utf8 for all queries.\n",
            "Assigned 0.0 score to empty document 1060208_sports_story_5819453.utf8 for all queries.\n",
            "Assigned 0.0 score to empty document 1060505_sports_story_6185035.utf8 for all queries.\n",
            "Assigned 0.0 score to empty document 1060513_sports_story_6218458.utf8 for all queries.\n",
            "Assigned 0.0 score to empty document 1060208_sports_story_5819461.utf8 for all queries.\n",
            "Assigned 0.0 score to empty document 1070125_bengal_story_7308288.utf8 for all queries.\n",
            "Processed 100001 documents.\n",
            "Processed 110001 documents.\n",
            "Assigned 0.0 score to empty document 1070210_business_story_7374289.utf8 for all queries.\n",
            "Processed 120001 documents.\n",
            "\n",
            "Retrieving top 10 documents for each query...\n",
            "0.45887950594379173\n"
          ],
          "name": "stdout"
        }
      ]
    },
    {
      "cell_type": "markdown",
      "metadata": {
        "id": "d5nxHHbMkHLP"
      },
      "source": [
        "#### Using query expansion + rocchio algorithm"
      ]
    },
    {
      "cell_type": "code",
      "metadata": {
        "id": "Ar-E-RrOkQGy"
      },
      "source": [
        "expanded_queries_dict = {qid: exp_query for qid, exp_query in zip(queries_dict.keys(), expanded_queries)}\r\n",
        "query_vecs = build_query_vectors(expanded_queries_dict, fire_cbow_model.wv)\r\n",
        "\r\n",
        "queries_mat = np.array([qvec for qvec in query_vecs.values()])"
      ],
      "execution_count": 79,
      "outputs": []
    },
    {
      "cell_type": "code",
      "metadata": {
        "colab": {
          "base_uri": "https://localhost:8080/"
        },
        "id": "ynrvxpZFl3HE",
        "outputId": "661c9651-4715-4e00-83a6-2fe130f4d0da"
      },
      "source": [
        "rocchio_queries = query_exp_rocchio.rocchio_query_vec(\r\n",
        "    queries_mat, docs_mat, qrels_dict, fire_corpus.docno_list\r\n",
        ")\r\n",
        "query_vecs.update({qid: q_vec for qid, q_vec in zip(queries_dict.keys(), rocchio_queries)})\r\n",
        "query_vecs[125].shape"
      ],
      "execution_count": 80,
      "outputs": [
        {
          "output_type": "execute_result",
          "data": {
            "text/plain": [
              "(350,)"
            ]
          },
          "metadata": {
            "tags": []
          },
          "execution_count": 80
        }
      ]
    },
    {
      "cell_type": "code",
      "metadata": {
        "colab": {
          "base_uri": "https://localhost:8080/"
        },
        "id": "WseWx8Gll9PP",
        "outputId": "6ad9104c-90c5-445e-8eed-55819083a328"
      },
      "source": [
        "rank_list = retrieval.perform_retrieval(doc_vecs, query_vecs)\r\n",
        "avg_prec_dict = retrieval.get_avg_precision(rank_list, qrels_dict)\r\n",
        "expanded_rocchio_map = retrieval.get_map(avg_prec_dict)\r\n",
        "print(expanded_rocchio_map)"
      ],
      "execution_count": 81,
      "outputs": [
        {
          "output_type": "stream",
          "text": [
            "Processed 1 documents.\n",
            "Processed 10001 documents.\n",
            "Processed 20001 documents.\n",
            "Assigned 0.0 score to empty document 1051119_nation_story_5495933.utf8 for all queries.\n",
            "Assigned 0.0 score to empty document 1050420_nation_index.utf8 for all queries.\n",
            "Processed 30001 documents.\n",
            "Assigned 0.0 score to empty document 1050822_sports_index.utf8 for all queries.\n",
            "Processed 40001 documents.\n",
            "Assigned 0.0 score to empty document 1041105_bengal_index.utf8 for all queries.\n",
            "Assigned 0.0 score to empty document 1040908_opinion_story_3728792.utf8 for all queries.\n",
            "Assigned 0.0 score to empty document 1040908_opinion_story_3728789.utf8 for all queries.\n",
            "Assigned 0.0 score to empty document 1041105_calcutta_story_3940880.utf8 for all queries.\n",
            "Assigned 0.0 score to empty document 1041105_calcutta_story_3964865.utf8 for all queries.\n",
            "Assigned 0.0 score to empty document 1041105_calcutta_story_3968774.utf8 for all queries.\n",
            "Assigned 0.0 score to empty document 1041105_calcutta_story_3968787.utf8 for all queries.\n",
            "Assigned 0.0 score to empty document 1041105_calcutta_story_3965142.utf8 for all queries.\n",
            "Assigned 0.0 score to empty document 1041105_calcutta_story_3968030.utf8 for all queries.\n",
            "Assigned 0.0 score to empty document 1041105_calcutta_story_3964873.utf8 for all queries.\n",
            "Assigned 0.0 score to empty document 1041105_calcutta_story_3968778.utf8 for all queries.\n",
            "Assigned 0.0 score to empty document 1041105_calcutta_story_3965320.utf8 for all queries.\n",
            "Assigned 0.0 score to empty document 1041105_calcutta_story_3968815.utf8 for all queries.\n",
            "Assigned 0.0 score to empty document 1041105_calcutta_story_3964479.utf8 for all queries.\n",
            "Assigned 0.0 score to empty document 1041105_calcutta_story_3965376.utf8 for all queries.\n",
            "Assigned 0.0 score to empty document 1041105_calcutta_story_3964480.utf8 for all queries.\n",
            "Assigned 0.0 score to empty document 1041105_calcutta_story_3965348.utf8 for all queries.\n",
            "Assigned 0.0 score to empty document 1041105_calcutta_story_3965848.utf8 for all queries.\n",
            "Assigned 0.0 score to empty document 1041105_calcutta_story_3968796.utf8 for all queries.\n",
            "Assigned 0.0 score to empty document 1041105_calcutta_story_3968769.utf8 for all queries.\n",
            "Assigned 0.0 score to empty document 1041105_calcutta_story_3967239.utf8 for all queries.\n",
            "Assigned 0.0 score to empty document 1041105_calcutta_story_3965577.utf8 for all queries.\n",
            "Assigned 0.0 score to empty document 1041105_calcutta_story_3965098.utf8 for all queries.\n",
            "Assigned 0.0 score to empty document 1041105_calcutta_story_3965095.utf8 for all queries.\n",
            "Assigned 0.0 score to empty document 1041105_calcutta_story_3968802.utf8 for all queries.\n",
            "Assigned 0.0 score to empty document 1041105_calcutta_story_3966828.utf8 for all queries.\n",
            "Assigned 0.0 score to empty document 1041130_foreign_index.utf8 for all queries.\n",
            "Processed 50001 documents.\n",
            "Assigned 0.0 score to empty document 1041105_business_index.utf8 for all queries.\n",
            "Assigned 0.0 score to empty document 1060425_bengal_index.utf8 for all queries.\n",
            "Processed 60001 documents.\n",
            "Assigned 0.0 score to empty document 1060317_opinion_story_5974545.utf8 for all queries.\n",
            "Assigned 0.0 score to empty document 1060318_opinion_index.utf8 for all queries.\n",
            "Assigned 0.0 score to empty document 1060413_opinion_story_6082309.utf8 for all queries.\n",
            "Assigned 0.0 score to empty document 1060317_opinion_story_5973612.utf8 for all queries.\n",
            "Assigned 0.0 score to empty document 1060317_opinion_story_5973802.utf8 for all queries.\n",
            "Assigned 0.0 score to empty document 1060511_opinion_story_6207158.utf8 for all queries.\n",
            "Assigned 0.0 score to empty document 1060303_opinion_story_5918406.utf8 for all queries.\n",
            "Processed 70001 documents.\n",
            "Assigned 0.0 score to empty document 1060509_foreign_index.utf8 for all queries.\n",
            "Assigned 0.0 score to empty document 1060411_foreign_index.utf8 for all queries.\n",
            "Assigned 0.0 score to empty document 1060408_nation_story_6073156.utf8 for all queries.\n",
            "Processed 80001 documents.\n",
            "Assigned 0.0 score to empty document 1060425_business_index.utf8 for all queries.\n",
            "Assigned 0.0 score to empty document 1060518_business_story_6238001.utf8 for all queries.\n",
            "Assigned 0.0 score to empty document 1060511_business_story_6209195.utf8 for all queries.\n",
            "Assigned 0.0 score to empty document 1060208_sports_story_5819412.utf8 for all queries.\n",
            "Assigned 0.0 score to empty document 1060423_sports_story_6134116.utf8 for all queries.\n",
            "Assigned 0.0 score to empty document 1060423_sports_story_6134915.utf8 for all queries.\n",
            "Assigned 0.0 score to empty document 1060208_sports_story_5819460.utf8 for all queries.\n",
            "Assigned 0.0 score to empty document 1060208_sports_story_5819414.utf8 for all queries.\n",
            "Assigned 0.0 score to empty document 1060317_sports_story_5976746.utf8 for all queries.\n",
            "Assigned 0.0 score to empty document 1060505_sports_story_6185034.utf8 for all queries.\n",
            "Assigned 0.0 score to empty document 1060208_sports_story_5819420.utf8 for all queries.\n",
            "Assigned 0.0 score to empty document 1060208_sports_story_5819419.utf8 for all queries.\n",
            "Processed 90001 documents.\n",
            "Assigned 0.0 score to empty document 1060423_sports_story_6134118.utf8 for all queries.\n",
            "Assigned 0.0 score to empty document 1060423_sports_story_6134139.utf8 for all queries.\n",
            "Assigned 0.0 score to empty document 1060318_sports_index.utf8 for all queries.\n",
            "Assigned 0.0 score to empty document 1060423_sports_story_6134117.utf8 for all queries.\n",
            "Assigned 0.0 score to empty document 1060208_sports_story_5819416.utf8 for all queries.\n",
            "Assigned 0.0 score to empty document 1060512_sports_story_6213584.utf8 for all queries.\n",
            "Assigned 0.0 score to empty document 1060208_sports_story_5820596.utf8 for all queries.\n",
            "Assigned 0.0 score to empty document 1060208_sports_story_5819418.utf8 for all queries.\n",
            "Assigned 0.0 score to empty document 1060208_sports_story_5819417.utf8 for all queries.\n",
            "Assigned 0.0 score to empty document 1060208_sports_story_5819415.utf8 for all queries.\n",
            "Assigned 0.0 score to empty document 1060208_sports_story_5819453.utf8 for all queries.\n",
            "Assigned 0.0 score to empty document 1060505_sports_story_6185035.utf8 for all queries.\n",
            "Assigned 0.0 score to empty document 1060513_sports_story_6218458.utf8 for all queries.\n",
            "Assigned 0.0 score to empty document 1060208_sports_story_5819461.utf8 for all queries.\n",
            "Assigned 0.0 score to empty document 1070125_bengal_story_7308288.utf8 for all queries.\n",
            "Processed 100001 documents.\n",
            "Processed 110001 documents.\n",
            "Assigned 0.0 score to empty document 1070210_business_story_7374289.utf8 for all queries.\n",
            "Processed 120001 documents.\n",
            "\n",
            "Retrieving top 10 documents for each query...\n",
            "0.46572543805400946\n"
          ],
          "name": "stdout"
        }
      ]
    },
    {
      "cell_type": "markdown",
      "metadata": {
        "id": "xxKlH0mDHp9a"
      },
      "source": [
        "## Final Results"
      ]
    },
    {
      "cell_type": "markdown",
      "metadata": {
        "id": "XR66JluhHvPc"
      },
      "source": [
        "### TF-IDF Document Representation\r\n",
        "1.   MAP using Rocchio: ***0.521***\r\n",
        "2.   MAP using Query Expansion + Rocchio: ***0.533***"
      ]
    },
    {
      "cell_type": "markdown",
      "metadata": {
        "id": "E_OpZ5HA72Be"
      },
      "source": [
        "### Word2Vec Document Representation\r\n",
        "1.   MAP using Rocchio: ***0.459***\r\n",
        "2.   MAP using Query Expansion + Rocchio: ***0.466***"
      ]
    }
  ]
}