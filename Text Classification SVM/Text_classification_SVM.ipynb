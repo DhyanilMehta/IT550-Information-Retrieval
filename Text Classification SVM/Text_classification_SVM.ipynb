{
 "cells": [
  {
   "cell_type": "markdown",
   "metadata": {},
   "source": [
    "# IT - 550 Information Retrieval Assignment - 7\n",
    "### Student ID - 202011032"
   ]
  },
  {
   "cell_type": "markdown",
   "metadata": {},
   "source": [
    "## Importing libraries and setting paths"
   ]
  },
  {
   "cell_type": "code",
   "execution_count": 1,
   "metadata": {},
   "outputs": [],
   "source": [
    "import os\n",
    "import re\n",
    "import string\n",
    "import nltk\n",
    "import numpy as np\n",
    "import pandas as pd\n",
    "from sklearn.feature_extraction.text import TfidfVectorizer\n",
    "\n",
    "PATH_BASE = \"jigsaw-toxic-comment-classification-challenge\"\n",
    "PATH_TRAIN = os.path.join(PATH_BASE, \"train.csv\")\n",
    "PATH_TEST = os.path.join(PATH_BASE, \"test.csv\")\n",
    "PATH_TEST_LABELS = os.path.join(PATH_BASE, \"test_labels.csv\")"
   ]
  },
  {
   "cell_type": "markdown",
   "metadata": {},
   "source": [
    "## Loading and Exploring Train and Test Data"
   ]
  },
  {
   "cell_type": "code",
   "execution_count": 2,
   "metadata": {},
   "outputs": [],
   "source": [
    "train_df = pd.read_csv(PATH_TRAIN)\n",
    "test_df = pd.read_csv(PATH_TEST)"
   ]
  },
  {
   "cell_type": "code",
   "execution_count": 3,
   "metadata": {},
   "outputs": [
    {
     "data": {
      "text/html": [
       "<div>\n",
       "<style scoped>\n",
       "    .dataframe tbody tr th:only-of-type {\n",
       "        vertical-align: middle;\n",
       "    }\n",
       "\n",
       "    .dataframe tbody tr th {\n",
       "        vertical-align: top;\n",
       "    }\n",
       "\n",
       "    .dataframe thead th {\n",
       "        text-align: right;\n",
       "    }\n",
       "</style>\n",
       "<table border=\"1\" class=\"dataframe\">\n",
       "  <thead>\n",
       "    <tr style=\"text-align: right;\">\n",
       "      <th></th>\n",
       "      <th>id</th>\n",
       "      <th>comment_text</th>\n",
       "      <th>toxic</th>\n",
       "      <th>severe_toxic</th>\n",
       "      <th>obscene</th>\n",
       "      <th>threat</th>\n",
       "      <th>insult</th>\n",
       "      <th>identity_hate</th>\n",
       "    </tr>\n",
       "  </thead>\n",
       "  <tbody>\n",
       "    <tr>\n",
       "      <th>0</th>\n",
       "      <td>0000997932d777bf</td>\n",
       "      <td>Explanation\\nWhy the edits made under my usern...</td>\n",
       "      <td>0</td>\n",
       "      <td>0</td>\n",
       "      <td>0</td>\n",
       "      <td>0</td>\n",
       "      <td>0</td>\n",
       "      <td>0</td>\n",
       "    </tr>\n",
       "    <tr>\n",
       "      <th>1</th>\n",
       "      <td>000103f0d9cfb60f</td>\n",
       "      <td>D'aww! He matches this background colour I'm s...</td>\n",
       "      <td>0</td>\n",
       "      <td>0</td>\n",
       "      <td>0</td>\n",
       "      <td>0</td>\n",
       "      <td>0</td>\n",
       "      <td>0</td>\n",
       "    </tr>\n",
       "    <tr>\n",
       "      <th>2</th>\n",
       "      <td>000113f07ec002fd</td>\n",
       "      <td>Hey man, I'm really not trying to edit war. It...</td>\n",
       "      <td>0</td>\n",
       "      <td>0</td>\n",
       "      <td>0</td>\n",
       "      <td>0</td>\n",
       "      <td>0</td>\n",
       "      <td>0</td>\n",
       "    </tr>\n",
       "    <tr>\n",
       "      <th>3</th>\n",
       "      <td>0001b41b1c6bb37e</td>\n",
       "      <td>\"\\nMore\\nI can't make any real suggestions on ...</td>\n",
       "      <td>0</td>\n",
       "      <td>0</td>\n",
       "      <td>0</td>\n",
       "      <td>0</td>\n",
       "      <td>0</td>\n",
       "      <td>0</td>\n",
       "    </tr>\n",
       "    <tr>\n",
       "      <th>4</th>\n",
       "      <td>0001d958c54c6e35</td>\n",
       "      <td>You, sir, are my hero. Any chance you remember...</td>\n",
       "      <td>0</td>\n",
       "      <td>0</td>\n",
       "      <td>0</td>\n",
       "      <td>0</td>\n",
       "      <td>0</td>\n",
       "      <td>0</td>\n",
       "    </tr>\n",
       "    <tr>\n",
       "      <th>5</th>\n",
       "      <td>00025465d4725e87</td>\n",
       "      <td>\"\\n\\nCongratulations from me as well, use the ...</td>\n",
       "      <td>0</td>\n",
       "      <td>0</td>\n",
       "      <td>0</td>\n",
       "      <td>0</td>\n",
       "      <td>0</td>\n",
       "      <td>0</td>\n",
       "    </tr>\n",
       "    <tr>\n",
       "      <th>6</th>\n",
       "      <td>0002bcb3da6cb337</td>\n",
       "      <td>COCKSUCKER BEFORE YOU PISS AROUND ON MY WORK</td>\n",
       "      <td>1</td>\n",
       "      <td>1</td>\n",
       "      <td>1</td>\n",
       "      <td>0</td>\n",
       "      <td>1</td>\n",
       "      <td>0</td>\n",
       "    </tr>\n",
       "    <tr>\n",
       "      <th>7</th>\n",
       "      <td>00031b1e95af7921</td>\n",
       "      <td>Your vandalism to the Matt Shirvington article...</td>\n",
       "      <td>0</td>\n",
       "      <td>0</td>\n",
       "      <td>0</td>\n",
       "      <td>0</td>\n",
       "      <td>0</td>\n",
       "      <td>0</td>\n",
       "    </tr>\n",
       "    <tr>\n",
       "      <th>8</th>\n",
       "      <td>00037261f536c51d</td>\n",
       "      <td>Sorry if the word 'nonsense' was offensive to ...</td>\n",
       "      <td>0</td>\n",
       "      <td>0</td>\n",
       "      <td>0</td>\n",
       "      <td>0</td>\n",
       "      <td>0</td>\n",
       "      <td>0</td>\n",
       "    </tr>\n",
       "    <tr>\n",
       "      <th>9</th>\n",
       "      <td>00040093b2687caa</td>\n",
       "      <td>alignment on this subject and which are contra...</td>\n",
       "      <td>0</td>\n",
       "      <td>0</td>\n",
       "      <td>0</td>\n",
       "      <td>0</td>\n",
       "      <td>0</td>\n",
       "      <td>0</td>\n",
       "    </tr>\n",
       "  </tbody>\n",
       "</table>\n",
       "</div>"
      ],
      "text/plain": [
       "                 id                                       comment_text  toxic  \\\n",
       "0  0000997932d777bf  Explanation\\nWhy the edits made under my usern...      0   \n",
       "1  000103f0d9cfb60f  D'aww! He matches this background colour I'm s...      0   \n",
       "2  000113f07ec002fd  Hey man, I'm really not trying to edit war. It...      0   \n",
       "3  0001b41b1c6bb37e  \"\\nMore\\nI can't make any real suggestions on ...      0   \n",
       "4  0001d958c54c6e35  You, sir, are my hero. Any chance you remember...      0   \n",
       "5  00025465d4725e87  \"\\n\\nCongratulations from me as well, use the ...      0   \n",
       "6  0002bcb3da6cb337       COCKSUCKER BEFORE YOU PISS AROUND ON MY WORK      1   \n",
       "7  00031b1e95af7921  Your vandalism to the Matt Shirvington article...      0   \n",
       "8  00037261f536c51d  Sorry if the word 'nonsense' was offensive to ...      0   \n",
       "9  00040093b2687caa  alignment on this subject and which are contra...      0   \n",
       "\n",
       "   severe_toxic  obscene  threat  insult  identity_hate  \n",
       "0             0        0       0       0              0  \n",
       "1             0        0       0       0              0  \n",
       "2             0        0       0       0              0  \n",
       "3             0        0       0       0              0  \n",
       "4             0        0       0       0              0  \n",
       "5             0        0       0       0              0  \n",
       "6             1        1       0       1              0  \n",
       "7             0        0       0       0              0  \n",
       "8             0        0       0       0              0  \n",
       "9             0        0       0       0              0  "
      ]
     },
     "execution_count": 3,
     "metadata": {},
     "output_type": "execute_result"
    }
   ],
   "source": [
    "train_df.head(10)"
   ]
  },
  {
   "cell_type": "code",
   "execution_count": 4,
   "metadata": {},
   "outputs": [
    {
     "name": "stdout",
     "output_type": "stream",
     "text": [
      "394.0732213246768 590.7202819048923 5000\n"
     ]
    },
    {
     "data": {
      "text/plain": [
       "<AxesSubplot:>"
      ]
     },
     "execution_count": 4,
     "metadata": {},
     "output_type": "execute_result"
    },
    {
     "data": {
      "image/png": "[encoded data removed]",
      "text/plain": [
       "<Figure size 432x288 with 1 Axes>"
      ]
     },
     "metadata": {
      "needs_background": "light"
     },
     "output_type": "display_data"
    }
   ],
   "source": [
    "lengths = train_df.comment_text.str.len()\n",
    "print(lengths.mean(), lengths.std(), lengths.max())\n",
    "lengths.hist()"
   ]
  },
  {
   "cell_type": "markdown",
   "metadata": {},
   "source": [
    "Adding a *none* label to identify comments with no labels."
   ]
  },
  {
   "cell_type": "code",
   "execution_count": 5,
   "metadata": {},
   "outputs": [
    {
     "data": {
      "text/html": [
       "<div>\n",
       "<style scoped>\n",
       "    .dataframe tbody tr th:only-of-type {\n",
       "        vertical-align: middle;\n",
       "    }\n",
       "\n",
       "    .dataframe tbody tr th {\n",
       "        vertical-align: top;\n",
       "    }\n",
       "\n",
       "    .dataframe thead th {\n",
       "        text-align: right;\n",
       "    }\n",
       "</style>\n",
       "<table border=\"1\" class=\"dataframe\">\n",
       "  <thead>\n",
       "    <tr style=\"text-align: right;\">\n",
       "      <th></th>\n",
       "      <th>id</th>\n",
       "      <th>comment_text</th>\n",
       "      <th>toxic</th>\n",
       "      <th>severe_toxic</th>\n",
       "      <th>obscene</th>\n",
       "      <th>threat</th>\n",
       "      <th>insult</th>\n",
       "      <th>identity_hate</th>\n",
       "      <th>none</th>\n",
       "    </tr>\n",
       "  </thead>\n",
       "  <tbody>\n",
       "    <tr>\n",
       "      <th>0</th>\n",
       "      <td>0000997932d777bf</td>\n",
       "      <td>Explanation\\nWhy the edits made under my usern...</td>\n",
       "      <td>0</td>\n",
       "      <td>0</td>\n",
       "      <td>0</td>\n",
       "      <td>0</td>\n",
       "      <td>0</td>\n",
       "      <td>0</td>\n",
       "      <td>1</td>\n",
       "    </tr>\n",
       "    <tr>\n",
       "      <th>1</th>\n",
       "      <td>000103f0d9cfb60f</td>\n",
       "      <td>D'aww! He matches this background colour I'm s...</td>\n",
       "      <td>0</td>\n",
       "      <td>0</td>\n",
       "      <td>0</td>\n",
       "      <td>0</td>\n",
       "      <td>0</td>\n",
       "      <td>0</td>\n",
       "      <td>1</td>\n",
       "    </tr>\n",
       "    <tr>\n",
       "      <th>2</th>\n",
       "      <td>000113f07ec002fd</td>\n",
       "      <td>Hey man, I'm really not trying to edit war. It...</td>\n",
       "      <td>0</td>\n",
       "      <td>0</td>\n",
       "      <td>0</td>\n",
       "      <td>0</td>\n",
       "      <td>0</td>\n",
       "      <td>0</td>\n",
       "      <td>1</td>\n",
       "    </tr>\n",
       "    <tr>\n",
       "      <th>3</th>\n",
       "      <td>0001b41b1c6bb37e</td>\n",
       "      <td>\"\\nMore\\nI can't make any real suggestions on ...</td>\n",
       "      <td>0</td>\n",
       "      <td>0</td>\n",
       "      <td>0</td>\n",
       "      <td>0</td>\n",
       "      <td>0</td>\n",
       "      <td>0</td>\n",
       "      <td>1</td>\n",
       "    </tr>\n",
       "    <tr>\n",
       "      <th>4</th>\n",
       "      <td>0001d958c54c6e35</td>\n",
       "      <td>You, sir, are my hero. Any chance you remember...</td>\n",
       "      <td>0</td>\n",
       "      <td>0</td>\n",
       "      <td>0</td>\n",
       "      <td>0</td>\n",
       "      <td>0</td>\n",
       "      <td>0</td>\n",
       "      <td>1</td>\n",
       "    </tr>\n",
       "    <tr>\n",
       "      <th>5</th>\n",
       "      <td>00025465d4725e87</td>\n",
       "      <td>\"\\n\\nCongratulations from me as well, use the ...</td>\n",
       "      <td>0</td>\n",
       "      <td>0</td>\n",
       "      <td>0</td>\n",
       "      <td>0</td>\n",
       "      <td>0</td>\n",
       "      <td>0</td>\n",
       "      <td>1</td>\n",
       "    </tr>\n",
       "    <tr>\n",
       "      <th>6</th>\n",
       "      <td>0002bcb3da6cb337</td>\n",
       "      <td>COCKSUCKER BEFORE YOU PISS AROUND ON MY WORK</td>\n",
       "      <td>1</td>\n",
       "      <td>1</td>\n",
       "      <td>1</td>\n",
       "      <td>0</td>\n",
       "      <td>1</td>\n",
       "      <td>0</td>\n",
       "      <td>0</td>\n",
       "    </tr>\n",
       "    <tr>\n",
       "      <th>7</th>\n",
       "      <td>00031b1e95af7921</td>\n",
       "      <td>Your vandalism to the Matt Shirvington article...</td>\n",
       "      <td>0</td>\n",
       "      <td>0</td>\n",
       "      <td>0</td>\n",
       "      <td>0</td>\n",
       "      <td>0</td>\n",
       "      <td>0</td>\n",
       "      <td>1</td>\n",
       "    </tr>\n",
       "    <tr>\n",
       "      <th>8</th>\n",
       "      <td>00037261f536c51d</td>\n",
       "      <td>Sorry if the word 'nonsense' was offensive to ...</td>\n",
       "      <td>0</td>\n",
       "      <td>0</td>\n",
       "      <td>0</td>\n",
       "      <td>0</td>\n",
       "      <td>0</td>\n",
       "      <td>0</td>\n",
       "      <td>1</td>\n",
       "    </tr>\n",
       "    <tr>\n",
       "      <th>9</th>\n",
       "      <td>00040093b2687caa</td>\n",
       "      <td>alignment on this subject and which are contra...</td>\n",
       "      <td>0</td>\n",
       "      <td>0</td>\n",
       "      <td>0</td>\n",
       "      <td>0</td>\n",
       "      <td>0</td>\n",
       "      <td>0</td>\n",
       "      <td>1</td>\n",
       "    </tr>\n",
       "  </tbody>\n",
       "</table>\n",
       "</div>"
      ],
      "text/plain": [
       "                 id                                       comment_text  toxic  \\\n",
       "0  0000997932d777bf  Explanation\\nWhy the edits made under my usern...      0   \n",
       "1  000103f0d9cfb60f  D'aww! He matches this background colour I'm s...      0   \n",
       "2  000113f07ec002fd  Hey man, I'm really not trying to edit war. It...      0   \n",
       "3  0001b41b1c6bb37e  \"\\nMore\\nI can't make any real suggestions on ...      0   \n",
       "4  0001d958c54c6e35  You, sir, are my hero. Any chance you remember...      0   \n",
       "5  00025465d4725e87  \"\\n\\nCongratulations from me as well, use the ...      0   \n",
       "6  0002bcb3da6cb337       COCKSUCKER BEFORE YOU PISS AROUND ON MY WORK      1   \n",
       "7  00031b1e95af7921  Your vandalism to the Matt Shirvington article...      0   \n",
       "8  00037261f536c51d  Sorry if the word 'nonsense' was offensive to ...      0   \n",
       "9  00040093b2687caa  alignment on this subject and which are contra...      0   \n",
       "\n",
       "   severe_toxic  obscene  threat  insult  identity_hate  none  \n",
       "0             0        0       0       0              0     1  \n",
       "1             0        0       0       0              0     1  \n",
       "2             0        0       0       0              0     1  \n",
       "3             0        0       0       0              0     1  \n",
       "4             0        0       0       0              0     1  \n",
       "5             0        0       0       0              0     1  \n",
       "6             1        1       0       1              0     0  \n",
       "7             0        0       0       0              0     1  \n",
       "8             0        0       0       0              0     1  \n",
       "9             0        0       0       0              0     1  "
      ]
     },
     "execution_count": 5,
     "metadata": {},
     "output_type": "execute_result"
    }
   ],
   "source": [
    "labels = ['toxic', 'severe_toxic', 'obscene', 'threat', 'insult', 'identity_hate']\n",
    "train_df['none'] = 1 - train_df[labels].max(axis=1)\n",
    "train_df.head(10)"
   ]
  },
  {
   "cell_type": "code",
   "execution_count": 6,
   "metadata": {},
   "outputs": [
    {
     "data": {
      "text/html": [
       "<div>\n",
       "<style scoped>\n",
       "    .dataframe tbody tr th:only-of-type {\n",
       "        vertical-align: middle;\n",
       "    }\n",
       "\n",
       "    .dataframe tbody tr th {\n",
       "        vertical-align: top;\n",
       "    }\n",
       "\n",
       "    .dataframe thead th {\n",
       "        text-align: right;\n",
       "    }\n",
       "</style>\n",
       "<table border=\"1\" class=\"dataframe\">\n",
       "  <thead>\n",
       "    <tr style=\"text-align: right;\">\n",
       "      <th></th>\n",
       "      <th>toxic</th>\n",
       "      <th>severe_toxic</th>\n",
       "      <th>obscene</th>\n",
       "      <th>threat</th>\n",
       "      <th>insult</th>\n",
       "      <th>identity_hate</th>\n",
       "      <th>none</th>\n",
       "    </tr>\n",
       "  </thead>\n",
       "  <tbody>\n",
       "    <tr>\n",
       "      <th>count</th>\n",
       "      <td>159571.000000</td>\n",
       "      <td>159571.000000</td>\n",
       "      <td>159571.000000</td>\n",
       "      <td>159571.000000</td>\n",
       "      <td>159571.000000</td>\n",
       "      <td>159571.000000</td>\n",
       "      <td>159571.000000</td>\n",
       "    </tr>\n",
       "    <tr>\n",
       "      <th>mean</th>\n",
       "      <td>0.095844</td>\n",
       "      <td>0.009996</td>\n",
       "      <td>0.052948</td>\n",
       "      <td>0.002996</td>\n",
       "      <td>0.049364</td>\n",
       "      <td>0.008805</td>\n",
       "      <td>0.898321</td>\n",
       "    </tr>\n",
       "    <tr>\n",
       "      <th>std</th>\n",
       "      <td>0.294379</td>\n",
       "      <td>0.099477</td>\n",
       "      <td>0.223931</td>\n",
       "      <td>0.054650</td>\n",
       "      <td>0.216627</td>\n",
       "      <td>0.093420</td>\n",
       "      <td>0.302226</td>\n",
       "    </tr>\n",
       "    <tr>\n",
       "      <th>min</th>\n",
       "      <td>0.000000</td>\n",
       "      <td>0.000000</td>\n",
       "      <td>0.000000</td>\n",
       "      <td>0.000000</td>\n",
       "      <td>0.000000</td>\n",
       "      <td>0.000000</td>\n",
       "      <td>0.000000</td>\n",
       "    </tr>\n",
       "    <tr>\n",
       "      <th>25%</th>\n",
       "      <td>0.000000</td>\n",
       "      <td>0.000000</td>\n",
       "      <td>0.000000</td>\n",
       "      <td>0.000000</td>\n",
       "      <td>0.000000</td>\n",
       "      <td>0.000000</td>\n",
       "      <td>1.000000</td>\n",
       "    </tr>\n",
       "    <tr>\n",
       "      <th>50%</th>\n",
       "      <td>0.000000</td>\n",
       "      <td>0.000000</td>\n",
       "      <td>0.000000</td>\n",
       "      <td>0.000000</td>\n",
       "      <td>0.000000</td>\n",
       "      <td>0.000000</td>\n",
       "      <td>1.000000</td>\n",
       "    </tr>\n",
       "    <tr>\n",
       "      <th>75%</th>\n",
       "      <td>0.000000</td>\n",
       "      <td>0.000000</td>\n",
       "      <td>0.000000</td>\n",
       "      <td>0.000000</td>\n",
       "      <td>0.000000</td>\n",
       "      <td>0.000000</td>\n",
       "      <td>1.000000</td>\n",
       "    </tr>\n",
       "    <tr>\n",
       "      <th>max</th>\n",
       "      <td>1.000000</td>\n",
       "      <td>1.000000</td>\n",
       "      <td>1.000000</td>\n",
       "      <td>1.000000</td>\n",
       "      <td>1.000000</td>\n",
       "      <td>1.000000</td>\n",
       "      <td>1.000000</td>\n",
       "    </tr>\n",
       "  </tbody>\n",
       "</table>\n",
       "</div>"
      ],
      "text/plain": [
       "               toxic   severe_toxic        obscene         threat  \\\n",
       "count  159571.000000  159571.000000  159571.000000  159571.000000   \n",
       "mean        0.095844       0.009996       0.052948       0.002996   \n",
       "std         0.294379       0.099477       0.223931       0.054650   \n",
       "min         0.000000       0.000000       0.000000       0.000000   \n",
       "25%         0.000000       0.000000       0.000000       0.000000   \n",
       "50%         0.000000       0.000000       0.000000       0.000000   \n",
       "75%         0.000000       0.000000       0.000000       0.000000   \n",
       "max         1.000000       1.000000       1.000000       1.000000   \n",
       "\n",
       "              insult  identity_hate           none  \n",
       "count  159571.000000  159571.000000  159571.000000  \n",
       "mean        0.049364       0.008805       0.898321  \n",
       "std         0.216627       0.093420       0.302226  \n",
       "min         0.000000       0.000000       0.000000  \n",
       "25%         0.000000       0.000000       1.000000  \n",
       "50%         0.000000       0.000000       1.000000  \n",
       "75%         0.000000       0.000000       1.000000  \n",
       "max         1.000000       1.000000       1.000000  "
      ]
     },
     "execution_count": 6,
     "metadata": {},
     "output_type": "execute_result"
    }
   ],
   "source": [
    "train_df.describe()"
   ]
  },
  {
   "cell_type": "markdown",
   "metadata": {},
   "source": [
    "Fill empty comment texts from train and test sets"
   ]
  },
  {
   "cell_type": "code",
   "execution_count": 7,
   "metadata": {},
   "outputs": [],
   "source": [
    "train_df['comment_text'].fillna('unknown', inplace=True)\n",
    "test_df['comment_text'].fillna('unknown', inplace=True)"
   ]
  },
  {
   "cell_type": "markdown",
   "metadata": {},
   "source": [
    "## Performing Text classification of comments using Linear SVM with TF-IDF representation for the comments\n",
    "Creating a *term-document matrix* representation with the help of `sklearn` library and building a *pipeline* for Tfidf representation and Linear SVM model for classification."
   ]
  },
  {
   "cell_type": "code",
   "execution_count": 8,
   "metadata": {},
   "outputs": [],
   "source": [
    "def tokenize(s):\n",
    "    regexp_token = re.compile(f'([{string.punctuation}“”¨«»®´·º½¾¿¡§£₤‘’])')\n",
    "    return regexp_token.sub(r' \\1 ', s).split()"
   ]
  },
  {
   "cell_type": "markdown",
   "metadata": {},
   "source": [
    "Build a pipeline from TfidfVectorizer and combination of LinearSVC & MultiOutputClassifier for multilabel classification"
   ]
  },
  {
   "cell_type": "code",
   "execution_count": 10,
   "metadata": {},
   "outputs": [],
   "source": [
    "from sklearn.pipeline import Pipeline\n",
    "from sklearn.multioutput import MultiOutputClassifier\n",
    "from sklearn.svm import LinearSVC\n",
    "from sklearn.metrics import multilabel_confusion_matrix, ConfusionMatrixDisplay\n",
    "# from sklearn.linear_model import SGDClassifier\n",
    "# nltk.download()\n",
    "\n",
    "# Adding a stemmer to the TfidfVectorizer pipeline\n",
    "class StemmedTfidfVectorizer(TfidfVectorizer):\n",
    "    def build_analyzer(self):\n",
    "        analyzer = super(StemmedTfidfVectorizer, self).build_analyzer()\n",
    "        stemmer = nltk.stem.snowball.SnowballStemmer(\"english\")\n",
    "        return lambda doc: ([stemmer.stem(w) for w in analyzer(doc)])\n",
    "\n",
    "multilabel_svm = MultiOutputClassifier(LinearSVC(random_state=23), n_jobs=-1)\n",
    "\n",
    "text_clsfn_tfidf_svm = Pipeline([\n",
    "    ('tfidf', StemmedTfidfVectorizer(tokenizer=tokenize, stop_words='english', strip_accents='unicode', sublinear_tf=True)),\n",
    "    ('clsfn_svm', multilabel_svm),\n",
    "])"
   ]
  },
  {
   "cell_type": "markdown",
   "metadata": {},
   "source": [
    "Train the Linear SVM Classifier Pipeline and Predict on test comments data"
   ]
  },
  {
   "cell_type": "code",
   "execution_count": 11,
   "metadata": {},
   "outputs": [],
   "source": [
    "# preds_tfidf_svm = np.zeros((len(test_df), len(labels)))\n",
    "# for i, j in enumerate(labels):\n",
    "#     print('fit', j)\n",
    "#     _ = text_clsfn_tfidf_svm.fit(train_df['comment_text'], train_df[j])\n",
    "#     preds_tfidf_svm[:,i] = text_clsfn_tfidf_svm.predict(test_df['comment_text'])\n",
    "\n",
    "_ = text_clsfn_tfidf_svm.fit(train_df['comment_text'], train_df[labels])\n",
    "preds_tfidf_svm = text_clsfn_tfidf_svm.predict(test_df['comment_text'])"
   ]
  },
  {
   "cell_type": "code",
   "execution_count": 12,
   "metadata": {},
   "outputs": [],
   "source": [
    "# Generating dataframe for predicted labels in the format of sample_submission.csv\n",
    "test_labels = pd.read_csv(PATH_TEST_LABELS)\n",
    "preds_tfidf_svm_df = pd.DataFrame({'id': test_df['id']})\n",
    "preds_tfidf_svm_df = pd.concat([preds_tfidf_svm_df, pd.DataFrame(preds_tfidf_svm, columns=labels)], axis=1)"
   ]
  },
  {
   "cell_type": "markdown",
   "metadata": {},
   "source": [
    "Plotting confusion matrix of the predicted labels with the groundtruth labels"
   ]
  },
  {
   "cell_type": "code",
   "execution_count": 13,
   "metadata": {},
   "outputs": [
    {
     "data": {
      "image/png": "[encoded data removed]",
      "text/plain": [
       "<Figure size 432x288 with 2 Axes>"
      ]
     },
     "metadata": {
      "needs_background": "light"
     },
     "output_type": "display_data"
    },
    {
     "data": {
      "image/png": "[encoded data removed]",
      "text/plain": [
       "<Figure size 432x288 with 2 Axes>"
      ]
     },
     "metadata": {
      "needs_background": "light"
     },
     "output_type": "display_data"
    },
    {
     "data": {
      "image/png": "[encoded data removed]",
      "text/plain": [
       "<Figure size 432x288 with 2 Axes>"
      ]
     },
     "metadata": {
      "needs_background": "light"
     },
     "output_type": "display_data"
    },
    {
     "data": {
      "image/png": "[encoded data removed]",
      "text/plain": [
       "<Figure size 432x288 with 2 Axes>"
      ]
     },
     "metadata": {
      "needs_background": "light"
     },
     "output_type": "display_data"
    },
    {
     "data": {
      "image/png": "[encoded data removed]",
      "text/plain": [
       "<Figure size 432x288 with 2 Axes>"
      ]
     },
     "metadata": {
      "needs_background": "light"
     },
     "output_type": "display_data"
    },
    {
     "data": {
      "image/png": "[encoded data removed]",
      "text/plain": [
       "<Figure size 432x288 with 2 Axes>"
      ]
     },
     "metadata": {
      "needs_background": "light"
     },
     "output_type": "display_data"
    }
   ],
   "source": [
    "import matplotlib.pyplot as plt\n",
    "\n",
    "test_labels_filtered = test_labels.drop(test_labels[test_labels[labels].values == -1].index)\n",
    "preds_tfidf_svm_df_filtered = preds_tfidf_svm_df[preds_tfidf_svm_df.id.isin(test_labels_filtered.id)]\n",
    "\n",
    "# Generate multiclass confusion matrices\n",
    "matrices = multilabel_confusion_matrix(\n",
    "    test_labels_filtered[labels], preds_tfidf_svm_df_filtered[labels],\n",
    ")\n",
    "\n",
    "# Plotting matrices: code\n",
    "for i, label in enumerate(labels):\n",
    "    cmd = ConfusionMatrixDisplay(matrices[i]).plot()\n",
    "    plt.title(f'Confusion Matrix for class {label} (type)')\n",
    "    plt.show()\n"
   ]
  },
  {
   "cell_type": "markdown",
   "metadata": {},
   "source": [
    "**Micro and macro precision, recall, f1-score using TF-IDF representation**"
   ]
  },
  {
   "cell_type": "code",
   "execution_count": 18,
   "metadata": {},
   "outputs": [
    {
     "name": "stdout",
     "output_type": "stream",
     "text": [
      "Overall:\n",
      "               precision    recall  f1-score   support\n",
      "\n",
      "        toxic       0.58      0.79      0.67      6090\n",
      " severe_toxic       0.37      0.37      0.37       367\n",
      "      obscene       0.67      0.71      0.69      3691\n",
      "       threat       0.47      0.23      0.31       211\n",
      "       insult       0.68      0.56      0.61      3427\n",
      "identity_hate       0.66      0.33      0.44       712\n",
      "\n",
      "    micro avg       0.61      0.67      0.64     14498\n",
      "    macro avg       0.57      0.50      0.51     14498\n",
      " weighted avg       0.62      0.67      0.64     14498\n",
      "  samples avg       0.07      0.06      0.06     14498\n",
      "\n",
      "-------------------------------------------------------\n",
      "For class toxic:\n",
      "              precision    recall  f1-score   support\n",
      "\n",
      "           0       0.98      0.94      0.96     57888\n",
      "           1       0.58      0.79      0.67      6090\n",
      "\n",
      "    accuracy                           0.92     63978\n",
      "   macro avg       0.78      0.87      0.81     63978\n",
      "weighted avg       0.94      0.92      0.93     63978\n",
      "\n",
      "For class severe_toxic:\n",
      "              precision    recall  f1-score   support\n",
      "\n",
      "           0       1.00      1.00      1.00     63611\n",
      "           1       0.37      0.37      0.37       367\n",
      "\n",
      "    accuracy                           0.99     63978\n",
      "   macro avg       0.68      0.68      0.68     63978\n",
      "weighted avg       0.99      0.99      0.99     63978\n",
      "\n",
      "For class obscene:\n",
      "              precision    recall  f1-score   support\n",
      "\n",
      "           0       0.98      0.98      0.98     60287\n",
      "           1       0.67      0.71      0.69      3691\n",
      "\n",
      "    accuracy                           0.96     63978\n",
      "   macro avg       0.83      0.84      0.84     63978\n",
      "weighted avg       0.96      0.96      0.96     63978\n",
      "\n",
      "For class threat:\n",
      "              precision    recall  f1-score   support\n",
      "\n",
      "           0       1.00      1.00      1.00     63767\n",
      "           1       0.47      0.23      0.31       211\n",
      "\n",
      "    accuracy                           1.00     63978\n",
      "   macro avg       0.73      0.61      0.65     63978\n",
      "weighted avg       1.00      1.00      1.00     63978\n",
      "\n",
      "For class insult:\n",
      "              precision    recall  f1-score   support\n",
      "\n",
      "           0       0.98      0.98      0.98     60551\n",
      "           1       0.68      0.56      0.61      3427\n",
      "\n",
      "    accuracy                           0.96     63978\n",
      "   macro avg       0.83      0.77      0.80     63978\n",
      "weighted avg       0.96      0.96      0.96     63978\n",
      "\n",
      "For class identity_hate:\n",
      "              precision    recall  f1-score   support\n",
      "\n",
      "           0       0.99      1.00      1.00     63266\n",
      "           1       0.66      0.33      0.44       712\n",
      "\n",
      "    accuracy                           0.99     63978\n",
      "   macro avg       0.83      0.67      0.72     63978\n",
      "weighted avg       0.99      0.99      0.99     63978\n",
      "\n"
     ]
    }
   ],
   "source": [
    "from sklearn.metrics import classification_report, accuracy_score\n",
    "\n",
    "print(\"Overall:\")\n",
    "print(classification_report(test_labels_filtered[labels], preds_tfidf_svm_df_filtered[labels], target_names=labels))\n",
    "\n",
    "print(\"-------------------------------------------------------\")\n",
    "\n",
    "for label in labels:\n",
    "    print(f\"For class {label}:\")\n",
    "    print(classification_report(test_labels_filtered[label], preds_tfidf_svm_df_filtered[label]))"
   ]
  },
  {
   "cell_type": "markdown",
   "metadata": {},
   "source": [
    "## Performing Text classification of comments using Linear SVM with Word2Vec representation for the comments\n",
    "Creating a *term-document matrix* representation with the help of `gensim` library and building a *pipeline* for Tfidf representation and Linear SVM model for classification."
   ]
  },
  {
   "cell_type": "code",
   "execution_count": 22,
   "metadata": {},
   "outputs": [],
   "source": [
    "from gensim import models\n",
    "from gensim.parsing.preprocessing import preprocess_string\n",
    "\n",
    "comments = train_df['comment_text'].apply(preprocess_string)"
   ]
  },
  {
   "cell_type": "markdown",
   "metadata": {},
   "source": [
    "Training Word2Vec skipgram model from the train data comments"
   ]
  },
  {
   "cell_type": "code",
   "execution_count": 26,
   "metadata": {},
   "outputs": [
    {
     "name": "stderr",
     "output_type": "stream",
     "text": [
      "2021-03-23 22:13:38,692 : INFO : collecting all words and their counts\n",
      "2021-03-23 22:13:38,693 : INFO : PROGRESS: at sentence #0, processed 0 words, keeping 0 word types\n",
      "2021-03-23 22:13:38,757 : INFO : PROGRESS: at sentence #10000, processed 300846 words, keeping 25523 word types\n",
      "2021-03-23 22:13:38,814 : INFO : PROGRESS: at sentence #20000, processed 599397 words, keeping 38766 word types\n",
      "2021-03-23 22:13:38,868 : INFO : PROGRESS: at sentence #30000, processed 891187 words, keeping 49730 word types\n",
      "2021-03-23 22:13:38,922 : INFO : PROGRESS: at sentence #40000, processed 1194652 words, keeping 59465 word types\n",
      "2021-03-23 22:13:38,977 : INFO : PROGRESS: at sentence #50000, processed 1487857 words, keeping 68300 word types\n",
      "2021-03-23 22:13:39,034 : INFO : PROGRESS: at sentence #60000, processed 1797168 words, keeping 76616 word types\n",
      "2021-03-23 22:13:39,088 : INFO : PROGRESS: at sentence #70000, processed 2097425 words, keeping 84553 word types\n",
      "2021-03-23 22:13:39,147 : INFO : PROGRESS: at sentence #80000, processed 2397103 words, keeping 91906 word types\n",
      "2021-03-23 22:13:39,201 : INFO : PROGRESS: at sentence #90000, processed 2686444 words, keeping 98646 word types\n",
      "2021-03-23 22:13:39,254 : INFO : PROGRESS: at sentence #100000, processed 2983838 words, keeping 105294 word types\n",
      "2021-03-23 22:13:39,316 : INFO : PROGRESS: at sentence #110000, processed 3287331 words, keeping 111682 word types\n",
      "2021-03-23 22:13:39,370 : INFO : PROGRESS: at sentence #120000, processed 3574784 words, keeping 117989 word types\n",
      "2021-03-23 22:13:39,425 : INFO : PROGRESS: at sentence #130000, processed 3869655 words, keeping 124012 word types\n",
      "2021-03-23 22:13:39,480 : INFO : PROGRESS: at sentence #140000, processed 4165390 words, keeping 129975 word types\n",
      "2021-03-23 22:13:39,535 : INFO : PROGRESS: at sentence #150000, processed 4463518 words, keeping 135888 word types\n",
      "2021-03-23 22:13:39,588 : INFO : collected 141128 word types from a corpus of 4746571 raw words and 159571 sentences\n",
      "2021-03-23 22:13:39,589 : INFO : Loading a fresh vocabulary\n",
      "2021-03-23 22:13:40,243 : INFO : effective_min_count=1 retains 141128 unique words (100% of original 141128, drops 0)\n",
      "2021-03-23 22:13:40,244 : INFO : effective_min_count=1 leaves 4746571 word corpus (100% of original 4746571, drops 0)\n",
      "2021-03-23 22:13:40,573 : INFO : deleting the raw counts dictionary of 141128 items\n",
      "2021-03-23 22:13:40,576 : INFO : sample=0.001 downsamples 33 most-common words\n",
      "2021-03-23 22:13:40,577 : INFO : downsampling leaves estimated 4489178 word corpus (94.6% of prior 4746571)\n",
      "2021-03-23 22:13:40,686 : INFO : constructing a huffman tree from 141128 words\n",
      "2021-03-23 22:13:44,163 : INFO : built huffman tree with maximum node depth 22\n",
      "2021-03-23 22:13:44,211 : INFO : estimated required memory for 141128 words and 300 dimensions: 437496800 bytes\n",
      "2021-03-23 22:13:44,212 : INFO : resetting layer weights\n",
      "2021-03-23 22:14:04,484 : INFO : training model with 3 workers on 141128 vocabulary and 300 features, using sg=1 hs=1 sample=0.001 negative=0 window=10\n",
      "2021-03-23 22:14:05,501 : INFO : EPOCH 1 - PROGRESS: at 3.74% examples, 167548 words/s, in_qsize 5, out_qsize 0\n",
      "2021-03-23 22:14:06,577 : INFO : EPOCH 1 - PROGRESS: at 7.61% examples, 167002 words/s, in_qsize 5, out_qsize 0\n",
      "2021-03-23 22:14:07,579 : INFO : EPOCH 1 - PROGRESS: at 11.77% examples, 173555 words/s, in_qsize 5, out_qsize 0\n",
      "2021-03-23 22:14:08,707 : INFO : EPOCH 1 - PROGRESS: at 15.92% examples, 169665 words/s, in_qsize 5, out_qsize 0\n",
      "2021-03-23 22:14:09,832 : INFO : EPOCH 1 - PROGRESS: at 20.30% examples, 170792 words/s, in_qsize 5, out_qsize 0\n",
      "2021-03-23 22:14:10,841 : INFO : EPOCH 1 - PROGRESS: at 24.20% examples, 171844 words/s, in_qsize 6, out_qsize 0\n",
      "2021-03-23 22:14:11,924 : INFO : EPOCH 1 - PROGRESS: at 28.49% examples, 172131 words/s, in_qsize 6, out_qsize 0\n",
      "2021-03-23 22:14:12,930 : INFO : EPOCH 1 - PROGRESS: at 32.63% examples, 173910 words/s, in_qsize 5, out_qsize 0\n",
      "2021-03-23 22:14:14,025 : INFO : EPOCH 1 - PROGRESS: at 36.40% examples, 172687 words/s, in_qsize 6, out_qsize 0\n",
      "2021-03-23 22:14:15,064 : INFO : EPOCH 1 - PROGRESS: at 40.51% examples, 173529 words/s, in_qsize 5, out_qsize 0\n",
      "2021-03-23 22:14:16,132 : INFO : EPOCH 1 - PROGRESS: at 44.31% examples, 172144 words/s, in_qsize 6, out_qsize 0\n",
      "2021-03-23 22:14:17,151 : INFO : EPOCH 1 - PROGRESS: at 48.12% examples, 171679 words/s, in_qsize 6, out_qsize 0\n",
      "2021-03-23 22:14:18,151 : INFO : EPOCH 1 - PROGRESS: at 51.86% examples, 171513 words/s, in_qsize 5, out_qsize 0\n",
      "2021-03-23 22:14:19,160 : INFO : EPOCH 1 - PROGRESS: at 55.73% examples, 171278 words/s, in_qsize 6, out_qsize 0\n",
      "2021-03-23 22:14:20,185 : INFO : EPOCH 1 - PROGRESS: at 59.73% examples, 171481 words/s, in_qsize 6, out_qsize 0\n",
      "2021-03-23 22:14:21,211 : INFO : EPOCH 1 - PROGRESS: at 63.54% examples, 171107 words/s, in_qsize 5, out_qsize 0\n",
      "2021-03-23 22:14:22,293 : INFO : EPOCH 1 - PROGRESS: at 67.65% examples, 171276 words/s, in_qsize 5, out_qsize 0\n",
      "2021-03-23 22:14:23,293 : INFO : EPOCH 1 - PROGRESS: at 71.47% examples, 171179 words/s, in_qsize 5, out_qsize 0\n",
      "2021-03-23 22:14:24,301 : INFO : EPOCH 1 - PROGRESS: at 75.38% examples, 171023 words/s, in_qsize 5, out_qsize 0\n",
      "2021-03-23 22:14:25,305 : INFO : EPOCH 1 - PROGRESS: at 79.21% examples, 170892 words/s, in_qsize 5, out_qsize 0\n",
      "2021-03-23 22:14:26,359 : INFO : EPOCH 1 - PROGRESS: at 83.22% examples, 170839 words/s, in_qsize 5, out_qsize 0\n",
      "2021-03-23 22:14:27,370 : INFO : EPOCH 1 - PROGRESS: at 86.75% examples, 170298 words/s, in_qsize 5, out_qsize 1\n",
      "2021-03-23 22:14:28,395 : INFO : EPOCH 1 - PROGRESS: at 90.73% examples, 170469 words/s, in_qsize 6, out_qsize 0\n",
      "2021-03-23 22:14:29,411 : INFO : EPOCH 1 - PROGRESS: at 94.28% examples, 169954 words/s, in_qsize 4, out_qsize 1\n",
      "2021-03-23 22:14:30,459 : INFO : EPOCH 1 - PROGRESS: at 98.14% examples, 169645 words/s, in_qsize 6, out_qsize 0\n",
      "2021-03-23 22:14:30,806 : INFO : worker thread finished; awaiting finish of 2 more threads\n",
      "2021-03-23 22:14:30,823 : INFO : worker thread finished; awaiting finish of 1 more threads\n",
      "2021-03-23 22:14:30,897 : INFO : worker thread finished; awaiting finish of 0 more threads\n",
      "2021-03-23 22:14:30,897 : INFO : EPOCH - 1 : training on 4746571 raw words (4489364 effective words) took 26.4s, 170000 effective words/s\n",
      "2021-03-23 22:14:32,049 : INFO : EPOCH 2 - PROGRESS: at 3.95% examples, 155908 words/s, in_qsize 6, out_qsize 0\n",
      "2021-03-23 22:14:33,191 : INFO : EPOCH 2 - PROGRESS: at 8.28% examples, 164499 words/s, in_qsize 5, out_qsize 0\n",
      "2021-03-23 22:14:34,330 : INFO : EPOCH 2 - PROGRESS: at 12.68% examples, 167345 words/s, in_qsize 6, out_qsize 0\n",
      "2021-03-23 22:14:35,472 : INFO : EPOCH 2 - PROGRESS: at 17.23% examples, 168852 words/s, in_qsize 6, out_qsize 0\n",
      "2021-03-23 22:14:36,485 : INFO : EPOCH 2 - PROGRESS: at 21.33% examples, 171883 words/s, in_qsize 5, out_qsize 0\n",
      "2021-03-23 22:14:37,558 : INFO : EPOCH 2 - PROGRESS: at 25.25% examples, 170946 words/s, in_qsize 5, out_qsize 0\n",
      "2021-03-23 22:14:38,612 : INFO : EPOCH 2 - PROGRESS: at 29.36% examples, 170778 words/s, in_qsize 5, out_qsize 0\n",
      "2021-03-23 22:14:39,690 : INFO : EPOCH 2 - PROGRESS: at 33.42% examples, 171277 words/s, in_qsize 6, out_qsize 0\n",
      "2021-03-23 22:14:40,695 : INFO : EPOCH 2 - PROGRESS: at 37.04% examples, 171020 words/s, in_qsize 5, out_qsize 0\n",
      "2021-03-23 22:14:41,743 : INFO : EPOCH 2 - PROGRESS: at 41.13% examples, 171835 words/s, in_qsize 5, out_qsize 0\n",
      "2021-03-23 22:14:42,821 : INFO : EPOCH 2 - PROGRESS: at 45.17% examples, 171298 words/s, in_qsize 6, out_qsize 0\n",
      "2021-03-23 22:14:43,862 : INFO : EPOCH 2 - PROGRESS: at 49.34% examples, 172114 words/s, in_qsize 6, out_qsize 0\n",
      "2021-03-23 22:14:44,945 : INFO : EPOCH 2 - PROGRESS: at 53.39% examples, 171568 words/s, in_qsize 5, out_qsize 0\n",
      "2021-03-23 22:14:46,007 : INFO : EPOCH 2 - PROGRESS: at 57.64% examples, 171983 words/s, in_qsize 6, out_qsize 0\n",
      "2021-03-23 22:14:47,072 : INFO : EPOCH 2 - PROGRESS: at 61.65% examples, 171708 words/s, in_qsize 6, out_qsize 0\n",
      "2021-03-23 22:14:48,150 : INFO : EPOCH 2 - PROGRESS: at 65.80% examples, 171883 words/s, in_qsize 6, out_qsize 0\n",
      "2021-03-23 22:14:49,156 : INFO : EPOCH 2 - PROGRESS: at 69.49% examples, 171699 words/s, in_qsize 6, out_qsize 0\n",
      "2021-03-23 22:14:50,251 : INFO : EPOCH 2 - PROGRESS: at 73.87% examples, 171715 words/s, in_qsize 5, out_qsize 0\n",
      "2021-03-23 22:14:51,273 : INFO : EPOCH 2 - PROGRESS: at 77.92% examples, 171864 words/s, in_qsize 5, out_qsize 0\n",
      "2021-03-23 22:14:52,369 : INFO : EPOCH 2 - PROGRESS: at 82.14% examples, 171863 words/s, in_qsize 6, out_qsize 0\n",
      "2021-03-23 22:14:53,409 : INFO : EPOCH 2 - PROGRESS: at 86.16% examples, 171878 words/s, in_qsize 5, out_qsize 0\n",
      "2021-03-23 22:14:54,410 : INFO : EPOCH 2 - PROGRESS: at 90.14% examples, 172158 words/s, in_qsize 6, out_qsize 0\n",
      "2021-03-23 22:14:55,490 : INFO : EPOCH 2 - PROGRESS: at 94.10% examples, 171874 words/s, in_qsize 6, out_qsize 0\n",
      "2021-03-23 22:14:56,575 : INFO : EPOCH 2 - PROGRESS: at 98.14% examples, 171598 words/s, in_qsize 5, out_qsize 0\n",
      "2021-03-23 22:14:56,911 : INFO : worker thread finished; awaiting finish of 2 more threads\n",
      "2021-03-23 22:14:56,953 : INFO : worker thread finished; awaiting finish of 1 more threads\n",
      "2021-03-23 22:14:57,015 : INFO : worker thread finished; awaiting finish of 0 more threads\n",
      "2021-03-23 22:14:57,015 : INFO : EPOCH - 2 : training on 4746571 raw words (4489316 effective words) took 26.1s, 171910 effective words/s\n",
      "2021-03-23 22:14:58,053 : INFO : EPOCH 3 - PROGRESS: at 3.31% examples, 146014 words/s, in_qsize 6, out_qsize 0\n",
      "2021-03-23 22:14:59,121 : INFO : EPOCH 3 - PROGRESS: at 7.01% examples, 152452 words/s, in_qsize 5, out_qsize 0\n",
      "2021-03-23 22:15:00,134 : INFO : EPOCH 3 - PROGRESS: at 10.71% examples, 157129 words/s, in_qsize 6, out_qsize 0\n",
      "2021-03-23 22:15:01,141 : INFO : EPOCH 3 - PROGRESS: at 14.46% examples, 157574 words/s, in_qsize 6, out_qsize 0\n",
      "2021-03-23 22:15:02,212 : INFO : EPOCH 3 - PROGRESS: at 18.25% examples, 157687 words/s, in_qsize 6, out_qsize 0\n",
      "2021-03-23 22:15:03,325 : INFO : EPOCH 3 - PROGRESS: at 21.96% examples, 156701 words/s, in_qsize 6, out_qsize 0\n",
      "2021-03-23 22:15:04,362 : INFO : EPOCH 3 - PROGRESS: at 25.68% examples, 157545 words/s, in_qsize 6, out_qsize 0\n",
      "2021-03-23 22:15:05,397 : INFO : EPOCH 3 - PROGRESS: at 29.55% examples, 158312 words/s, in_qsize 6, out_qsize 0\n",
      "2021-03-23 22:15:06,423 : INFO : EPOCH 3 - PROGRESS: at 32.82% examples, 157067 words/s, in_qsize 6, out_qsize 0\n",
      "2021-03-23 22:15:07,504 : INFO : EPOCH 3 - PROGRESS: at 36.40% examples, 157046 words/s, in_qsize 6, out_qsize 0\n",
      "2021-03-23 22:15:08,569 : INFO : EPOCH 3 - PROGRESS: at 40.10% examples, 157210 words/s, in_qsize 6, out_qsize 0\n",
      "2021-03-23 22:15:09,659 : INFO : EPOCH 3 - PROGRESS: at 43.90% examples, 157064 words/s, in_qsize 6, out_qsize 0\n",
      "2021-03-23 22:15:10,691 : INFO : EPOCH 3 - PROGRESS: at 47.46% examples, 156918 words/s, in_qsize 6, out_qsize 0\n",
      "2021-03-23 22:15:11,731 : INFO : EPOCH 3 - PROGRESS: at 51.26% examples, 157352 words/s, in_qsize 6, out_qsize 0\n",
      "2021-03-23 22:15:12,781 : INFO : EPOCH 3 - PROGRESS: at 55.11% examples, 157636 words/s, in_qsize 6, out_qsize 0\n",
      "2021-03-23 22:15:13,826 : INFO : EPOCH 3 - PROGRESS: at 58.94% examples, 157925 words/s, in_qsize 5, out_qsize 0\n",
      "2021-03-23 22:15:14,852 : INFO : EPOCH 3 - PROGRESS: at 62.28% examples, 157273 words/s, in_qsize 5, out_qsize 0\n",
      "2021-03-23 22:15:15,905 : INFO : EPOCH 3 - PROGRESS: at 65.98% examples, 157466 words/s, in_qsize 6, out_qsize 0\n",
      "2021-03-23 22:15:16,977 : INFO : EPOCH 3 - PROGRESS: at 69.68% examples, 157519 words/s, in_qsize 5, out_qsize 0\n",
      "2021-03-23 22:15:18,056 : INFO : EPOCH 3 - PROGRESS: at 73.66% examples, 157502 words/s, in_qsize 6, out_qsize 0\n",
      "2021-03-23 22:15:19,062 : INFO : EPOCH 3 - PROGRESS: at 77.06% examples, 157129 words/s, in_qsize 6, out_qsize 0\n",
      "2021-03-23 22:15:20,139 : INFO : EPOCH 3 - PROGRESS: at 80.64% examples, 156722 words/s, in_qsize 5, out_qsize 0\n",
      "2021-03-23 22:15:21,155 : INFO : EPOCH 3 - PROGRESS: at 84.31% examples, 156757 words/s, in_qsize 5, out_qsize 0\n",
      "2021-03-23 22:15:22,209 : INFO : EPOCH 3 - PROGRESS: at 87.61% examples, 156184 words/s, in_qsize 6, out_qsize 0\n",
      "2021-03-23 22:15:23,345 : INFO : EPOCH 3 - PROGRESS: at 91.42% examples, 155872 words/s, in_qsize 6, out_qsize 0\n",
      "2021-03-23 22:15:24,386 : INFO : EPOCH 3 - PROGRESS: at 94.96% examples, 155799 words/s, in_qsize 6, out_qsize 0\n",
      "2021-03-23 22:15:25,471 : INFO : EPOCH 3 - PROGRESS: at 98.79% examples, 155835 words/s, in_qsize 5, out_qsize 0\n",
      "2021-03-23 22:15:25,694 : INFO : worker thread finished; awaiting finish of 2 more threads\n",
      "2021-03-23 22:15:25,703 : INFO : worker thread finished; awaiting finish of 1 more threads\n",
      "2021-03-23 22:15:25,778 : INFO : worker thread finished; awaiting finish of 0 more threads\n",
      "2021-03-23 22:15:25,778 : INFO : EPOCH - 3 : training on 4746571 raw words (4489175 effective words) took 28.8s, 156099 effective words/s\n",
      "2021-03-23 22:15:26,786 : INFO : EPOCH 4 - PROGRESS: at 3.52% examples, 159489 words/s, in_qsize 6, out_qsize 0\n",
      "2021-03-23 22:15:27,806 : INFO : EPOCH 4 - PROGRESS: at 7.19% examples, 162885 words/s, in_qsize 5, out_qsize 0\n",
      "2021-03-23 22:15:28,852 : INFO : EPOCH 4 - PROGRESS: at 11.16% examples, 165544 words/s, in_qsize 5, out_qsize 0\n",
      "2021-03-23 22:15:29,856 : INFO : EPOCH 4 - PROGRESS: at 15.10% examples, 166316 words/s, in_qsize 6, out_qsize 0\n",
      "2021-03-23 22:15:30,867 : INFO : EPOCH 4 - PROGRESS: at 18.89% examples, 166517 words/s, in_qsize 6, out_qsize 0\n",
      "2021-03-23 22:15:31,902 : INFO : EPOCH 4 - PROGRESS: at 22.56% examples, 166045 words/s, in_qsize 6, out_qsize 0\n",
      "2021-03-23 22:15:32,924 : INFO : EPOCH 4 - PROGRESS: at 26.52% examples, 167236 words/s, in_qsize 6, out_qsize 0\n",
      "2021-03-23 22:15:33,932 : INFO : EPOCH 4 - PROGRESS: at 30.36% examples, 167341 words/s, in_qsize 5, out_qsize 0\n",
      "2021-03-23 22:15:34,959 : INFO : EPOCH 4 - PROGRESS: at 34.00% examples, 167072 words/s, in_qsize 6, out_qsize 0\n",
      "2021-03-23 22:15:35,979 : INFO : EPOCH 4 - PROGRESS: at 37.66% examples, 166990 words/s, in_qsize 5, out_qsize 0\n",
      "2021-03-23 22:15:36,988 : INFO : EPOCH 4 - PROGRESS: at 41.34% examples, 167084 words/s, in_qsize 6, out_qsize 0\n",
      "2021-03-23 22:15:38,026 : INFO : EPOCH 4 - PROGRESS: at 45.37% examples, 167500 words/s, in_qsize 6, out_qsize 0\n",
      "2021-03-23 22:15:39,045 : INFO : EPOCH 4 - PROGRESS: at 49.09% examples, 167457 words/s, in_qsize 5, out_qsize 0\n",
      "2021-03-23 22:15:40,140 : INFO : EPOCH 4 - PROGRESS: at 53.14% examples, 167139 words/s, in_qsize 5, out_qsize 0\n",
      "2021-03-23 22:15:41,155 : INFO : EPOCH 4 - PROGRESS: at 57.03% examples, 167128 words/s, in_qsize 6, out_qsize 0\n",
      "2021-03-23 22:15:42,159 : INFO : EPOCH 4 - PROGRESS: at 60.80% examples, 167235 words/s, in_qsize 5, out_qsize 0\n",
      "2021-03-23 22:15:43,175 : INFO : EPOCH 4 - PROGRESS: at 64.77% examples, 167768 words/s, in_qsize 6, out_qsize 0\n",
      "2021-03-23 22:15:44,199 : INFO : EPOCH 4 - PROGRESS: at 68.66% examples, 168121 words/s, in_qsize 6, out_qsize 0\n",
      "2021-03-23 22:15:45,215 : INFO : EPOCH 4 - PROGRESS: at 72.57% examples, 168058 words/s, in_qsize 5, out_qsize 0\n",
      "2021-03-23 22:15:46,239 : INFO : EPOCH 4 - PROGRESS: at 76.39% examples, 167916 words/s, in_qsize 6, out_qsize 0\n",
      "2021-03-23 22:15:47,247 : INFO : EPOCH 4 - PROGRESS: at 80.23% examples, 167924 words/s, in_qsize 6, out_qsize 0\n",
      "2021-03-23 22:15:48,284 : INFO : EPOCH 4 - PROGRESS: at 84.10% examples, 167718 words/s, in_qsize 6, out_qsize 0\n",
      "2021-03-23 22:15:49,299 : INFO : EPOCH 4 - PROGRESS: at 87.83% examples, 167696 words/s, in_qsize 6, out_qsize 0\n",
      "2021-03-23 22:15:50,318 : INFO : EPOCH 4 - PROGRESS: at 91.64% examples, 167620 words/s, in_qsize 6, out_qsize 0\n",
      "2021-03-23 22:15:51,346 : INFO : EPOCH 4 - PROGRESS: at 95.36% examples, 167511 words/s, in_qsize 6, out_qsize 0\n",
      "2021-03-23 22:15:52,348 : INFO : EPOCH 4 - PROGRESS: at 99.20% examples, 167600 words/s, in_qsize 4, out_qsize 0\n",
      "2021-03-23 22:15:52,417 : INFO : worker thread finished; awaiting finish of 2 more threads\n",
      "2021-03-23 22:15:52,509 : INFO : worker thread finished; awaiting finish of 1 more threads\n",
      "2021-03-23 22:15:52,520 : INFO : worker thread finished; awaiting finish of 0 more threads\n",
      "2021-03-23 22:15:52,521 : INFO : EPOCH - 4 : training on 4746571 raw words (4488867 effective words) took 26.7s, 167878 effective words/s\n",
      "2021-03-23 22:15:53,553 : INFO : EPOCH 5 - PROGRESS: at 3.31% examples, 146761 words/s, in_qsize 6, out_qsize 0\n",
      "2021-03-23 22:15:54,569 : INFO : EPOCH 5 - PROGRESS: at 7.01% examples, 156706 words/s, in_qsize 6, out_qsize 0\n",
      "2021-03-23 22:15:55,598 : INFO : EPOCH 5 - PROGRESS: at 10.94% examples, 162334 words/s, in_qsize 6, out_qsize 0\n",
      "2021-03-23 22:15:56,599 : INFO : EPOCH 5 - PROGRESS: at 14.88% examples, 164056 words/s, in_qsize 6, out_qsize 0\n",
      "2021-03-23 22:15:57,615 : INFO : EPOCH 5 - PROGRESS: at 18.69% examples, 164574 words/s, in_qsize 6, out_qsize 0\n",
      "2021-03-23 22:15:58,638 : INFO : EPOCH 5 - PROGRESS: at 22.35% examples, 164723 words/s, in_qsize 5, out_qsize 0\n",
      "2021-03-23 22:15:59,657 : INFO : EPOCH 5 - PROGRESS: at 26.08% examples, 164855 words/s, in_qsize 6, out_qsize 0\n",
      "2021-03-23 22:16:00,670 : INFO : EPOCH 5 - PROGRESS: at 30.17% examples, 166319 words/s, in_qsize 5, out_qsize 0\n",
      "2021-03-23 22:16:01,682 : INFO : EPOCH 5 - PROGRESS: at 33.62% examples, 165415 words/s, in_qsize 6, out_qsize 0\n",
      "2021-03-23 22:16:02,694 : INFO : EPOCH 5 - PROGRESS: at 37.27% examples, 165650 words/s, in_qsize 6, out_qsize 0\n",
      "2021-03-23 22:16:03,695 : INFO : EPOCH 5 - PROGRESS: at 40.91% examples, 165970 words/s, in_qsize 6, out_qsize 0\n",
      "2021-03-23 22:16:04,704 : INFO : EPOCH 5 - PROGRESS: at 44.52% examples, 165359 words/s, in_qsize 6, out_qsize 0\n",
      "2021-03-23 22:16:05,731 : INFO : EPOCH 5 - PROGRESS: at 48.32% examples, 165344 words/s, in_qsize 6, out_qsize 0\n",
      "2021-03-23 22:16:06,749 : INFO : EPOCH 5 - PROGRESS: at 52.09% examples, 165420 words/s, in_qsize 5, out_qsize 0\n",
      "2021-03-23 22:16:07,828 : INFO : EPOCH 5 - PROGRESS: at 55.96% examples, 164843 words/s, in_qsize 6, out_qsize 0\n",
      "2021-03-23 22:16:08,911 : INFO : EPOCH 5 - PROGRESS: at 59.73% examples, 164288 words/s, in_qsize 6, out_qsize 0\n",
      "2021-03-23 22:16:09,930 : INFO : EPOCH 5 - PROGRESS: at 63.56% examples, 164405 words/s, in_qsize 6, out_qsize 0\n",
      "2021-03-23 22:16:10,987 : INFO : EPOCH 5 - PROGRESS: at 67.23% examples, 164151 words/s, in_qsize 6, out_qsize 0\n",
      "2021-03-23 22:16:11,997 : INFO : EPOCH 5 - PROGRESS: at 70.99% examples, 164352 words/s, in_qsize 6, out_qsize 0\n",
      "2021-03-23 22:16:13,005 : INFO : EPOCH 5 - PROGRESS: at 74.93% examples, 164544 words/s, in_qsize 5, out_qsize 0\n",
      "2021-03-23 22:16:14,129 : INFO : EPOCH 5 - PROGRESS: at 79.00% examples, 164239 words/s, in_qsize 6, out_qsize 0\n",
      "2021-03-23 22:16:15,160 : INFO : EPOCH 5 - PROGRESS: at 82.77% examples, 164254 words/s, in_qsize 6, out_qsize 0\n",
      "2021-03-23 22:16:16,201 : INFO : EPOCH 5 - PROGRESS: at 86.76% examples, 164592 words/s, in_qsize 5, out_qsize 0\n",
      "2021-03-23 22:16:17,276 : INFO : EPOCH 5 - PROGRESS: at 90.35% examples, 163907 words/s, in_qsize 5, out_qsize 0\n",
      "2021-03-23 22:16:18,277 : INFO : EPOCH 5 - PROGRESS: at 93.68% examples, 163383 words/s, in_qsize 6, out_qsize 0\n",
      "2021-03-23 22:16:19,303 : INFO : EPOCH 5 - PROGRESS: at 97.33% examples, 163112 words/s, in_qsize 5, out_qsize 0\n",
      "2021-03-23 22:16:19,943 : INFO : worker thread finished; awaiting finish of 2 more threads\n",
      "2021-03-23 22:16:19,979 : INFO : worker thread finished; awaiting finish of 1 more threads\n",
      "2021-03-23 22:16:20,031 : INFO : worker thread finished; awaiting finish of 0 more threads\n",
      "2021-03-23 22:16:20,032 : INFO : EPOCH - 5 : training on 4746571 raw words (4489405 effective words) took 27.5s, 163216 effective words/s\n",
      "2021-03-23 22:16:20,032 : INFO : training on a 23732855 raw words (22446127 effective words) took 135.5s, 165595 effective words/s\n"
     ]
    }
   ],
   "source": [
    "import logging\n",
    "logging.basicConfig(format='%(asctime)s : %(levelname)s : %(message)s', level=logging.INFO)\n",
    "\n",
    "# Using skipgram word2vec model\n",
    "word2vec_sg_model = models.Word2Vec(sentences=comments, size=300, window=10, min_count=1, sg=1, hs=1, negative=0)"
   ]
  },
  {
   "cell_type": "code",
   "execution_count": 35,
   "metadata": {},
   "outputs": [],
   "source": [
    "# Helper function to generate vectors for docs or sentences from a given Word2Vec model\n",
    "def docvec_from_wordvec(docs, wordvec_model=None):\n",
    "    doc_vecs = []\n",
    "    for doc in docs:\n",
    "        doc_vec = np.zeros((wordvec_model.wv.vectors.shape[1],))\n",
    "        vectors_added = 0\n",
    "        for token in doc:\n",
    "            try:\n",
    "                doc_vec += wordvec_model.wv.get_vector(token)\n",
    "                vectors_added += 1\n",
    "            except:\n",
    "                continue\n",
    "        if vectors_added != 0:\n",
    "            doc_vec = doc_vec / vectors_added\n",
    "        doc_vecs.append(doc_vec)\n",
    "    \n",
    "    return np.array(doc_vecs)"
   ]
  },
  {
   "cell_type": "markdown",
   "metadata": {},
   "source": [
    "Build vectors for comments and train the classifier model using those vectors"
   ]
  },
  {
   "cell_type": "code",
   "execution_count": 36,
   "metadata": {},
   "outputs": [
    {
     "name": "stdout",
     "output_type": "stream",
     "text": [
      "(159571, 300)\n"
     ]
    }
   ],
   "source": [
    "comment_vecs = docvec_from_wordvec(comments, word2vec_sg_model)\n",
    "print(comment_vecs.shape)"
   ]
  },
  {
   "cell_type": "code",
   "execution_count": 37,
   "metadata": {},
   "outputs": [
    {
     "data": {
      "text/plain": [
       "MultiOutputClassifier(estimator=LinearSVC(random_state=23), n_jobs=-1)"
      ]
     },
     "execution_count": 37,
     "metadata": {},
     "output_type": "execute_result"
    }
   ],
   "source": [
    "multilabel_svm.fit(comment_vecs, train_df[labels])"
   ]
  },
  {
   "cell_type": "markdown",
   "metadata": {},
   "source": [
    "Predict the test comments data using the trained model"
   ]
  },
  {
   "cell_type": "code",
   "execution_count": 38,
   "metadata": {},
   "outputs": [
    {
     "name": "stdout",
     "output_type": "stream",
     "text": [
      "(153164, 300)\n"
     ]
    }
   ],
   "source": [
    "test_comments = test_df['comment_text'].apply(preprocess_string)\n",
    "test_comment_vecs = docvec_from_wordvec(test_comments, word2vec_sg_model)\n",
    "print(test_comment_vecs.shape)"
   ]
  },
  {
   "cell_type": "code",
   "execution_count": 39,
   "metadata": {},
   "outputs": [
    {
     "name": "stdout",
     "output_type": "stream",
     "text": [
      "[[1 0 1 0 0 0]\n",
      " [0 0 0 0 0 0]\n",
      " [0 0 0 0 0 0]\n",
      " ...\n",
      " [0 0 0 0 0 0]\n",
      " [0 0 0 0 0 0]\n",
      " [1 0 0 0 0 0]]\n"
     ]
    }
   ],
   "source": [
    "preds_word2vec_svm = multilabel_svm.predict(test_comment_vecs)\n",
    "print(preds_word2vec_svm)"
   ]
  },
  {
   "cell_type": "code",
   "execution_count": 45,
   "metadata": {},
   "outputs": [],
   "source": [
    "# Create dataframe in the format of sample_submission.csv\n",
    "preds_word2vec_svm_df = pd.DataFrame({'id': test_df['id']})\n",
    "preds_word2vec_svm_df = pd.concat([preds_word2vec_svm_df, pd.DataFrame(preds_word2vec_svm, columns=labels)], axis=1)\n",
    "\n",
    "# Use test_labels_filtered created in above cells\n",
    "preds_word2vec_svm_df_filtered = preds_word2vec_svm_df[preds_word2vec_svm_df.id.isin(test_labels_filtered.id)]"
   ]
  },
  {
   "cell_type": "markdown",
   "metadata": {},
   "source": [
    "Plotting confusion matrix of the predicted labels with the groundtruth labels"
   ]
  },
  {
   "cell_type": "code",
   "execution_count": 46,
   "metadata": {},
   "outputs": [
    {
     "data": {
      "image/png": "[encoded data removed]",
      "text/plain": [
       "<Figure size 432x288 with 2 Axes>"
      ]
     },
     "metadata": {
      "needs_background": "light"
     },
     "output_type": "display_data"
    },
    {
     "data": {
      "image/png": "[encoded data removed]",
      "text/plain": [
       "<Figure size 432x288 with 2 Axes>"
      ]
     },
     "metadata": {
      "needs_background": "light"
     },
     "output_type": "display_data"
    },
    {
     "data": {
      "image/png": "[encoded data removed]",
      "text/plain": [
       "<Figure size 432x288 with 2 Axes>"
      ]
     },
     "metadata": {
      "needs_background": "light"
     },
     "output_type": "display_data"
    },
    {
     "data": {
      "image/png": "[encoded data removed]",
      "text/plain": [
       "<Figure size 432x288 with 2 Axes>"
      ]
     },
     "metadata": {
      "needs_background": "light"
     },
     "output_type": "display_data"
    },
    {
     "data": {
      "image/png": "[encoded data removed]",
      "text/plain": [
       "<Figure size 432x288 with 2 Axes>"
      ]
     },
     "metadata": {
      "needs_background": "light"
     },
     "output_type": "display_data"
    },
    {
     "data": {
      "image/png": "[encoded data removed]",
      "text/plain": [
       "<Figure size 432x288 with 2 Axes>"
      ]
     },
     "metadata": {
      "needs_background": "light"
     },
     "output_type": "display_data"
    }
   ],
   "source": [
    "# Generate multiclass confusion matrices\n",
    "matrices = multilabel_confusion_matrix(\n",
    "    test_labels_filtered[labels], preds_word2vec_svm_df_filtered[labels],\n",
    ")\n",
    "\n",
    "# Plotting matrices: code\n",
    "for i, label in enumerate(labels):\n",
    "    cmd = ConfusionMatrixDisplay(matrices[i]).plot()\n",
    "    plt.title(f'Confusion Matrix for class {label} (type)')\n",
    "    plt.show()\n"
   ]
  },
  {
   "cell_type": "markdown",
   "metadata": {},
   "source": [
    "**Micro and macro precision, recall, f1-score using Word2Vec representation**"
   ]
  },
  {
   "cell_type": "code",
   "execution_count": 47,
   "metadata": {},
   "outputs": [
    {
     "name": "stdout",
     "output_type": "stream",
     "text": [
      "Overall:\n",
      "               precision    recall  f1-score   support\n",
      "\n",
      "        toxic       0.65      0.69      0.67      6090\n",
      " severe_toxic       0.19      0.11      0.14       367\n",
      "      obscene       0.70      0.59      0.64      3691\n",
      "       threat       0.28      0.07      0.11       211\n",
      "       insult       0.63      0.44      0.52      3427\n",
      "identity_hate       0.62      0.15      0.24       712\n",
      "\n",
      "    micro avg       0.65      0.55      0.60     14498\n",
      "    macro avg       0.51      0.34      0.39     14498\n",
      " weighted avg       0.64      0.55      0.58     14498\n",
      "  samples avg       0.06      0.05      0.05     14498\n",
      "\n",
      "-------------------------------------------------------\n",
      "For class toxic:\n",
      "              precision    recall  f1-score   support\n",
      "\n",
      "           0       0.97      0.96      0.96     57888\n",
      "           1       0.65      0.69      0.67      6090\n",
      "\n",
      "    accuracy                           0.94     63978\n",
      "   macro avg       0.81      0.82      0.82     63978\n",
      "weighted avg       0.94      0.94      0.94     63978\n",
      "\n",
      "For class severe_toxic:\n",
      "              precision    recall  f1-score   support\n",
      "\n",
      "           0       0.99      1.00      1.00     63611\n",
      "           1       0.19      0.11      0.14       367\n",
      "\n",
      "    accuracy                           0.99     63978\n",
      "   macro avg       0.59      0.55      0.57     63978\n",
      "weighted avg       0.99      0.99      0.99     63978\n",
      "\n",
      "For class obscene:\n",
      "              precision    recall  f1-score   support\n",
      "\n",
      "           0       0.98      0.98      0.98     60287\n",
      "           1       0.70      0.59      0.64      3691\n",
      "\n",
      "    accuracy                           0.96     63978\n",
      "   macro avg       0.84      0.79      0.81     63978\n",
      "weighted avg       0.96      0.96      0.96     63978\n",
      "\n",
      "For class threat:\n",
      "              precision    recall  f1-score   support\n",
      "\n",
      "           0       1.00      1.00      1.00     63767\n",
      "           1       0.28      0.07      0.11       211\n",
      "\n",
      "    accuracy                           1.00     63978\n",
      "   macro avg       0.64      0.53      0.55     63978\n",
      "weighted avg       0.99      1.00      1.00     63978\n",
      "\n",
      "For class insult:\n",
      "              precision    recall  f1-score   support\n",
      "\n",
      "           0       0.97      0.99      0.98     60551\n",
      "           1       0.63      0.44      0.52      3427\n",
      "\n",
      "    accuracy                           0.96     63978\n",
      "   macro avg       0.80      0.71      0.75     63978\n",
      "weighted avg       0.95      0.96      0.95     63978\n",
      "\n",
      "For class identity_hate:\n",
      "              precision    recall  f1-score   support\n",
      "\n",
      "           0       0.99      1.00      0.99     63266\n",
      "           1       0.62      0.15      0.24       712\n",
      "\n",
      "    accuracy                           0.99     63978\n",
      "   macro avg       0.81      0.58      0.62     63978\n",
      "weighted avg       0.99      0.99      0.99     63978\n",
      "\n"
     ]
    }
   ],
   "source": [
    "print(\"Overall:\")\n",
    "print(classification_report(test_labels_filtered[labels], preds_word2vec_svm_df_filtered[labels], target_names=labels))\n",
    "\n",
    "print(\"-------------------------------------------------------\")\n",
    "\n",
    "for label in labels:\n",
    "    print(f\"For class {label}:\")\n",
    "    print(classification_report(test_labels_filtered[label], preds_word2vec_svm_df_filtered[label]))"
   ]
  },
  {
   "cell_type": "markdown",
   "metadata": {},
   "source": [
    "## Final micro and macro precision, recall, f1-score for TF-IDF and Word2Vec with Linear SVM approaches"
   ]
  },
  {
   "cell_type": "code",
   "execution_count": 48,
   "metadata": {},
   "outputs": [
    {
     "name": "stdout",
     "output_type": "stream",
     "text": [
      "Overall:\n",
      "TF-IDF -\n",
      "               precision    recall  f1-score   support\n",
      "\n",
      "        toxic       0.58      0.79      0.67      6090\n",
      " severe_toxic       0.37      0.37      0.37       367\n",
      "      obscene       0.67      0.71      0.69      3691\n",
      "       threat       0.47      0.23      0.31       211\n",
      "       insult       0.68      0.56      0.61      3427\n",
      "identity_hate       0.66      0.33      0.44       712\n",
      "\n",
      "    micro avg       0.61      0.67      0.64     14498\n",
      "    macro avg       0.57      0.50      0.51     14498\n",
      " weighted avg       0.62      0.67      0.64     14498\n",
      "  samples avg       0.07      0.06      0.06     14498\n",
      "\n",
      "\n",
      "Word2Vec -\n",
      "               precision    recall  f1-score   support\n",
      "\n",
      "        toxic       0.65      0.69      0.67      6090\n",
      " severe_toxic       0.19      0.11      0.14       367\n",
      "      obscene       0.70      0.59      0.64      3691\n",
      "       threat       0.28      0.07      0.11       211\n",
      "       insult       0.63      0.44      0.52      3427\n",
      "identity_hate       0.62      0.15      0.24       712\n",
      "\n",
      "    micro avg       0.65      0.55      0.60     14498\n",
      "    macro avg       0.51      0.34      0.39     14498\n",
      " weighted avg       0.64      0.55      0.58     14498\n",
      "  samples avg       0.06      0.05      0.05     14498\n",
      "\n",
      "-------------------------------------------------------\n",
      "For class toxic:\n",
      "TF-IDF -\n",
      "              precision    recall  f1-score   support\n",
      "\n",
      "           0       0.98      0.94      0.96     57888\n",
      "           1       0.58      0.79      0.67      6090\n",
      "\n",
      "    accuracy                           0.92     63978\n",
      "   macro avg       0.78      0.87      0.81     63978\n",
      "weighted avg       0.94      0.92      0.93     63978\n",
      "\n",
      "\n",
      "Word2Vec -\n",
      "              precision    recall  f1-score   support\n",
      "\n",
      "           0       0.97      0.96      0.96     57888\n",
      "           1       0.65      0.69      0.67      6090\n",
      "\n",
      "    accuracy                           0.94     63978\n",
      "   macro avg       0.81      0.82      0.82     63978\n",
      "weighted avg       0.94      0.94      0.94     63978\n",
      "\n",
      "For class severe_toxic:\n",
      "TF-IDF -\n",
      "              precision    recall  f1-score   support\n",
      "\n",
      "           0       1.00      1.00      1.00     63611\n",
      "           1       0.37      0.37      0.37       367\n",
      "\n",
      "    accuracy                           0.99     63978\n",
      "   macro avg       0.68      0.68      0.68     63978\n",
      "weighted avg       0.99      0.99      0.99     63978\n",
      "\n",
      "\n",
      "Word2Vec -\n",
      "              precision    recall  f1-score   support\n",
      "\n",
      "           0       0.99      1.00      1.00     63611\n",
      "           1       0.19      0.11      0.14       367\n",
      "\n",
      "    accuracy                           0.99     63978\n",
      "   macro avg       0.59      0.55      0.57     63978\n",
      "weighted avg       0.99      0.99      0.99     63978\n",
      "\n",
      "For class obscene:\n",
      "TF-IDF -\n",
      "              precision    recall  f1-score   support\n",
      "\n",
      "           0       0.98      0.98      0.98     60287\n",
      "           1       0.67      0.71      0.69      3691\n",
      "\n",
      "    accuracy                           0.96     63978\n",
      "   macro avg       0.83      0.84      0.84     63978\n",
      "weighted avg       0.96      0.96      0.96     63978\n",
      "\n",
      "\n",
      "Word2Vec -\n",
      "              precision    recall  f1-score   support\n",
      "\n",
      "           0       0.98      0.98      0.98     60287\n",
      "           1       0.70      0.59      0.64      3691\n",
      "\n",
      "    accuracy                           0.96     63978\n",
      "   macro avg       0.84      0.79      0.81     63978\n",
      "weighted avg       0.96      0.96      0.96     63978\n",
      "\n",
      "For class threat:\n",
      "TF-IDF -\n",
      "              precision    recall  f1-score   support\n",
      "\n",
      "           0       1.00      1.00      1.00     63767\n",
      "           1       0.47      0.23      0.31       211\n",
      "\n",
      "    accuracy                           1.00     63978\n",
      "   macro avg       0.73      0.61      0.65     63978\n",
      "weighted avg       1.00      1.00      1.00     63978\n",
      "\n",
      "\n",
      "Word2Vec -\n",
      "              precision    recall  f1-score   support\n",
      "\n",
      "           0       1.00      1.00      1.00     63767\n",
      "           1       0.28      0.07      0.11       211\n",
      "\n",
      "    accuracy                           1.00     63978\n",
      "   macro avg       0.64      0.53      0.55     63978\n",
      "weighted avg       0.99      1.00      1.00     63978\n",
      "\n",
      "For class insult:\n",
      "TF-IDF -\n",
      "              precision    recall  f1-score   support\n",
      "\n",
      "           0       0.98      0.98      0.98     60551\n",
      "           1       0.68      0.56      0.61      3427\n",
      "\n",
      "    accuracy                           0.96     63978\n",
      "   macro avg       0.83      0.77      0.80     63978\n",
      "weighted avg       0.96      0.96      0.96     63978\n",
      "\n",
      "\n",
      "Word2Vec -\n",
      "              precision    recall  f1-score   support\n",
      "\n",
      "           0       0.97      0.99      0.98     60551\n",
      "           1       0.63      0.44      0.52      3427\n",
      "\n",
      "    accuracy                           0.96     63978\n",
      "   macro avg       0.80      0.71      0.75     63978\n",
      "weighted avg       0.95      0.96      0.95     63978\n",
      "\n",
      "For class identity_hate:\n",
      "TF-IDF -\n",
      "              precision    recall  f1-score   support\n",
      "\n",
      "           0       0.99      1.00      1.00     63266\n",
      "           1       0.66      0.33      0.44       712\n",
      "\n",
      "    accuracy                           0.99     63978\n",
      "   macro avg       0.83      0.67      0.72     63978\n",
      "weighted avg       0.99      0.99      0.99     63978\n",
      "\n",
      "\n",
      "Word2Vec -\n",
      "              precision    recall  f1-score   support\n",
      "\n",
      "           0       0.99      1.00      0.99     63266\n",
      "           1       0.62      0.15      0.24       712\n",
      "\n",
      "    accuracy                           0.99     63978\n",
      "   macro avg       0.81      0.58      0.62     63978\n",
      "weighted avg       0.99      0.99      0.99     63978\n",
      "\n"
     ]
    }
   ],
   "source": [
    "print(\"Overall:\")\n",
    "print(\"TF-IDF -\")\n",
    "print(classification_report(test_labels_filtered[labels], preds_tfidf_svm_df_filtered[labels], target_names=labels))\n",
    "print(\"\\nWord2Vec -\")\n",
    "print(classification_report(test_labels_filtered[labels], preds_word2vec_svm_df_filtered[labels], target_names=labels))\n",
    "\n",
    "print(\"-------------------------------------------------------\")\n",
    "\n",
    "for label in labels:\n",
    "    print(f\"For class {label}:\")\n",
    "    print(\"TF-IDF -\")\n",
    "    print(classification_report(test_labels_filtered[label], preds_tfidf_svm_df_filtered[label]))\n",
    "    print(\"\\nWord2Vec -\")\n",
    "    print(classification_report(test_labels_filtered[label], preds_word2vec_svm_df_filtered[label]))"
   ]
  }
 ],
 "metadata": {
  "kernelspec": {
   "display_name": "Python 3",
   "language": "python",
   "name": "python3"
  },
  "language_info": {
   "codemirror_mode": {
    "name": "ipython",
    "version": 3
   },
   "file_extension": ".py",
   "mimetype": "text/x-python",
   "name": "python",
   "nbconvert_exporter": "python",
   "pygments_lexer": "ipython3",
   "version": "3.8.5"
  }
 },
 "nbformat": 4,
 "nbformat_minor": 4
}
